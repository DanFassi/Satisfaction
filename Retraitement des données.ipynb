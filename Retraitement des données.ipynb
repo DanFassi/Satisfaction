{
 "cells": [
  {
   "cell_type": "markdown",
   "id": "afdb2402",
   "metadata": {},
   "source": [
    "Importation des modules nécéssaires"
   ]
  },
  {
   "cell_type": "code",
   "execution_count": 99,
   "id": "9b57e9f7",
   "metadata": {},
   "outputs": [],
   "source": [
    "import pandas as pd\n",
    "from langdetect import detect\n",
    "from sklearn.preprocessing import MinMaxScaler\n",
    "\n",
    "df = pd.read_csv(\"Data_Satisfaction_Original.csv\")"
   ]
  },
  {
   "cell_type": "code",
   "execution_count": 6,
   "id": "31e8a18d",
   "metadata": {},
   "outputs": [],
   "source": [
    "#Suppressions colonne maj et Commentaires NAN"
   ]
  },
  {
   "cell_type": "code",
   "execution_count": 100,
   "id": "17349e91",
   "metadata": {},
   "outputs": [],
   "source": [
    "df =df.drop(['maj'], axis = 1)\n",
    "df = df.dropna(axis = 0, how = \"all\", subset =[\"Commentaire\"])"
   ]
  },
  {
   "cell_type": "code",
   "execution_count": null,
   "id": "9050280f",
   "metadata": {},
   "outputs": [],
   "source": [
    "#création d'une colonne catégorisant la langue d'un commentaire"
   ]
  },
  {
   "cell_type": "code",
   "execution_count": 101,
   "id": "03231f99",
   "metadata": {},
   "outputs": [],
   "source": [
    "df[\"Language\"] = df.Commentaire.apply(lambda row : detect(str(row)))"
   ]
  },
  {
   "cell_type": "code",
   "execution_count": null,
   "id": "24eb58dd",
   "metadata": {},
   "outputs": [],
   "source": [
    "#suppressions des lignes de commentaires en langue étrangere"
   ]
  },
  {
   "cell_type": "code",
   "execution_count": 102,
   "id": "053ec876",
   "metadata": {},
   "outputs": [],
   "source": [
    "df = df.drop(df[df[\"Language\"]!= \"fr\"].index, axis = 0)"
   ]
  },
  {
   "cell_type": "code",
   "execution_count": null,
   "id": "43e63119",
   "metadata": {},
   "outputs": [],
   "source": [
    "#suppression des doublons"
   ]
  },
  {
   "cell_type": "code",
   "execution_count": 103,
   "id": "ef620988",
   "metadata": {},
   "outputs": [],
   "source": [
    "df = df.drop_duplicates(keep = \"first\")"
   ]
  },
  {
   "cell_type": "code",
   "execution_count": null,
   "id": "fd60e8c8",
   "metadata": {},
   "outputs": [],
   "source": [
    "#Attribution valeur 1 ou 0 suivant la présence de données ou de NAN pour les colonnes client, ville "
   ]
  },
  {
   "cell_type": "code",
   "execution_count": 104,
   "id": "c415a8e8",
   "metadata": {},
   "outputs": [],
   "source": [
    "df[\"client\"] = df[\"client\"].isna().replace(to_replace =[False,True], value=[1,0])\n",
    "df[\"ville\"] = df[\"ville\"].isna().replace(to_replace =[False,True], value=[1,0])"
   ]
  },
  {
   "cell_type": "markdown",
   "id": "360c8701",
   "metadata": {},
   "source": [
    "Attribution de valeur numérique pour les colonnes source et company"
   ]
  },
  {
   "cell_type": "code",
   "execution_count": 105,
   "id": "0101945d",
   "metadata": {},
   "outputs": [],
   "source": [
    "df[\"source\"] = df[\"source\"].isna().replace(to_replace =[\"TrustPilot\",\"TrustedShop\"], value=[1,0]).astype(\"int64\")\n",
    "df[\"company\"] = df[\"company\"].isna().replace(to_replace =[\"ShowRoom\",\"VeePee\"], value=[1,0]).astype(\"int64\")"
   ]
  },
  {
   "cell_type": "markdown",
   "id": "70734e66",
   "metadata": {},
   "source": [
    "Attribution de valeur numérique de sentiment pour la colonne reponse: 0 pour Nan, 1 pour bon, 2 pour mauvais"
   ]
  },
  {
   "cell_type": "code",
   "execution_count": 106,
   "id": "2529e014",
   "metadata": {},
   "outputs": [],
   "source": [
    "df[\"sentiment_reponse\"] = df.reponse.apply(lambda row : \"absente\" if pd.isnull(row)\n",
    "                                            else (\"positive\" if (\"merci\" or \"remercions\") in row.lower()\n",
    "                                                       else \"negative\"))"
   ]
  },
  {
   "cell_type": "code",
   "execution_count": 107,
   "id": "16e99669",
   "metadata": {},
   "outputs": [],
   "source": [
    "df = df.join(pd.get_dummies(df[\"sentiment_reponse\"],prefix=\"reponse\", prefix_sep='_'))"
   ]
  },
  {
   "cell_type": "markdown",
   "id": "2e7437db",
   "metadata": {},
   "source": [
    "remplacement des na de la colonne ecart par la modalité la plus fréquente observée"
   ]
  },
  {
   "cell_type": "code",
   "execution_count": 108,
   "id": "428827a8",
   "metadata": {},
   "outputs": [],
   "source": [
    "df[\"ecart\"] = df[\"ecart\"].fillna(df[\"ecart\"].mode()[0])"
   ]
  },
  {
   "cell_type": "markdown",
   "id": "4918696e",
   "metadata": {},
   "source": [
    "suppression colonne date_commande"
   ]
  },
  {
   "cell_type": "code",
   "execution_count": 109,
   "id": "f8ec695d",
   "metadata": {},
   "outputs": [],
   "source": [
    "df =df.drop([\"date_commande\"], axis = 1)"
   ]
  },
  {
   "cell_type": "markdown",
   "id": "03a9c564",
   "metadata": {},
   "source": [
    "Transformation date"
   ]
  },
  {
   "cell_type": "code",
   "execution_count": 110,
   "id": "9f643cab",
   "metadata": {},
   "outputs": [],
   "source": [
    "df[\"date\"]=pd.to_datetime(df['date'], utc=True)"
   ]
  },
  {
   "cell_type": "code",
   "execution_count": 111,
   "id": "544c78b2",
   "metadata": {},
   "outputs": [],
   "source": [
    "df[\"date_annee\"] = pd.DatetimeIndex(df['date']).year\n",
    "df[\"date_mois\"] = pd.DatetimeIndex(df['date']).month\n",
    "df[\"date_jour\"]= pd.DatetimeIndex(df['date']).day\n"
   ]
  },
  {
   "cell_type": "markdown",
   "id": "2fbeeea0",
   "metadata": {},
   "source": [
    "Remplacement des dates NAN par le mode"
   ]
  },
  {
   "cell_type": "code",
   "execution_count": 112,
   "id": "f9008f85",
   "metadata": {},
   "outputs": [],
   "source": [
    "df[\"date_annee\"] = df[\"date_annee\"].fillna(df[\"date_annee\"].mode()[0]) \n",
    "df[\"date_mois\"] = df[\"date_mois\"].fillna(df[\"date_mois\"].mode()[0])\n",
    "df[\"date_jour\"] = df[\"date_jour\"].fillna(df[\"date_jour\"].mode()[0])"
   ]
  },
  {
   "cell_type": "markdown",
   "id": "328c4772",
   "metadata": {},
   "source": [
    "normalisation des valeurs numérique supérieur à 1"
   ]
  },
  {
   "cell_type": "code",
   "execution_count": 114,
   "id": "036a3945",
   "metadata": {},
   "outputs": [],
   "source": [
    "mmscaler = MinMaxScaler()"
   ]
  },
  {
   "cell_type": "code",
   "execution_count": 159,
   "id": "91b562cc",
   "metadata": {},
   "outputs": [],
   "source": [
    "df[[\"ecart\",\"date_annee\",\"date_mois\",\"date_jour\"]] = mmscaler.fit_transform(df[[\"ecart\",\"date_annee\",\"date_mois\",\"date_jour\"]])"
   ]
  },
  {
   "cell_type": "code",
   "execution_count": 164,
   "id": "24cacd6b",
   "metadata": {},
   "outputs": [
    {
     "data": {
      "text/html": [
       "<div>\n",
       "<style scoped>\n",
       "    .dataframe tbody tr th:only-of-type {\n",
       "        vertical-align: middle;\n",
       "    }\n",
       "\n",
       "    .dataframe tbody tr th {\n",
       "        vertical-align: top;\n",
       "    }\n",
       "\n",
       "    .dataframe thead th {\n",
       "        text-align: right;\n",
       "    }\n",
       "</style>\n",
       "<table border=\"1\" class=\"dataframe\">\n",
       "  <thead>\n",
       "    <tr style=\"text-align: right;\">\n",
       "      <th></th>\n",
       "      <th>Commentaire</th>\n",
       "      <th>star</th>\n",
       "      <th>client</th>\n",
       "      <th>source</th>\n",
       "      <th>company</th>\n",
       "      <th>ville</th>\n",
       "      <th>ecart</th>\n",
       "      <th>reponse_absente</th>\n",
       "      <th>reponse_negative</th>\n",
       "      <th>reponse_positive</th>\n",
       "      <th>date_annee</th>\n",
       "      <th>date_mois</th>\n",
       "      <th>date_jour</th>\n",
       "    </tr>\n",
       "  </thead>\n",
       "  <tbody>\n",
       "    <tr>\n",
       "      <th>0</th>\n",
       "      <td>Bonjour , Ca doit faire 5 ans environ que je s...</td>\n",
       "      <td>1</td>\n",
       "      <td>1</td>\n",
       "      <td>0</td>\n",
       "      <td>0</td>\n",
       "      <td>0</td>\n",
       "      <td>0.06993</td>\n",
       "      <td>1</td>\n",
       "      <td>0</td>\n",
       "      <td>0</td>\n",
       "      <td>1.0</td>\n",
       "      <td>0.454545</td>\n",
       "      <td>0.633333</td>\n",
       "    </tr>\n",
       "    <tr>\n",
       "      <th>1</th>\n",
       "      <td>Vente lacoste article manquant photo prise sur...</td>\n",
       "      <td>1</td>\n",
       "      <td>1</td>\n",
       "      <td>0</td>\n",
       "      <td>0</td>\n",
       "      <td>0</td>\n",
       "      <td>0.06993</td>\n",
       "      <td>1</td>\n",
       "      <td>0</td>\n",
       "      <td>0</td>\n",
       "      <td>1.0</td>\n",
       "      <td>0.454545</td>\n",
       "      <td>0.633333</td>\n",
       "    </tr>\n",
       "    <tr>\n",
       "      <th>2</th>\n",
       "      <td>Vente Lacoste Honteuse , article erroné , arti...</td>\n",
       "      <td>1</td>\n",
       "      <td>1</td>\n",
       "      <td>0</td>\n",
       "      <td>0</td>\n",
       "      <td>0</td>\n",
       "      <td>0.06993</td>\n",
       "      <td>1</td>\n",
       "      <td>0</td>\n",
       "      <td>0</td>\n",
       "      <td>1.0</td>\n",
       "      <td>0.454545</td>\n",
       "      <td>0.600000</td>\n",
       "    </tr>\n",
       "    <tr>\n",
       "      <th>3</th>\n",
       "      <td>J'ai commandé des mules de la marque Moosefiel...</td>\n",
       "      <td>2</td>\n",
       "      <td>1</td>\n",
       "      <td>0</td>\n",
       "      <td>0</td>\n",
       "      <td>0</td>\n",
       "      <td>0.06993</td>\n",
       "      <td>0</td>\n",
       "      <td>1</td>\n",
       "      <td>0</td>\n",
       "      <td>1.0</td>\n",
       "      <td>0.454545</td>\n",
       "      <td>0.600000</td>\n",
       "    </tr>\n",
       "    <tr>\n",
       "      <th>4</th>\n",
       "      <td>Commande téléphone etat A+ . Livraison d un vi...</td>\n",
       "      <td>1</td>\n",
       "      <td>1</td>\n",
       "      <td>0</td>\n",
       "      <td>0</td>\n",
       "      <td>0</td>\n",
       "      <td>0.06993</td>\n",
       "      <td>0</td>\n",
       "      <td>1</td>\n",
       "      <td>0</td>\n",
       "      <td>1.0</td>\n",
       "      <td>0.454545</td>\n",
       "      <td>0.600000</td>\n",
       "    </tr>\n",
       "  </tbody>\n",
       "</table>\n",
       "</div>"
      ],
      "text/plain": [
       "                                         Commentaire  star  client  source  \\\n",
       "0  Bonjour , Ca doit faire 5 ans environ que je s...     1       1       0   \n",
       "1  Vente lacoste article manquant photo prise sur...     1       1       0   \n",
       "2  Vente Lacoste Honteuse , article erroné , arti...     1       1       0   \n",
       "3  J'ai commandé des mules de la marque Moosefiel...     2       1       0   \n",
       "4  Commande téléphone etat A+ . Livraison d un vi...     1       1       0   \n",
       "\n",
       "   company  ville    ecart  reponse_absente  reponse_negative  \\\n",
       "0        0      0  0.06993                1                 0   \n",
       "1        0      0  0.06993                1                 0   \n",
       "2        0      0  0.06993                1                 0   \n",
       "3        0      0  0.06993                0                 1   \n",
       "4        0      0  0.06993                0                 1   \n",
       "\n",
       "   reponse_positive  date_annee  date_mois  date_jour  \n",
       "0                 0         1.0   0.454545   0.633333  \n",
       "1                 0         1.0   0.454545   0.633333  \n",
       "2                 0         1.0   0.454545   0.600000  \n",
       "3                 0         1.0   0.454545   0.600000  \n",
       "4                 0         1.0   0.454545   0.600000  "
      ]
     },
     "execution_count": 164,
     "metadata": {},
     "output_type": "execute_result"
    }
   ],
   "source": [
    "df2 =df.drop([\"date\",'reponse',\"Language\",\"sentiment_reponse\"], axis = 1)"
   ]
  },
  {
   "cell_type": "markdown",
   "id": "04fe3a76",
   "metadata": {},
   "source": [
    "Mise à jour du stop word et application aux commentaires."
   ]
  },
  {
   "cell_type": "code",
   "execution_count": 168,
   "id": "d728ae99",
   "metadata": {},
   "outputs": [],
   "source": [
    "from nltk.corpus import stopwords\n",
    "stop_words = set(stopwords.words('french'))\n",
    "\n",
    "stop_words.update([\"toujour\", \"commande\",\"article\",\"euro\",\"faire\",\"donc\",\"car\",\" si \",\"c'est\",\"comme\",\" alor \",\" fait \"])\n",
    "stop_words.update([\".\",\",\",\"!\",\"'\",\"...\",\"’\", \"a\",\"toujours\",\"tres\",\"j'ai\",\"ça\",\"chez\",\"quand\"])"
   ]
  },
  {
   "cell_type": "code",
   "execution_count": 170,
   "id": "901c1b56",
   "metadata": {},
   "outputs": [],
   "source": [
    "def stop_words_filtering(my_comment):\n",
    "    new_comment =\"\"\n",
    "    for word in my_comment.lower().split(\" \"):\n",
    "        if word not in stop_words:\n",
    "            new_comment += word\n",
    "            new_comment += \" \"\n",
    "    return new_comment\n",
    "\n",
    "df2[\"Commentaires_reduit\"] = df2.Commentaire.apply(lambda row : stop_words_filtering(row))"
   ]
  },
  {
   "cell_type": "markdown",
   "id": "a365faba",
   "metadata": {},
   "source": [
    "Suppression des nombres ou des numero dans les commentaires"
   ]
  },
  {
   "cell_type": "code",
   "execution_count": 173,
   "id": "4551326b",
   "metadata": {},
   "outputs": [
    {
     "name": "stdout",
     "output_type": "stream",
     "text": [
      "c'est super cool comme superstition\n"
     ]
    }
   ],
   "source": [
    "import re\n",
    "r = re.compile(r\"[0-9]+\") \n",
    "def words_nonum(my_comment):\n",
    "    new_comment =r.sub('', my_comment)\n",
    "    return new_comment"
   ]
  },
  {
   "cell_type": "code",
   "execution_count": 177,
   "id": "480176bf",
   "metadata": {},
   "outputs": [],
   "source": [
    "df2[\"Commentaires_reduit\"] = df.Commentaires_reduit.apply(lambda row : words_nonum(row))"
   ]
  },
  {
   "cell_type": "code",
   "execution_count": 180,
   "id": "a4eded8e",
   "metadata": {},
   "outputs": [],
   "source": [
    "df2 = df2.drop(\"Commentaire\",axis=1) "
   ]
  },
  {
   "cell_type": "code",
   "execution_count": 181,
   "id": "8120c989",
   "metadata": {},
   "outputs": [
    {
     "data": {
      "text/html": [
       "<div>\n",
       "<style scoped>\n",
       "    .dataframe tbody tr th:only-of-type {\n",
       "        vertical-align: middle;\n",
       "    }\n",
       "\n",
       "    .dataframe tbody tr th {\n",
       "        vertical-align: top;\n",
       "    }\n",
       "\n",
       "    .dataframe thead th {\n",
       "        text-align: right;\n",
       "    }\n",
       "</style>\n",
       "<table border=\"1\" class=\"dataframe\">\n",
       "  <thead>\n",
       "    <tr style=\"text-align: right;\">\n",
       "      <th></th>\n",
       "      <th>star</th>\n",
       "      <th>client</th>\n",
       "      <th>source</th>\n",
       "      <th>company</th>\n",
       "      <th>ville</th>\n",
       "      <th>ecart</th>\n",
       "      <th>reponse_absente</th>\n",
       "      <th>reponse_negative</th>\n",
       "      <th>reponse_positive</th>\n",
       "      <th>date_annee</th>\n",
       "      <th>date_mois</th>\n",
       "      <th>date_jour</th>\n",
       "      <th>Commentaires_reduit</th>\n",
       "    </tr>\n",
       "  </thead>\n",
       "  <tbody>\n",
       "    <tr>\n",
       "      <th>0</th>\n",
       "      <td>1</td>\n",
       "      <td>1</td>\n",
       "      <td>0</td>\n",
       "      <td>0</td>\n",
       "      <td>0</td>\n",
       "      <td>0.06993</td>\n",
       "      <td>1</td>\n",
       "      <td>0</td>\n",
       "      <td>0</td>\n",
       "      <td>1.0</td>\n",
       "      <td>0.454545</td>\n",
       "      <td>0.633333</td>\n",
       "      <td>bonjour ca doit  ans environ membre showroopri...</td>\n",
       "    </tr>\n",
       "    <tr>\n",
       "      <th>1</th>\n",
       "      <td>1</td>\n",
       "      <td>1</td>\n",
       "      <td>0</td>\n",
       "      <td>0</td>\n",
       "      <td>0</td>\n",
       "      <td>0.06993</td>\n",
       "      <td>1</td>\n",
       "      <td>0</td>\n",
       "      <td>0</td>\n",
       "      <td>1.0</td>\n",
       "      <td>0.454545</td>\n",
       "      <td>0.633333</td>\n",
       "      <td>vente lacoste manquant photo prise  articles m...</td>\n",
       "    </tr>\n",
       "    <tr>\n",
       "      <th>2</th>\n",
       "      <td>1</td>\n",
       "      <td>1</td>\n",
       "      <td>0</td>\n",
       "      <td>0</td>\n",
       "      <td>0</td>\n",
       "      <td>0.06993</td>\n",
       "      <td>1</td>\n",
       "      <td>0</td>\n",
       "      <td>0</td>\n",
       "      <td>1.0</td>\n",
       "      <td>0.454545</td>\n",
       "      <td>0.600000</td>\n",
       "      <td>vente lacoste honteuse erroné manquant bon liv...</td>\n",
       "    </tr>\n",
       "    <tr>\n",
       "      <th>3</th>\n",
       "      <td>2</td>\n",
       "      <td>1</td>\n",
       "      <td>0</td>\n",
       "      <td>0</td>\n",
       "      <td>0</td>\n",
       "      <td>0.06993</td>\n",
       "      <td>0</td>\n",
       "      <td>1</td>\n",
       "      <td>0</td>\n",
       "      <td>1.0</td>\n",
       "      <td>0.454545</td>\n",
       "      <td>0.600000</td>\n",
       "      <td>commandé mules marque moosefield très déçue pr...</td>\n",
       "    </tr>\n",
       "    <tr>\n",
       "      <th>4</th>\n",
       "      <td>1</td>\n",
       "      <td>1</td>\n",
       "      <td>0</td>\n",
       "      <td>0</td>\n",
       "      <td>0</td>\n",
       "      <td>0.06993</td>\n",
       "      <td>0</td>\n",
       "      <td>1</td>\n",
       "      <td>0</td>\n",
       "      <td>1.0</td>\n",
       "      <td>0.454545</td>\n",
       "      <td>0.600000</td>\n",
       "      <td>téléphone etat a+ livraison vieux téléphone po...</td>\n",
       "    </tr>\n",
       "  </tbody>\n",
       "</table>\n",
       "</div>"
      ],
      "text/plain": [
       "   star  client  source  company  ville    ecart  reponse_absente  \\\n",
       "0     1       1       0        0      0  0.06993                1   \n",
       "1     1       1       0        0      0  0.06993                1   \n",
       "2     1       1       0        0      0  0.06993                1   \n",
       "3     2       1       0        0      0  0.06993                0   \n",
       "4     1       1       0        0      0  0.06993                0   \n",
       "\n",
       "   reponse_negative  reponse_positive  date_annee  date_mois  date_jour  \\\n",
       "0                 0                 0         1.0   0.454545   0.633333   \n",
       "1                 0                 0         1.0   0.454545   0.633333   \n",
       "2                 0                 0         1.0   0.454545   0.600000   \n",
       "3                 1                 0         1.0   0.454545   0.600000   \n",
       "4                 1                 0         1.0   0.454545   0.600000   \n",
       "\n",
       "                                 Commentaires_reduit  \n",
       "0  bonjour ca doit  ans environ membre showroopri...  \n",
       "1  vente lacoste manquant photo prise  articles m...  \n",
       "2  vente lacoste honteuse erroné manquant bon liv...  \n",
       "3  commandé mules marque moosefield très déçue pr...  \n",
       "4  téléphone etat a+ livraison vieux téléphone po...  "
      ]
     },
     "execution_count": 181,
     "metadata": {},
     "output_type": "execute_result"
    }
   ],
   "source": [
    "df2.head()"
   ]
  },
  {
   "cell_type": "code",
   "execution_count": 186,
   "id": "6ce3a66b",
   "metadata": {},
   "outputs": [
    {
     "data": {
      "text/plain": [
       "star                   0\n",
       "client                 0\n",
       "source                 0\n",
       "company                0\n",
       "ville                  0\n",
       "ecart                  0\n",
       "reponse_absente        0\n",
       "reponse_negative       0\n",
       "reponse_positive       0\n",
       "date_annee             0\n",
       "date_mois              0\n",
       "date_jour              0\n",
       "Commentaires_reduit    0\n",
       "dtype: int64"
      ]
     },
     "execution_count": 186,
     "metadata": {},
     "output_type": "execute_result"
    }
   ],
   "source": [
    "df2.isna().sum()"
   ]
  },
  {
   "cell_type": "code",
   "execution_count": 184,
   "id": "e05b314b",
   "metadata": {},
   "outputs": [],
   "source": [
    "df2.to_csv(\"Data_Satisfaction_retraitement2.csv\")"
   ]
  },
  {
   "cell_type": "code",
   "execution_count": 3,
   "id": "ed7e0e07",
   "metadata": {},
   "outputs": [],
   "source": [
    "#all in one \n",
    "import pandas as pd\n",
    "from langdetect import detect\n",
    "from sklearn.preprocessing import MinMaxScaler\n",
    "\n",
    "df = pd.read_csv(\"Data_Satisfaction_Original.csv\")\n",
    "df =df.drop(['maj'], axis = 1)\n",
    "df = df.dropna(axis = 0, how = \"all\", subset =[\"Commentaire\"])\n",
    "df[\"Language\"] = df.Commentaire.apply(lambda row : detect(str(row)))\n",
    "df = df.drop(df[df[\"Language\"]!= \"fr\"].index, axis = 0)\n",
    "df = df.drop_duplicates(keep = \"first\")\n",
    "df[\"client\"] = df[\"client\"].isna().replace(to_replace =[False,True], value=[1,0])\n",
    "df[\"ville\"] = df[\"ville\"].isna().replace(to_replace =[False,True], value=[1,0])\n",
    "df[\"source\"] = df[\"source\"].isna().replace(to_replace =[\"TrustPilot\",\"TrustedShop\"], value=[1,0]).astype(\"int64\")\n",
    "df[\"company\"] = df[\"company\"].isna().replace(to_replace =[\"ShowRoom\",\"VeePee\"], value=[1,0]).astype(\"int64\")\n",
    "df[\"sentiment_reponse\"] = df.reponse.apply(lambda row : \"absente\" if pd.isnull(row)\n",
    "                                            else (\"positive\" if (\"merci\" or \"remercions\") in row.lower()\n",
    "                                                       else \"negative\"))\n",
    "df = df.join(pd.get_dummies(df[\"sentiment_reponse\"],prefix=\"reponse\", prefix_sep='_'))\n",
    "df[\"ecart\"] = df[\"ecart\"].fillna(df[\"ecart\"].mode()[0])\n",
    "df =df.drop([\"date_commande\"], axis = 1)\n",
    "\n",
    "df[\"date\"]=pd.to_datetime(df['date'], utc=True)\n",
    "df[\"date_annee\"] = pd.DatetimeIndex(df['date']).year\n",
    "df[\"date_mois\"] = pd.DatetimeIndex(df['date']).month\n",
    "df[\"date_jour\"]= pd.DatetimeIndex(df['date']).day\n",
    "df[\"date_annee\"] = df[\"date_annee\"].fillna(df[\"date_annee\"].mode()[0]) \n",
    "df[\"date_mois\"] = df[\"date_mois\"].fillna(df[\"date_mois\"].mode()[0])\n",
    "df[\"date_jour\"] = df[\"date_jour\"].fillna(df[\"date_jour\"].mode()[0])\n",
    "mmscaler = MinMaxScaler()\n",
    "df[[\"ecart\",\"date_annee\",\"date_mois\",\"date_jour\"]] = mmscaler.fit_transform(df[[\"ecart\",\"date_annee\",\"date_mois\",\"date_jour\"]])\n",
    "df2 =df.drop([\"date\",'reponse',\"Language\",\"sentiment_reponse\"], axis = 1)\n",
    "\n",
    "from nltk.corpus import stopwords\n",
    "stop_words = set(stopwords.words('french'))\n",
    "\n",
    "stop_words.update([\"toujour\",\"faire\",\"donc\",\"car\",\n",
    "                   \" si \",\"c'est\",\"comme\",\" alor\",\"fait\", \"a\",\"toujours\",\"tres\",\n",
    "                   \"j'ai\",\"ça\",\"chez\",\"quand\",\"très\",\"tout\",\"fois\", \"alors\", \"avoir\",\"rien\"])\n",
    "\n",
    "\n",
    "\n",
    "def stop_words_filtering(my_comment):\n",
    "    new_comment =\"\"\n",
    "    for word in my_comment.lower().split(\" \"):\n",
    "        if word not in stop_words:\n",
    "            new_comment += word\n",
    "            new_comment += \" \"\n",
    "    return new_comment\n",
    "\n",
    "\n",
    "\n",
    "import re\n",
    "r = re.compile(r\"[0-9]+\") \n",
    "def words_nonum(my_comment):\n",
    "    new_comment =r.sub('', my_comment)\n",
    "    new_comment2 = re.sub(r'[^\\w\\s]', ' ', new_comment)\n",
    "    return new_comment2\n",
    "df2[\"Commentaires_reduit\"] = df2.Commentaire.apply(lambda row : words_nonum(row))\n",
    "\n",
    "stop_words.update([\" l \", \"d \",\" n \", \" j \", \" qu \", \" m \"])\n",
    "\n",
    "df2[\"Commentaires_reduit\"] = df2.Commentaires_reduit.apply(lambda row : stop_words_filtering(row))\n",
    "df2 = df2.drop(\"Commentaire\",axis=1) \n",
    "\n",
    "df2.to_csv(\"Data_Satisfaction_retraitement4.csv\",index=False)"
   ]
  }
 ],
 "metadata": {
  "kernelspec": {
   "display_name": "Python 3 (ipykernel)",
   "language": "python",
   "name": "python3"
  },
  "language_info": {
   "codemirror_mode": {
    "name": "ipython",
    "version": 3
   },
   "file_extension": ".py",
   "mimetype": "text/x-python",
   "name": "python",
   "nbconvert_exporter": "python",
   "pygments_lexer": "ipython3",
   "version": "3.9.13"
  }
 },
 "nbformat": 4,
 "nbformat_minor": 5
}
