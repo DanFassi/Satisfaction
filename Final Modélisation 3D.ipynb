{
 "cells": [
  {
   "cell_type": "code",
   "execution_count": 11,
   "id": "2ff6c154",
   "metadata": {},
   "outputs": [],
   "source": [
    "import warnings\n",
    "warnings.filterwarnings('ignore')\n",
    "import time\n",
    "import pandas as pd\n",
    "import numpy as np\n",
    "from sklearn.feature_extraction.text import CountVectorizer, TfidfVectorizer\n",
    "from sklearn.model_selection import train_test_split, GridSearchCV,cross_val_score\n",
    "from sklearn.ensemble import GradientBoostingClassifier,RandomForestClassifier\n",
    "from sklearn import linear_model \n",
    "from sklearn.svm import SVC\n",
    "from numba import jit\n"
   ]
  },
  {
   "cell_type": "markdown",
   "id": "53960649",
   "metadata": {},
   "source": [
    "# Importation  et retraitement des données"
   ]
  },
  {
   "cell_type": "code",
   "execution_count": 2,
   "id": "85cd5d67",
   "metadata": {},
   "outputs": [],
   "source": [
    "df = pd.read_csv(\"Data_Satisfaction_retraitement4.csv\")\n",
    "\n",
    "df = df.dropna(axis = 0, how = \"all\", subset =[\"Commentaires_reduit\"])\n",
    "\n",
    "y = df[\"star\"]\n",
    "Meta_Matrix = df.drop([\"star\",\"Commentaires_reduit\"], axis =1).to_numpy()"
   ]
  },
  {
   "cell_type": "code",
   "execution_count": 3,
   "id": "fff12355",
   "metadata": {},
   "outputs": [],
   "source": [
    "y = y.replace(to_replace = [1,2,3,4,5], value = [0,1,1,1,2])"
   ]
  },
  {
   "cell_type": "code",
   "execution_count": 4,
   "id": "364382ed",
   "metadata": {},
   "outputs": [],
   "source": [
    "vectorizer = TfidfVectorizer(min_df = 50)\n",
    "#vectorizer = CountVectorizer(min_df = 150)\n",
    "Com_Matrix = vectorizer.fit_transform(df[\"Commentaires_reduit\"]).todense()\n",
    "#X = Com_Matrix\n",
    "X = np.concatenate([Com_Matrix,Meta_Matrix],axis=1)"
   ]
  },
  {
   "cell_type": "code",
   "execution_count": 5,
   "id": "d11c1908",
   "metadata": {},
   "outputs": [],
   "source": [
    "X_train,X_test, y_train, y_test = train_test_split(X,y, test_size = 0.2, random_state = 100)"
   ]
  },
  {
   "cell_type": "markdown",
   "id": "ac727695",
   "metadata": {},
   "source": [
    "# Modeles de machine learning "
   ]
  },
  {
   "cell_type": "code",
   "execution_count": 12,
   "id": "27869f48",
   "metadata": {},
   "outputs": [
    {
     "name": "stdout",
     "output_type": "stream",
     "text": [
      "gb score : 0.8293269230769231\n",
      "rf score : 0.8206129807692307\n",
      "scv score : 0.796875\n",
      "rl score : 0.8091947115384616\n"
     ]
    }
   ],
   "source": [
    "gb = GradientBoostingClassifier(n_estimators=300, learning_rate=0.3, max_depth=1, random_state=0).fit(X_train, y_train)\n",
    "print(\"gb score :\", gb.score(X_test,y_test))\n",
    "rf = RandomForestClassifier(max_features = \"log2\", random_state= 0).fit(X_train, y_train)\n",
    "print(\"rf score :\", rf.score(X_test,y_test))\n",
    "svc = SVC(C= 0.1 , kernel =\"linear\", random_state= 0).fit(X_train, y_train)\n",
    "print(\"scv score :\", svc.score(X_test,y_test))\n",
    "rl = linear_model.LogisticRegression(C = 0.1, max_iter = 100, random_state= 0).fit(X_train, y_train)\n",
    "print(\"rl score :\", rl.score(X_test,y_test))"
   ]
  },
  {
   "cell_type": "code",
   "execution_count": 14,
   "id": "40931f21",
   "metadata": {},
   "outputs": [],
   "source": [
    "from sklearn.ensemble import VotingClassifier\n",
    "vclf = VotingClassifier(estimators=[('gb', gb), ('rf', rf), ('svc', svc), ('lr', rl)], voting='hard').fit(X_train,y_train) "
   ]
  },
  {
   "cell_type": "code",
   "execution_count": 18,
   "id": "158cc591",
   "metadata": {},
   "outputs": [
    {
     "name": "stdout",
     "output_type": "stream",
     "text": [
      "vclf score : 0.8125\n"
     ]
    }
   ],
   "source": [
    "print(\"vclf score :\", vclf.score(X_test,y_test))"
   ]
  },
  {
   "cell_type": "markdown",
   "id": "963ac5d6",
   "metadata": {},
   "source": [
    "# Reseau de neurone Dense"
   ]
  },
  {
   "cell_type": "code",
   "execution_count": 48,
   "id": "54f9a832",
   "metadata": {},
   "outputs": [],
   "source": [
    "from tensorflow.keras.models import Sequential\n",
    "from tensorflow.keras.layers import Input, Dense ,  Dropout\n",
    "from tensorflow.keras.models import Model\n",
    "\n",
    "model = Sequential()\n",
    "model.add(Input(shape = X_train.shape[1]))\n",
    "model.add(Dense(6, activation=\"tanh\"))\n",
    "model.add(Dense(3, activation =\"softmax\"))\n",
    "\n",
    "model.compile(loss = \"sparse_categorical_crossentropy\", optimizer = \"adam\", metrics = [\"accuracy\"])"
   ]
  },
  {
   "cell_type": "code",
   "execution_count": 49,
   "id": "1cbbf2c8",
   "metadata": {},
   "outputs": [],
   "source": [
    "from tensorflow.keras.callbacks import ReduceLROnPlateau\n",
    "reducelr = ReduceLROnPlateau(monitor = 'val_accuracy',\n",
    "                        min_delta = 0.01,\n",
    "                        patience = 10,\n",
    "                        factor = 0.5, \n",
    "                        cooldown = 5,\n",
    "                        verbose = 1)\n",
    "\n",
    "\n",
    "from tensorflow.keras.callbacks import EarlyStopping \n",
    "earlystop = EarlyStopping(monitor = 'val_accuracy',\n",
    "                    min_delta = 0.001,\n",
    "                    patience = 10,\n",
    "                    verbose = 1,\n",
    "                    restore_best_weights = True)"
   ]
  },
  {
   "cell_type": "code",
   "execution_count": 50,
   "id": "ac86c555",
   "metadata": {},
   "outputs": [
    {
     "name": "stdout",
     "output_type": "stream",
     "text": [
      "Epoch 1/50\n",
      "54/54 [==============================] - 0s 3ms/step - loss: 1.0123 - accuracy: 0.5886 - val_loss: 0.9237 - val_accuracy: 0.7682 - lr: 0.0010\n",
      "Epoch 2/50\n",
      "54/54 [==============================] - 0s 2ms/step - loss: 0.8410 - accuracy: 0.7940 - val_loss: 0.7778 - val_accuracy: 0.7874 - lr: 0.0010\n",
      "Epoch 3/50\n",
      "54/54 [==============================] - 0s 2ms/step - loss: 0.7101 - accuracy: 0.8081 - val_loss: 0.6730 - val_accuracy: 0.7926 - lr: 0.0010\n",
      "Epoch 4/50\n",
      "54/54 [==============================] - 0s 2ms/step - loss: 0.6199 - accuracy: 0.8130 - val_loss: 0.6040 - val_accuracy: 0.7994 - lr: 0.0010\n",
      "Epoch 5/50\n",
      "54/54 [==============================] - 0s 2ms/step - loss: 0.5612 - accuracy: 0.8168 - val_loss: 0.5607 - val_accuracy: 0.8032 - lr: 0.0010\n",
      "Epoch 6/50\n",
      "54/54 [==============================] - 0s 2ms/step - loss: 0.5224 - accuracy: 0.8191 - val_loss: 0.5313 - val_accuracy: 0.8080 - lr: 0.0010\n",
      "Epoch 7/50\n",
      "54/54 [==============================] - 0s 2ms/step - loss: 0.4963 - accuracy: 0.8217 - val_loss: 0.5123 - val_accuracy: 0.8092 - lr: 0.0010\n",
      "Epoch 8/50\n",
      "54/54 [==============================] - 0s 2ms/step - loss: 0.4773 - accuracy: 0.8244 - val_loss: 0.4991 - val_accuracy: 0.8103 - lr: 0.0010\n",
      "Epoch 9/50\n",
      "54/54 [==============================] - 0s 2ms/step - loss: 0.4629 - accuracy: 0.8269 - val_loss: 0.4893 - val_accuracy: 0.8118 - lr: 0.0010\n",
      "Epoch 10/50\n",
      "54/54 [==============================] - 0s 2ms/step - loss: 0.4514 - accuracy: 0.8292 - val_loss: 0.4819 - val_accuracy: 0.8129 - lr: 0.0010\n",
      "Epoch 11/50\n",
      "54/54 [==============================] - 0s 2ms/step - loss: 0.4414 - accuracy: 0.8320 - val_loss: 0.4756 - val_accuracy: 0.8144 - lr: 0.0010\n",
      "Epoch 12/50\n",
      "54/54 [==============================] - 0s 2ms/step - loss: 0.4331 - accuracy: 0.8334 - val_loss: 0.4710 - val_accuracy: 0.8186 - lr: 0.0010\n",
      "Epoch 13/50\n",
      "54/54 [==============================] - 0s 3ms/step - loss: 0.4262 - accuracy: 0.8372 - val_loss: 0.4668 - val_accuracy: 0.8208 - lr: 0.0010\n",
      "Epoch 14/50\n",
      "54/54 [==============================] - 0s 2ms/step - loss: 0.4195 - accuracy: 0.8383 - val_loss: 0.4633 - val_accuracy: 0.8208 - lr: 0.0010\n",
      "Epoch 15/50\n",
      "54/54 [==============================] - 0s 2ms/step - loss: 0.4137 - accuracy: 0.8396 - val_loss: 0.4614 - val_accuracy: 0.8197 - lr: 0.0010\n",
      "Epoch 16/50\n",
      "54/54 [==============================] - 0s 2ms/step - loss: 0.4086 - accuracy: 0.8419 - val_loss: 0.4587 - val_accuracy: 0.8227 - lr: 0.0010\n",
      "Epoch 17/50\n",
      "54/54 [==============================] - 0s 2ms/step - loss: 0.4037 - accuracy: 0.8439 - val_loss: 0.4582 - val_accuracy: 0.8238 - lr: 0.0010\n",
      "Epoch 18/50\n",
      "54/54 [==============================] - 0s 2ms/step - loss: 0.3995 - accuracy: 0.8455 - val_loss: 0.4563 - val_accuracy: 0.8246 - lr: 0.0010\n",
      "Epoch 19/50\n",
      "54/54 [==============================] - 0s 2ms/step - loss: 0.3955 - accuracy: 0.8465 - val_loss: 0.4563 - val_accuracy: 0.8231 - lr: 0.0010\n",
      "Epoch 20/50\n",
      "54/54 [==============================] - 0s 2ms/step - loss: 0.3917 - accuracy: 0.8491 - val_loss: 0.4544 - val_accuracy: 0.8216 - lr: 0.0010\n",
      "Epoch 21/50\n",
      "54/54 [==============================] - 0s 2ms/step - loss: 0.3886 - accuracy: 0.8491 - val_loss: 0.4554 - val_accuracy: 0.8201 - lr: 0.0010\n",
      "Epoch 22/50\n",
      "54/54 [==============================] - 0s 2ms/step - loss: 0.3854 - accuracy: 0.8500 - val_loss: 0.4551 - val_accuracy: 0.8197 - lr: 0.0010\n",
      "Epoch 23/50\n",
      "34/54 [=================>............] - ETA: 0s - loss: 0.3867 - accuracy: 0.8487\n",
      "Epoch 23: ReduceLROnPlateau reducing learning rate to 0.0005000000237487257.\n",
      "54/54 [==============================] - 0s 2ms/step - loss: 0.3824 - accuracy: 0.8510 - val_loss: 0.4545 - val_accuracy: 0.8201 - lr: 0.0010\n",
      "Epoch 24/50\n",
      "54/54 [==============================] - 0s 2ms/step - loss: 0.3793 - accuracy: 0.8520 - val_loss: 0.4547 - val_accuracy: 0.8197 - lr: 5.0000e-04\n",
      "Epoch 25/50\n",
      "54/54 [==============================] - 0s 2ms/step - loss: 0.3780 - accuracy: 0.8529 - val_loss: 0.4548 - val_accuracy: 0.8193 - lr: 5.0000e-04\n",
      "Epoch 26/50\n",
      "54/54 [==============================] - 0s 2ms/step - loss: 0.3767 - accuracy: 0.8524 - val_loss: 0.4552 - val_accuracy: 0.8197 - lr: 5.0000e-04\n",
      "Epoch 27/50\n",
      "41/54 [=====================>........] - ETA: 0s - loss: 0.3716 - accuracy: 0.8529Restoring model weights from the end of the best epoch: 17.\n",
      "54/54 [==============================] - 0s 2ms/step - loss: 0.3755 - accuracy: 0.8525 - val_loss: 0.4549 - val_accuracy: 0.8186 - lr: 5.0000e-04\n",
      "Epoch 27: early stopping\n"
     ]
    }
   ],
   "source": [
    "model_history = model.fit (X_train, y_train, epochs = 50, batch_size = 200, validation_split = 0.2, callbacks= [reducelr,earlystop])"
   ]
  },
  {
   "cell_type": "code",
   "execution_count": 51,
   "id": "3bfd4e6e",
   "metadata": {},
   "outputs": [
    {
     "data": {
      "image/png": "[encoded data removed]",
      "text/plain": [
       "<Figure size 640x480 with 1 Axes>"
      ]
     },
     "metadata": {},
     "output_type": "display_data"
    }
   ],
   "source": [
    "import matplotlib.pyplot as plt\n",
    "\n",
    "train_acc = model_history.history['accuracy']\n",
    "val_acc = model_history.history['val_accuracy']\n",
    "\n",
    "# Labels des axes\n",
    "plt.xlabel('Epochs')\n",
    "plt.ylabel('Accuracy')\n",
    "\n",
    "# Courbe de la précision sur l'échantillon d'entraînement\n",
    "plt.plot(np.arange(1 , max(model_history.epoch)+2, 1),\n",
    "         model_history.history['accuracy'],\n",
    "         label = 'Training Accuracy',\n",
    "         color = 'blue')\n",
    "\n",
    "# Courbe de la précision sur l'échantillon de test\n",
    "plt.plot(np.arange(1 , max(model_history.epoch)+2, 1),\n",
    "         model_history.history['val_accuracy'], \n",
    "         label = 'Validation Accuracy',\n",
    "         color = 'red')\n",
    "\n",
    "# Affichage de la légende\n",
    "plt.legend()\n",
    "\n",
    "# Affichage de la figure\n",
    "plt.show()"
   ]
  },
  {
   "cell_type": "code",
   "execution_count": 52,
   "id": "1598da58",
   "metadata": {},
   "outputs": [
    {
     "name": "stdout",
     "output_type": "stream",
     "text": [
      "104/104 [==============================] - 0s 600us/step\n",
      "              precision    recall  f1-score   support\n",
      "\n",
      "           0       0.87      0.89      0.88       980\n",
      "           1       0.77      0.73      0.75      1178\n",
      "           2       0.83      0.84      0.83      1170\n",
      "\n",
      "    accuracy                           0.82      3328\n",
      "   macro avg       0.82      0.82      0.82      3328\n",
      "weighted avg       0.82      0.82      0.82      3328\n",
      "\n",
      "[[874 104   2]\n",
      " [108 865 205]\n",
      " [ 25 159 986]]\n"
     ]
    }
   ],
   "source": [
    "test_pred = model.predict(X_test)\n",
    "\n",
    "y_test_class = y_test\n",
    "y_pred_class = np.argmax(test_pred,axis=1)\n",
    "\n",
    "from sklearn.metrics import classification_report,confusion_matrix\n",
    "print(classification_report(y_test_class,y_pred_class))\n",
    "print(confusion_matrix(y_test_class,y_pred_class)) "
   ]
  }
 ],
 "metadata": {
  "kernelspec": {
   "display_name": "Python 3 (ipykernel)",
   "language": "python",
   "name": "python3"
  },
  "language_info": {
   "codemirror_mode": {
    "name": "ipython",
    "version": 3
   },
   "file_extension": ".py",
   "mimetype": "text/x-python",
   "name": "python",
   "nbconvert_exporter": "python",
   "pygments_lexer": "ipython3",
   "version": "3.9.13"
  }
 },
 "nbformat": 4,
 "nbformat_minor": 5
}
