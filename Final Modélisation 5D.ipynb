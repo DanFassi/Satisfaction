{
 "cells": [
  {
   "cell_type": "code",
   "execution_count": 103,
   "id": "2ff6c154",
   "metadata": {},
   "outputs": [],
   "source": [
    "import warnings\n",
    "warnings.filterwarnings('ignore')\n",
    "import time\n",
    "import pandas as pd\n",
    "import numpy as np\n",
    "from sklearn.feature_extraction.text import CountVectorizer, TfidfVectorizer\n",
    "from sklearn.model_selection import train_test_split, GridSearchCV,cross_val_score\n",
    "from sklearn.ensemble import GradientBoostingClassifier,RandomForestClassifier\n",
    "from sklearn import linear_model \n",
    "from sklearn.svm import SVC\n",
    "from sklearn.metrics import classification_report,confusion_matrix\n",
    "from numba import jit\n"
   ]
  },
  {
   "cell_type": "markdown",
   "id": "83bb0d7c",
   "metadata": {},
   "source": [
    "# Importation  et retraitement des données"
   ]
  },
  {
   "cell_type": "code",
   "execution_count": 66,
   "id": "85cd5d67",
   "metadata": {},
   "outputs": [],
   "source": [
    "df = pd.read_csv(\"Data_Satisfaction_retraitement4.csv\")\n",
    "\n",
    "df = df.dropna(axis = 0, how = \"all\", subset =[\"Commentaires_reduit\"])\n",
    "\n",
    "#création de l'ensemble de target \"y\"\n",
    "y = df[\"star\"]\n",
    "\n",
    "#Création du numpy array comprenant l'ensemble des méta-donnée\n",
    "Meta_Matrix = df.drop([\"star\",\"Commentaires_reduit\"], axis =1).to_numpy()"
   ]
  },
  {
   "cell_type": "code",
   "execution_count": 67,
   "id": "fff12355",
   "metadata": {},
   "outputs": [],
   "source": [
    "#transformation des notes sur une echelle de 0 à 4 pour facilité l'implemenation dans un model de reseau de neurone \n",
    "y = y.replace(to_replace = [1,2,3,4,5], value = [0,1,2,3,4])"
   ]
  },
  {
   "cell_type": "code",
   "execution_count": 87,
   "id": "364382ed",
   "metadata": {},
   "outputs": [],
   "source": [
    "#vectorization des commentaires par l'algorithme TF-IDF\n",
    "vectorizer = TfidfVectorizer(min_df = 150)\n",
    "Com_Matrix = vectorizer.fit_transform(df[\"Commentaires_reduit\"]).todense()\n",
    "\n",
    "#concatenation des deux matrices pour obtenir une matrice globale méta-donnée + commentaires vectorisés.\n",
    "X = np.concatenate([Com_Matrix,Meta_Matrix],axis=1)"
   ]
  },
  {
   "cell_type": "code",
   "execution_count": 88,
   "id": "d11c1908",
   "metadata": {},
   "outputs": [],
   "source": [
    "X_train,X_test, y_train, y_test = train_test_split(X,y, test_size = 0.2, random_state = 100)"
   ]
  },
  {
   "cell_type": "markdown",
   "id": "23ee07d6",
   "metadata": {},
   "source": [
    "# Modeles de machine learning "
   ]
  },
  {
   "cell_type": "markdown",
   "id": "d6a2e5f3",
   "metadata": {},
   "source": [
    "Nous avons testé nos données avec les modeles suivant:\n",
    "   - Gradiant Booster\n",
    "   - Random Forest\n",
    "   - Support Vector Machine\n",
    "   - Logistic Regression\n",
    "   \n",
    "Les meilleurs parametres de ces modeles ont été établis précédemment avec un model GridSeachCV."
   ]
  },
  {
   "cell_type": "code",
   "execution_count": 97,
   "id": "27869f48",
   "metadata": {},
   "outputs": [
    {
     "name": "stdout",
     "output_type": "stream",
     "text": [
      "gb score : 0.7007211538461539\n",
      "rf score : 0.6911057692307693\n",
      "scv score : 0.6715745192307693\n",
      "rl score : 0.6974158653846154\n"
     ]
    }
   ],
   "source": [
    "gb = GradientBoostingClassifier(n_estimators=300, learning_rate=0.3, max_depth=1, random_state=0).fit(X_train, y_train)\n",
    "print(\"gb score :\", gb.score(X_test,y_test))\n",
    "rf = RandomForestClassifier(max_features = \"log2\", random_state= 0).fit(X_train, y_train)\n",
    "print(\"rf score :\", rf.score(X_test,y_test))\n",
    "svc = SVC(C= 0.1 , kernel =\"linear\", random_state= 0).fit(X_train, y_train)\n",
    "print(\"scv score :\", svc.score(X_test,y_test))\n",
    "rl = linear_model.LogisticRegression(C = 0.1, max_iter = 100, random_state= 0).fit(X_train, y_train)\n",
    "print(\"rl score :\", rl.score(X_test,y_test))"
   ]
  },
  {
   "cell_type": "code",
   "execution_count": 98,
   "id": "40931f21",
   "metadata": {},
   "outputs": [],
   "source": [
    "from sklearn.ensemble import VotingClassifier\n",
    "vclf = VotingClassifier(estimators=[('gb', gb), ('rf', rf), ('svc', svc), ('lr', rl)], voting='hard').fit(X_train,y_train) "
   ]
  },
  {
   "cell_type": "code",
   "execution_count": 100,
   "id": "33a7cd4b",
   "metadata": {},
   "outputs": [
    {
     "name": "stdout",
     "output_type": "stream",
     "text": [
      "vclf score : 0.6971153846153846\n"
     ]
    }
   ],
   "source": [
    "print(\"vclf score :\", vclf.score(X_test,y_test))"
   ]
  },
  {
   "cell_type": "markdown",
   "id": "897b3fe0",
   "metadata": {},
   "source": [
    "La meilleur précision obtenue sur l'ensemble de test provient du modele GradientBoosting.\n",
    "\n",
    "Affichons son rapport de classification ainsi que la matrice de confusion"
   ]
  },
  {
   "cell_type": "code",
   "execution_count": 104,
   "id": "e715aa79",
   "metadata": {},
   "outputs": [
    {
     "name": "stdout",
     "output_type": "stream",
     "text": [
      "              precision    recall  f1-score   support\n",
      "\n",
      "           0       0.83      0.90      0.86       980\n",
      "           1       0.25      0.09      0.14       255\n",
      "           2       0.38      0.23      0.28       315\n",
      "           3       0.46      0.51      0.48       608\n",
      "           4       0.80      0.89      0.84      1170\n",
      "\n",
      "    accuracy                           0.70      3328\n",
      "   macro avg       0.54      0.53      0.52      3328\n",
      "weighted avg       0.66      0.70      0.68      3328\n",
      "\n",
      "[[ 884   24   21   38   13]\n",
      " [  88   24   44   88   11]\n",
      " [  29   28   72  155   31]\n",
      " [  25   19   49  310  205]\n",
      " [  40    2    5   81 1042]]\n"
     ]
    }
   ],
   "source": [
    "y_pred = gb.predict(X_test)\n",
    "print(classification_report(y_test,y_pred))\n",
    "print(confusion_matrix(y_test,y_pred)) "
   ]
  },
  {
   "cell_type": "markdown",
   "id": "23d6f671",
   "metadata": {},
   "source": [
    "# Reseau de neurone Dense"
   ]
  },
  {
   "cell_type": "markdown",
   "id": "7c30650d",
   "metadata": {},
   "source": [
    "### Création, compilation et entrainement du modèle"
   ]
  },
  {
   "cell_type": "code",
   "execution_count": 89,
   "id": "54f9a832",
   "metadata": {},
   "outputs": [],
   "source": [
    "from tensorflow.keras.models import Sequential\n",
    "from tensorflow.keras.layers import Input, Dense ,  Dropout\n",
    "from tensorflow.keras.models import Model\n",
    "\n",
    "#creation du model avec 2 couche Dense\n",
    "model = Sequential()\n",
    "model.add(Input(shape = X_train.shape[1]))\n",
    "model.add(Dense(6, activation=\"tanh\"))\n",
    "model.add(Dense(5, activation =\"softmax\"))\n",
    "\n",
    "# nous avons plusieurs catégories dans la variable cible, nous choisisons donc la fonction de perte \n",
    "#\"sparse_categorical_crossentropy\" lors de la compilation du model.\n",
    "model.compile(loss = \"sparse_categorical_crossentropy\", optimizer = \"adam\", metrics = [\"accuracy\"])"
   ]
  },
  {
   "cell_type": "code",
   "execution_count": 93,
   "id": "1cbbf2c8",
   "metadata": {},
   "outputs": [],
   "source": [
    "#creation de fonction callbacks pour optimiser le temps d'apprentissage\n",
    "\n",
    "#une fonction permettant de réuidre le learning rate en fonction de l'évolution de la \"val_accuracy\"\n",
    "from tensorflow.keras.callbacks import ReduceLROnPlateau\n",
    "reducelr = ReduceLROnPlateau(monitor = 'val_accuracy',\n",
    "                        min_delta = 0.001,\n",
    "                        patience = 10,\n",
    "                        factor = 0.5, \n",
    "                        cooldown = 5,\n",
    "                        verbose = 1)\n",
    "\n",
    "#une fonction permettant de stoper l'entrainement si l'évolution de la \"val_accuracy\" ne depasse plus un certain seuil\n",
    "from tensorflow.keras.callbacks import EarlyStopping \n",
    "earlystop = EarlyStopping(monitor = 'val_accuracy',\n",
    "                    min_delta = 0.0001,\n",
    "                    patience = 10,\n",
    "                    verbose = 1,\n",
    "                    restore_best_weights = True)"
   ]
  },
  {
   "cell_type": "code",
   "execution_count": 94,
   "id": "ac86c555",
   "metadata": {},
   "outputs": [
    {
     "name": "stdout",
     "output_type": "stream",
     "text": [
      "Epoch 1/50\n",
      "54/54 [==============================] - 0s 2ms/step - loss: 0.7273 - accuracy: 0.7120 - val_loss: 0.7879 - val_accuracy: 0.6942 - lr: 5.0000e-04\n",
      "Epoch 2/50\n",
      "54/54 [==============================] - 0s 2ms/step - loss: 0.7247 - accuracy: 0.7135 - val_loss: 0.7867 - val_accuracy: 0.6931 - lr: 5.0000e-04\n",
      "Epoch 3/50\n",
      "54/54 [==============================] - 0s 2ms/step - loss: 0.7223 - accuracy: 0.7134 - val_loss: 0.7859 - val_accuracy: 0.6931 - lr: 5.0000e-04\n",
      "Epoch 4/50\n",
      "54/54 [==============================] - 0s 2ms/step - loss: 0.7201 - accuracy: 0.7134 - val_loss: 0.7847 - val_accuracy: 0.6916 - lr: 5.0000e-04\n",
      "Epoch 5/50\n",
      "54/54 [==============================] - 0s 2ms/step - loss: 0.7179 - accuracy: 0.7146 - val_loss: 0.7837 - val_accuracy: 0.6923 - lr: 5.0000e-04\n",
      "Epoch 6/50\n",
      "54/54 [==============================] - 0s 2ms/step - loss: 0.7158 - accuracy: 0.7142 - val_loss: 0.7828 - val_accuracy: 0.6935 - lr: 5.0000e-04\n",
      "Epoch 7/50\n",
      "54/54 [==============================] - 0s 2ms/step - loss: 0.7139 - accuracy: 0.7153 - val_loss: 0.7821 - val_accuracy: 0.6946 - lr: 5.0000e-04\n",
      "Epoch 8/50\n",
      "54/54 [==============================] - 0s 2ms/step - loss: 0.7122 - accuracy: 0.7158 - val_loss: 0.7817 - val_accuracy: 0.6927 - lr: 5.0000e-04\n",
      "Epoch 9/50\n",
      "54/54 [==============================] - 0s 2ms/step - loss: 0.7104 - accuracy: 0.7163 - val_loss: 0.7812 - val_accuracy: 0.6935 - lr: 5.0000e-04\n",
      "Epoch 10/50\n",
      "54/54 [==============================] - 0s 2ms/step - loss: 0.7087 - accuracy: 0.7169 - val_loss: 0.7805 - val_accuracy: 0.6931 - lr: 5.0000e-04\n",
      "Epoch 11/50\n",
      "44/54 [=======================>......] - ETA: 0s - loss: 0.7146 - accuracy: 0.7134\n",
      "Epoch 11: ReduceLROnPlateau reducing learning rate to 0.0002500000118743628.\n",
      "54/54 [==============================] - 0s 2ms/step - loss: 0.7071 - accuracy: 0.7170 - val_loss: 0.7798 - val_accuracy: 0.6927 - lr: 5.0000e-04\n",
      "Epoch 12/50\n",
      "54/54 [==============================] - 0s 2ms/step - loss: 0.7055 - accuracy: 0.7183 - val_loss: 0.7796 - val_accuracy: 0.6935 - lr: 2.5000e-04\n",
      "Epoch 13/50\n",
      "54/54 [==============================] - 0s 2ms/step - loss: 0.7048 - accuracy: 0.7187 - val_loss: 0.7795 - val_accuracy: 0.6927 - lr: 2.5000e-04\n",
      "Epoch 14/50\n",
      "54/54 [==============================] - 0s 2ms/step - loss: 0.7041 - accuracy: 0.7187 - val_loss: 0.7793 - val_accuracy: 0.6927 - lr: 2.5000e-04\n",
      "Epoch 15/50\n",
      "54/54 [==============================] - 0s 2ms/step - loss: 0.7034 - accuracy: 0.7192 - val_loss: 0.7790 - val_accuracy: 0.6927 - lr: 2.5000e-04\n",
      "Epoch 16/50\n",
      "54/54 [==============================] - 0s 2ms/step - loss: 0.7027 - accuracy: 0.7193 - val_loss: 0.7790 - val_accuracy: 0.6923 - lr: 2.5000e-04\n",
      "Epoch 17/50\n",
      "45/54 [========================>.....] - ETA: 0s - loss: 0.6981 - accuracy: 0.7213Restoring model weights from the end of the best epoch: 7.\n",
      "54/54 [==============================] - 0s 2ms/step - loss: 0.7019 - accuracy: 0.7192 - val_loss: 0.7788 - val_accuracy: 0.6927 - lr: 2.5000e-04\n",
      "Epoch 17: early stopping\n"
     ]
    }
   ],
   "source": [
    "#entrainement du modèle\n",
    "model_history = model.fit (X_train, y_train, epochs = 50, batch_size = 200, validation_split = 0.2, callbacks= [reducelr,earlystop])"
   ]
  },
  {
   "cell_type": "markdown",
   "id": "54c088fb",
   "metadata": {},
   "source": [
    "### Evaluation du modèle"
   ]
  },
  {
   "cell_type": "code",
   "execution_count": 95,
   "id": "3bfd4e6e",
   "metadata": {},
   "outputs": [
    {
     "data": {
      "image/png": "[encoded data removed]",
      "text/plain": [
       "<Figure size 640x480 with 1 Axes>"
      ]
     },
     "metadata": {},
     "output_type": "display_data"
    }
   ],
   "source": [
    "import matplotlib.pyplot as plt\n",
    "\n",
    "train_acc = model_history.history['accuracy']\n",
    "val_acc = model_history.history['val_accuracy']\n",
    "\n",
    "# Labels des axes\n",
    "plt.xlabel('Epochs')\n",
    "plt.ylabel('Accuracy')\n",
    "\n",
    "# Courbe de la précision sur l'échantillon d'entraînement\n",
    "plt.plot(np.arange(1 , max(model_history.epoch)+2, 1),\n",
    "         model_history.history['accuracy'],\n",
    "         label = 'Training Accuracy',\n",
    "         color = 'blue')\n",
    "\n",
    "# Courbe de la précision sur l'échantillon de test\n",
    "plt.plot(np.arange(1 , max(model_history.epoch)+2, 1),\n",
    "         model_history.history['val_accuracy'], \n",
    "         label = 'Validation Accuracy',\n",
    "         color = 'red')\n",
    "\n",
    "# Affichage de la légende\n",
    "plt.legend()\n",
    "\n",
    "# Affichage de la figure\n",
    "plt.show()"
   ]
  },
  {
   "cell_type": "code",
   "execution_count": 96,
   "id": "1598da58",
   "metadata": {},
   "outputs": [
    {
     "name": "stdout",
     "output_type": "stream",
     "text": [
      "104/104 [==============================] - 0s 591us/step\n",
      "              precision    recall  f1-score   support\n",
      "\n",
      "           0       0.81      0.92      0.86       980\n",
      "           1       0.31      0.10      0.15       255\n",
      "           2       0.37      0.29      0.33       315\n",
      "           3       0.46      0.50      0.48       608\n",
      "           4       0.81      0.85      0.83      1170\n",
      "\n",
      "    accuracy                           0.70      3328\n",
      "   macro avg       0.55      0.53      0.53      3328\n",
      "weighted avg       0.67      0.70      0.68      3328\n",
      "\n",
      "[[900  22  25  26   7]\n",
      " [104  25  60  64   2]\n",
      " [ 42  22  92 137  22]\n",
      " [ 30  10  57 304 207]\n",
      " [ 32   2  12 125 999]]\n"
     ]
    }
   ],
   "source": [
    "#affichage d'un rapport de classification ainsi que d'une matrice de confusion\n",
    "\n",
    "test_pred = model.predict(X_test)\n",
    "y_test_class = y_test\n",
    "y_pred_class = np.argmax(test_pred,axis=1)\n",
    "\n",
    "print(classification_report(y_test_class,y_pred_class))\n",
    "print(confusion_matrix(y_test_class,y_pred_class)) "
   ]
  },
  {
   "cell_type": "markdown",
   "id": "2df488b8",
   "metadata": {},
   "source": [
    "# Conclusion\n",
    "\n",
    "Les performances de notre reseau de neurones sont assez proche du modeles de gradient boosting. Nous obtenons un score de précision moyen de 67% selon les rapports de classification. Les deux modéles ont du mal à prédire les classes 1,2 et 3, qui correspondents aux notes intermédiaire, ou la précision pour ces classes tombe jusqu'à 31%, juste un peu mieux qu'une prédiction aléatoire.\n",
    "\n",
    "Afin d'améliorer la prédiction de nos modèles il serait interessant de regrouper les classes 1,2 et 3 en une seule et même classe. Nous aurions cette fois à faire à une modelisation en 3 classes.\n"
   ]
  }
 ],
 "metadata": {
  "kernelspec": {
   "display_name": "Python 3 (ipykernel)",
   "language": "python",
   "name": "python3"
  },
  "language_info": {
   "codemirror_mode": {
    "name": "ipython",
    "version": 3
   },
   "file_extension": ".py",
   "mimetype": "text/x-python",
   "name": "python",
   "nbconvert_exporter": "python",
   "pygments_lexer": "ipython3",
   "version": "3.9.13"
  }
 },
 "nbformat": 4,
 "nbformat_minor": 5
}
