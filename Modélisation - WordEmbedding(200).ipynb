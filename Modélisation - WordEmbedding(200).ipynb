{
 "cells": [
  {
   "cell_type": "code",
   "execution_count": 1,
   "id": "c6975e9d",
   "metadata": {},
   "outputs": [],
   "source": [
    "import warnings\n",
    "warnings.filterwarnings('ignore')\n",
    "import time"
   ]
  },
  {
   "cell_type": "markdown",
   "id": "49441607",
   "metadata": {},
   "source": [
    "- Importation des modules\n",
    "- Chargement du fichier de données et retraitement du fichier de données\n",
    "- Transformation du DataFrame des MetaDonnée en Matrice"
   ]
  },
  {
   "cell_type": "code",
   "execution_count": 2,
   "id": "b34468dc",
   "metadata": {},
   "outputs": [],
   "source": [
    "import pandas as pd\n",
    "import numpy as np\n",
    "import gensim\n",
    "from sklearn.feature_extraction.text import CountVectorizer, TfidfVectorizer\n",
    "from sklearn.model_selection import train_test_split, GridSearchCV,cross_val_score\n",
    "from sklearn.ensemble import GradientBoostingClassifier,RandomForestClassifier\n",
    "from sklearn.svm import SVC\n",
    "from numba import jit\n",
    "\n",
    "df = pd.read_csv(\"Data_Satisfaction_retraitement2.csv\")\n",
    "\n",
    "df = df.drop(\"Unnamed: 0\",axis=1)\n",
    "df = df.dropna(axis = 0, how = \"all\", subset =[\"Commentaires_reduit\"])\n",
    "\n",
    "y = df[\"star\"]\n",
    "Meta_Matrix = df.drop([\"star\",\"Commentaires_reduit\"], axis =1).to_numpy()"
   ]
  },
  {
   "cell_type": "markdown",
   "id": "94d2f9e2",
   "metadata": {},
   "source": [
    "Importation du model WordEmbedding pré-entrainé"
   ]
  },
  {
   "cell_type": "code",
   "execution_count": 3,
   "id": "255d3c9d",
   "metadata": {},
   "outputs": [],
   "source": [
    "Comments_tokens = [text.split() for text in df[\"Commentaires_reduit\"]]\n",
    "import gensim.downloader as api\n",
    "model = api.load(\"glove-wiki-gigaword-200\")"
   ]
  },
  {
   "cell_type": "markdown",
   "id": "ff675441",
   "metadata": {},
   "source": [
    "Vectorization des commentaires en se basant sur la moyenne des vecteurs mots obtenus via vectorisation par le model."
   ]
  },
  {
   "cell_type": "code",
   "execution_count": 4,
   "id": "c31acbd9",
   "metadata": {},
   "outputs": [],
   "source": [
    "@jit\n",
    "def get_mean_vector(w2v_vectors, words):\n",
    "    words = [word for word in words if word in w2v_vectors]\n",
    "    if words:\n",
    "        avg_vector = np.mean(w2v_vectors[words], axis=0)\n",
    "    else:\n",
    "        avg_vector = np.zeros_like(w2v_vectors['hi'])\n",
    "    return avg_vector\n",
    "\n",
    "@jit\n",
    "def fit_w2v_avg(w2v_vectors,X_train_tokens):\n",
    "    X_vectors = np.array([get_mean_vector(w2v_vectors, words)\n",
    "                                for words in X_train_tokens])\n",
    "    return X_vectors\n",
    "    \n",
    "Com_Matrix = fit_w2v_avg(model,Comments_tokens)\n",
    "X = np.concatenate([Com_Matrix,Meta_Matrix],axis=1)\n",
    "X_train,X_test, y_train, y_test = train_test_split(X,y, test_size = 0.2, random_state = 100)"
   ]
  },
  {
   "cell_type": "markdown",
   "id": "37635fe2",
   "metadata": {},
   "source": [
    "Application Algorithme de GridSearch sur les modeles : GradientBoosting, RandomForest, et SVC"
   ]
  },
  {
   "cell_type": "code",
   "execution_count": 17,
   "id": "6ba99154",
   "metadata": {},
   "outputs": [],
   "source": [
    "@jit\n",
    "def modelisation(X_train,X_test):\n",
    "    gb = GradientBoostingClassifier()\n",
    "    rf = RandomForestClassifier()\n",
    "    svc = SVC()\n",
    "\n",
    "    param_grid_gb = {\"n_estimators\":[100,150,200], \"learning_rate\":[0.5,1.0,1.5], \"max_depth\": [1,2,3],\"random_state\" : [100] }\n",
    "    param_grid_svc = {'C':[0.1,1,10,30],\"kernel\" :[\"linear\", \"poly\", \"rbf\", \"sigmoid\"],\"random_state\" : [100] }\n",
    "    param_grid_rf = {'max_features': [\"sqrt\", \"log2\", None ],\"random_state\" : [100] }\n",
    "\n",
    "    gridcvs = {}\n",
    "    for pgrid, clf, name in zip((param_grid_gb, param_grid_rf, param_grid_svc),\n",
    "                                (gb, rf, svc),\n",
    "                                ('GB', 'RF', 'SVM')):\n",
    "        gcv = GridSearchCV(clf, pgrid, cv=5, n_jobs = -1, refit=True).fit(X_train,y_train)\n",
    "        gridcvs[name] = gcv\n",
    "    return gridcvs "
   ]
  },
  {
   "cell_type": "code",
   "execution_count": 18,
   "id": "3de286de",
   "metadata": {},
   "outputs": [
    {
     "name": "stdout",
     "output_type": "stream",
     "text": [
      "duration= 9310.877420902252\n"
     ]
    }
   ],
   "source": [
    "start = time.time()\n",
    "my_grid = modelisation(X_train,X_test)\n",
    "end = time.time()\n",
    "print(\"duration=\", end - start)"
   ]
  },
  {
   "cell_type": "markdown",
   "id": "b80339fa",
   "metadata": {},
   "source": [
    "Affichage des meilleurs parametres ainsi que des meilleurs score de précisions par models"
   ]
  },
  {
   "cell_type": "code",
   "execution_count": 19,
   "id": "9901a820",
   "metadata": {},
   "outputs": [
    {
     "name": "stdout",
     "output_type": "stream",
     "text": [
      "{'learning_rate': 0.5, 'max_depth': 1, 'n_estimators': 200, 'random_state': 100}\n",
      "{'max_features': None, 'random_state': 100}\n",
      "{'C': 1, 'kernel': 'rbf', 'random_state': 100}\n"
     ]
    }
   ],
   "source": [
    "print(my_grid[\"GB\"].best_params_)\n",
    "print(my_grid[\"RF\"].best_params_)\n",
    "print(my_grid[\"SVM\"].best_params_)"
   ]
  },
  {
   "cell_type": "code",
   "execution_count": 20,
   "id": "d87756ee",
   "metadata": {},
   "outputs": [
    {
     "name": "stdout",
     "output_type": "stream",
     "text": [
      "0.69179347397969\n",
      "0.6787921704019237\n",
      "0.6823237452464023\n"
     ]
    }
   ],
   "source": [
    "print(my_grid[\"GB\"].best_score_)\n",
    "print(my_grid[\"RF\"].best_score_)\n",
    "print(my_grid[\"SVM\"].best_score_)"
   ]
  },
  {
   "cell_type": "markdown",
   "id": "9e410e13",
   "metadata": {},
   "source": [
    "Application du model ayant eu la meilleur précision sur les données d'entrainement au set de test."
   ]
  },
  {
   "cell_type": "code",
   "execution_count": 29,
   "id": "7ba79e25",
   "metadata": {},
   "outputs": [
    {
     "data": {
      "text/plain": [
       "0.6883077847911031"
      ]
     },
     "execution_count": 29,
     "metadata": {},
     "output_type": "execute_result"
    }
   ],
   "source": [
    "clf = GradientBoostingClassifier(n_estimators=200, learning_rate=0.5, max_depth=1, random_state=0).fit(X_train, y_train)\n",
    "clf.score(X_test,y_test)"
   ]
  },
  {
   "cell_type": "markdown",
   "id": "b89974fb",
   "metadata": {},
   "source": [
    "Création d'un réseau de neurone"
   ]
  },
  {
   "cell_type": "code",
   "execution_count": 5,
   "id": "2b0c48de",
   "metadata": {},
   "outputs": [],
   "source": [
    "from tensorflow.keras.layers import Input, Dense \n",
    "from tensorflow.keras.models import Model"
   ]
  },
  {
   "cell_type": "code",
   "execution_count": 6,
   "id": "9242c798",
   "metadata": {},
   "outputs": [],
   "source": [
    "y = y.replace(to_replace = [1,2,3,4,5], value = [0,1,2,3,4])\n",
    "X_train,X_test, y_train, y_test = train_test_split(X,y, test_size = 0.2, random_state = 100)"
   ]
  },
  {
   "cell_type": "code",
   "execution_count": 7,
   "id": "67b83d37",
   "metadata": {},
   "outputs": [
    {
     "name": "stdout",
     "output_type": "stream",
     "text": [
      "Model: \"model\"\n",
      "_________________________________________________________________\n",
      " Layer (type)                Output Shape              Param #   \n",
      "=================================================================\n",
      " Input (InputLayer)          [(None, 211)]             0         \n",
      "                                                                 \n",
      " Dense_1 (Dense)             (None, 141)               29892     \n",
      "                                                                 \n",
      " Dense_2 (Dense)             (None, 71)                10082     \n",
      "                                                                 \n",
      " Dense_3 (Dense)             (None, 5)                 360       \n",
      "                                                                 \n",
      "=================================================================\n",
      "Total params: 40,334\n",
      "Trainable params: 40,334\n",
      "Non-trainable params: 0\n",
      "_________________________________________________________________\n"
     ]
    }
   ],
   "source": [
    "X_train_dim = X_train.shape[1]\n",
    "inputs = Input(shape = X_train_dim, name = \"Input\")\n",
    "couche={}\n",
    "n = 3\n",
    "for i in range(1,n+1):\n",
    "    if i !=n:\n",
    "        couche[i] = Dense(units = X_train_dim-i*(X_train_dim//n), activation = \"tanh\", name = \"Dense_\"+str(i))\n",
    "    else:\n",
    "        couche[i] = Dense(units = 5, activation = \"softmax\", name = \"Dense_\"+str(i))\n",
    "\n",
    "x=couche[1](inputs)\n",
    "for i in range(2,n):   \n",
    "    x=couche[i](x)\n",
    "outputs=couche[n](x)\n",
    "    \n",
    "\n",
    "model = Model(inputs = inputs, outputs = outputs)\n",
    "model.summary()"
   ]
  },
  {
   "cell_type": "code",
   "execution_count": 8,
   "id": "4ba8d2ea",
   "metadata": {},
   "outputs": [],
   "source": [
    "from tensorflow.keras.callbacks import ReduceLROnPlateau\n",
    "reducelr = ReduceLROnPlateau(monitor = 'val_accuracy',\n",
    "                        min_delta = 0.001,\n",
    "                        patience = 10,\n",
    "                        factor = 0.5, \n",
    "                        cooldown = 10,\n",
    "                        verbose = 1)\n",
    "\n",
    "\n",
    "from tensorflow.keras.callbacks import EarlyStopping \n",
    "earlystop = EarlyStopping(monitor = 'val_accuracy',\n",
    "                    min_delta = 0.0001,\n",
    "                    patience = 30,\n",
    "                    verbose = 1,\n",
    "                    restore_best_weights = True)"
   ]
  },
  {
   "cell_type": "code",
   "execution_count": 9,
   "id": "3b0f7b64",
   "metadata": {},
   "outputs": [
    {
     "name": "stdout",
     "output_type": "stream",
     "text": [
      "Epoch 1/500\n",
      "80/80 [==============================] - 1s 3ms/step - loss: 1.0129 - accuracy: 0.6252 - val_loss: 0.8795 - val_accuracy: 0.6574 - lr: 0.0010\n",
      "Epoch 2/500\n",
      "80/80 [==============================] - 0s 2ms/step - loss: 0.8412 - accuracy: 0.6751 - val_loss: 0.8604 - val_accuracy: 0.6566 - lr: 0.0010\n",
      "Epoch 3/500\n",
      "80/80 [==============================] - 0s 2ms/step - loss: 0.8207 - accuracy: 0.6828 - val_loss: 0.8553 - val_accuracy: 0.6679 - lr: 0.0010\n",
      "Epoch 4/500\n",
      "80/80 [==============================] - 0s 2ms/step - loss: 0.8123 - accuracy: 0.6860 - val_loss: 0.8526 - val_accuracy: 0.6687 - lr: 0.0010\n",
      "Epoch 5/500\n",
      "80/80 [==============================] - 0s 2ms/step - loss: 0.8088 - accuracy: 0.6883 - val_loss: 0.8475 - val_accuracy: 0.6694 - lr: 0.0010\n",
      "Epoch 6/500\n",
      "80/80 [==============================] - 0s 2ms/step - loss: 0.8005 - accuracy: 0.6941 - val_loss: 0.8447 - val_accuracy: 0.6717 - lr: 0.0010\n",
      "Epoch 7/500\n",
      "80/80 [==============================] - 0s 2ms/step - loss: 0.7936 - accuracy: 0.6931 - val_loss: 0.8491 - val_accuracy: 0.6694 - lr: 0.0010\n",
      "Epoch 8/500\n",
      "80/80 [==============================] - 0s 2ms/step - loss: 0.7945 - accuracy: 0.6970 - val_loss: 0.8566 - val_accuracy: 0.6672 - lr: 0.0010\n",
      "Epoch 9/500\n",
      "80/80 [==============================] - 0s 2ms/step - loss: 0.7868 - accuracy: 0.6973 - val_loss: 0.8535 - val_accuracy: 0.6709 - lr: 0.0010\n",
      "Epoch 10/500\n",
      "80/80 [==============================] - 0s 2ms/step - loss: 0.7852 - accuracy: 0.6980 - val_loss: 0.8521 - val_accuracy: 0.6702 - lr: 0.0010\n",
      "Epoch 11/500\n",
      "80/80 [==============================] - 0s 2ms/step - loss: 0.7802 - accuracy: 0.7021 - val_loss: 0.8512 - val_accuracy: 0.6694 - lr: 0.0010\n",
      "Epoch 12/500\n",
      "80/80 [==============================] - 0s 2ms/step - loss: 0.7784 - accuracy: 0.7014 - val_loss: 0.8510 - val_accuracy: 0.6694 - lr: 0.0010\n",
      "Epoch 13/500\n",
      "80/80 [==============================] - 0s 2ms/step - loss: 0.7723 - accuracy: 0.7058 - val_loss: 0.8510 - val_accuracy: 0.6694 - lr: 0.0010\n",
      "Epoch 14/500\n",
      "80/80 [==============================] - 0s 2ms/step - loss: 0.7683 - accuracy: 0.7044 - val_loss: 0.8519 - val_accuracy: 0.6747 - lr: 0.0010\n",
      "Epoch 15/500\n",
      "80/80 [==============================] - 0s 2ms/step - loss: 0.7643 - accuracy: 0.7080 - val_loss: 0.8444 - val_accuracy: 0.6769 - lr: 0.0010\n",
      "Epoch 16/500\n",
      "80/80 [==============================] - 0s 2ms/step - loss: 0.7635 - accuracy: 0.7063 - val_loss: 0.8539 - val_accuracy: 0.6642 - lr: 0.0010\n",
      "Epoch 17/500\n",
      "80/80 [==============================] - 0s 2ms/step - loss: 0.7586 - accuracy: 0.7103 - val_loss: 0.8490 - val_accuracy: 0.6717 - lr: 0.0010\n",
      "Epoch 18/500\n",
      "80/80 [==============================] - 0s 2ms/step - loss: 0.7528 - accuracy: 0.7089 - val_loss: 0.8482 - val_accuracy: 0.6732 - lr: 0.0010\n",
      "Epoch 19/500\n",
      "80/80 [==============================] - 0s 2ms/step - loss: 0.7493 - accuracy: 0.7155 - val_loss: 0.8399 - val_accuracy: 0.6807 - lr: 0.0010\n",
      "Epoch 20/500\n",
      "80/80 [==============================] - 0s 2ms/step - loss: 0.7447 - accuracy: 0.7143 - val_loss: 0.8420 - val_accuracy: 0.6769 - lr: 0.0010\n",
      "Epoch 21/500\n",
      "80/80 [==============================] - 0s 2ms/step - loss: 0.7415 - accuracy: 0.7174 - val_loss: 0.8398 - val_accuracy: 0.6799 - lr: 0.0010\n",
      "Epoch 22/500\n",
      "80/80 [==============================] - 0s 2ms/step - loss: 0.7359 - accuracy: 0.7211 - val_loss: 0.8427 - val_accuracy: 0.6762 - lr: 0.0010\n",
      "Epoch 23/500\n",
      "80/80 [==============================] - 0s 2ms/step - loss: 0.7320 - accuracy: 0.7212 - val_loss: 0.8472 - val_accuracy: 0.6739 - lr: 0.0010\n",
      "Epoch 24/500\n",
      "80/80 [==============================] - 0s 1ms/step - loss: 0.7272 - accuracy: 0.7234 - val_loss: 0.8492 - val_accuracy: 0.6769 - lr: 0.0010\n",
      "Epoch 25/500\n",
      "80/80 [==============================] - 0s 1ms/step - loss: 0.7247 - accuracy: 0.7218 - val_loss: 0.8496 - val_accuracy: 0.6762 - lr: 0.0010\n",
      "Epoch 26/500\n",
      "80/80 [==============================] - 0s 2ms/step - loss: 0.7170 - accuracy: 0.7243 - val_loss: 0.8518 - val_accuracy: 0.6724 - lr: 0.0010\n",
      "Epoch 27/500\n",
      "80/80 [==============================] - 0s 2ms/step - loss: 0.7164 - accuracy: 0.7292 - val_loss: 0.8434 - val_accuracy: 0.6844 - lr: 0.0010\n",
      "Epoch 28/500\n",
      "80/80 [==============================] - 0s 2ms/step - loss: 0.7058 - accuracy: 0.7332 - val_loss: 0.8479 - val_accuracy: 0.6792 - lr: 0.0010\n",
      "Epoch 29/500\n",
      "80/80 [==============================] - 0s 2ms/step - loss: 0.7018 - accuracy: 0.7342 - val_loss: 0.8541 - val_accuracy: 0.6777 - lr: 0.0010\n",
      "Epoch 30/500\n",
      "80/80 [==============================] - 0s 1ms/step - loss: 0.6989 - accuracy: 0.7344 - val_loss: 0.8535 - val_accuracy: 0.6709 - lr: 0.0010\n",
      "Epoch 31/500\n",
      "80/80 [==============================] - 0s 1ms/step - loss: 0.6917 - accuracy: 0.7381 - val_loss: 0.8601 - val_accuracy: 0.6784 - lr: 0.0010\n",
      "Epoch 32/500\n",
      "80/80 [==============================] - 0s 2ms/step - loss: 0.6875 - accuracy: 0.7385 - val_loss: 0.8455 - val_accuracy: 0.6822 - lr: 0.0010\n",
      "Epoch 33/500\n",
      "80/80 [==============================] - 0s 2ms/step - loss: 0.6804 - accuracy: 0.7438 - val_loss: 0.8542 - val_accuracy: 0.6844 - lr: 0.0010\n",
      "Epoch 34/500\n",
      "80/80 [==============================] - 0s 2ms/step - loss: 0.6756 - accuracy: 0.7427 - val_loss: 0.8644 - val_accuracy: 0.6642 - lr: 0.0010\n",
      "Epoch 35/500\n",
      "80/80 [==============================] - 0s 2ms/step - loss: 0.6685 - accuracy: 0.7501 - val_loss: 0.8582 - val_accuracy: 0.6694 - lr: 0.0010\n",
      "Epoch 36/500\n",
      "80/80 [==============================] - 0s 2ms/step - loss: 0.6658 - accuracy: 0.7491 - val_loss: 0.8838 - val_accuracy: 0.6627 - lr: 0.0010\n",
      "Epoch 37/500\n",
      "43/80 [===============>..............] - ETA: 0s - loss: 0.6621 - accuracy: 0.7560\n",
      "Epoch 37: ReduceLROnPlateau reducing learning rate to 0.0005000000237487257.\n",
      "80/80 [==============================] - 0s 2ms/step - loss: 0.6559 - accuracy: 0.7543 - val_loss: 0.8657 - val_accuracy: 0.6769 - lr: 0.0010\n",
      "Epoch 38/500\n",
      "80/80 [==============================] - 0s 1ms/step - loss: 0.6436 - accuracy: 0.7597 - val_loss: 0.8762 - val_accuracy: 0.6769 - lr: 5.0000e-04\n",
      "Epoch 39/500\n",
      "80/80 [==============================] - 0s 1ms/step - loss: 0.6363 - accuracy: 0.7642 - val_loss: 0.8631 - val_accuracy: 0.6769 - lr: 5.0000e-04\n",
      "Epoch 40/500\n",
      "80/80 [==============================] - 0s 2ms/step - loss: 0.6325 - accuracy: 0.7615 - val_loss: 0.8598 - val_accuracy: 0.6784 - lr: 5.0000e-04\n",
      "Epoch 41/500\n",
      "80/80 [==============================] - 0s 2ms/step - loss: 0.6291 - accuracy: 0.7671 - val_loss: 0.8603 - val_accuracy: 0.6777 - lr: 5.0000e-04\n",
      "Epoch 42/500\n",
      "80/80 [==============================] - 0s 2ms/step - loss: 0.6261 - accuracy: 0.7687 - val_loss: 0.8598 - val_accuracy: 0.6762 - lr: 5.0000e-04\n",
      "Epoch 43/500\n",
      "80/80 [==============================] - 0s 2ms/step - loss: 0.6220 - accuracy: 0.7699 - val_loss: 0.8669 - val_accuracy: 0.6739 - lr: 5.0000e-04\n",
      "Epoch 44/500\n",
      "80/80 [==============================] - 0s 2ms/step - loss: 0.6179 - accuracy: 0.7728 - val_loss: 0.8654 - val_accuracy: 0.6814 - lr: 5.0000e-04\n",
      "Epoch 45/500\n",
      "80/80 [==============================] - 0s 2ms/step - loss: 0.6160 - accuracy: 0.7724 - val_loss: 0.8724 - val_accuracy: 0.6829 - lr: 5.0000e-04\n",
      "Epoch 46/500\n",
      "80/80 [==============================] - 0s 2ms/step - loss: 0.6119 - accuracy: 0.7741 - val_loss: 0.8778 - val_accuracy: 0.6739 - lr: 5.0000e-04\n",
      "Epoch 47/500\n",
      "80/80 [==============================] - 0s 2ms/step - loss: 0.6078 - accuracy: 0.7782 - val_loss: 0.8707 - val_accuracy: 0.6792 - lr: 5.0000e-04\n",
      "Epoch 48/500\n",
      "80/80 [==============================] - 0s 2ms/step - loss: 0.6036 - accuracy: 0.7780 - val_loss: 0.8749 - val_accuracy: 0.6799 - lr: 5.0000e-04\n",
      "Epoch 49/500\n",
      "80/80 [==============================] - 0s 2ms/step - loss: 0.6010 - accuracy: 0.7801 - val_loss: 0.8772 - val_accuracy: 0.6754 - lr: 5.0000e-04\n",
      "Epoch 50/500\n",
      "80/80 [==============================] - 0s 2ms/step - loss: 0.5962 - accuracy: 0.7830 - val_loss: 0.8809 - val_accuracy: 0.6799 - lr: 5.0000e-04\n",
      "Epoch 51/500\n",
      "80/80 [==============================] - 0s 2ms/step - loss: 0.5946 - accuracy: 0.7813 - val_loss: 0.8787 - val_accuracy: 0.6822 - lr: 5.0000e-04\n",
      "Epoch 52/500\n"
     ]
    },
    {
     "name": "stdout",
     "output_type": "stream",
     "text": [
      "80/80 [==============================] - 0s 2ms/step - loss: 0.5923 - accuracy: 0.7846 - val_loss: 0.8884 - val_accuracy: 0.6717 - lr: 5.0000e-04\n",
      "Epoch 53/500\n",
      "80/80 [==============================] - 0s 2ms/step - loss: 0.5864 - accuracy: 0.7864 - val_loss: 0.8783 - val_accuracy: 0.6807 - lr: 5.0000e-04\n",
      "Epoch 54/500\n",
      "80/80 [==============================] - 0s 2ms/step - loss: 0.5849 - accuracy: 0.7858 - val_loss: 0.8880 - val_accuracy: 0.6694 - lr: 5.0000e-04\n",
      "Epoch 55/500\n",
      "80/80 [==============================] - 0s 2ms/step - loss: 0.5800 - accuracy: 0.7895 - val_loss: 0.8880 - val_accuracy: 0.6702 - lr: 5.0000e-04\n",
      "Epoch 56/500\n",
      "44/80 [===============>..............] - ETA: 0s - loss: 0.5764 - accuracy: 0.7921\n",
      "Epoch 56: ReduceLROnPlateau reducing learning rate to 0.0002500000118743628.\n",
      "80/80 [==============================] - 0s 1ms/step - loss: 0.5748 - accuracy: 0.7910 - val_loss: 0.8903 - val_accuracy: 0.6769 - lr: 5.0000e-04\n",
      "Epoch 57/500\n",
      "43/80 [===============>..............] - ETA: 0s - loss: 0.5619 - accuracy: 0.8028Restoring model weights from the end of the best epoch: 27.\n",
      "80/80 [==============================] - 0s 2ms/step - loss: 0.5662 - accuracy: 0.7975 - val_loss: 0.8845 - val_accuracy: 0.6799 - lr: 2.5000e-04\n",
      "Epoch 57: early stopping\n"
     ]
    }
   ],
   "source": [
    "model.compile(loss = \"sparse_categorical_crossentropy\",\n",
    "              optimizer = \"adam\",\n",
    "              metrics = [\"accuracy\"])\n",
    "model_history = model.fit(X_train,y_train,epochs=500,batch_size=150,validation_split=0.1, callbacks = [reducelr, earlystop])"
   ]
  },
  {
   "cell_type": "code",
   "execution_count": 10,
   "id": "e58a7892",
   "metadata": {},
   "outputs": [
    {
     "data": {
      "image/png": "[encoded data removed]",
      "text/plain": [
       "<Figure size 640x480 with 1 Axes>"
      ]
     },
     "metadata": {},
     "output_type": "display_data"
    }
   ],
   "source": [
    "import matplotlib.pyplot as plt\n",
    "\n",
    "train_acc = model_history.history['accuracy']\n",
    "val_acc = model_history.history['val_accuracy']\n",
    "\n",
    "plt.xlabel('Epochs')\n",
    "plt.ylabel('Accuracy')\n",
    "\n",
    "plt.plot(np.arange(1 , max(model_history.epoch)+2, 1),\n",
    "         model_history.history['accuracy'],\n",
    "         label = 'Training Accuracy',\n",
    "         color = 'blue')\n",
    "\n",
    "plt.plot(np.arange(1 , max(model_history.epoch)+2, 1),\n",
    "         model_history.history['val_accuracy'], \n",
    "         label = 'Validation Accuracy',\n",
    "         color = 'red')\n",
    "\n",
    "plt.legend()\n",
    "plt.show()"
   ]
  },
  {
   "cell_type": "markdown",
   "id": "ec42c04f",
   "metadata": {},
   "source": [
    "Estimation de la performance du reseau de neurone"
   ]
  },
  {
   "cell_type": "code",
   "execution_count": 11,
   "id": "5b6cfe7b",
   "metadata": {},
   "outputs": [
    {
     "name": "stdout",
     "output_type": "stream",
     "text": [
      "104/104 [==============================] - 0s 668us/step\n"
     ]
    }
   ],
   "source": [
    "test_pred = model.predict(X_test)\n",
    "\n",
    "y_test_class = y_test\n",
    "y_pred_class = np.argmax(test_pred,axis=1)\n"
   ]
  },
  {
   "cell_type": "code",
   "execution_count": 12,
   "id": "2c98fc7b",
   "metadata": {},
   "outputs": [
    {
     "name": "stdout",
     "output_type": "stream",
     "text": [
      "              precision    recall  f1-score   support\n",
      "\n",
      "           0       0.83      0.89      0.86       964\n",
      "           1       0.21      0.08      0.12       248\n",
      "           2       0.31      0.22      0.25       316\n",
      "           3       0.41      0.50      0.45       628\n",
      "           4       0.80      0.82      0.81      1171\n",
      "\n",
      "    accuracy                           0.67      3327\n",
      "   macro avg       0.51      0.50      0.50      3327\n",
      "weighted avg       0.64      0.67      0.65      3327\n",
      "\n",
      "[[857  16  28  51  12]\n",
      " [ 87  21  43  85  12]\n",
      " [ 28  27  68 168  25]\n",
      " [ 29  31  65 316 187]\n",
      " [ 37   7  17 148 962]]\n"
     ]
    }
   ],
   "source": [
    "from sklearn.metrics import classification_report,confusion_matrix\n",
    "print(classification_report(y_test_class,y_pred_class))\n",
    "print(confusion_matrix(y_test_class,y_pred_class)) "
   ]
  }
 ],
 "metadata": {
  "kernelspec": {
   "display_name": "Python 3 (ipykernel)",
   "language": "python",
   "name": "python3"
  },
  "language_info": {
   "codemirror_mode": {
    "name": "ipython",
    "version": 3
   },
   "file_extension": ".py",
   "mimetype": "text/x-python",
   "name": "python",
   "nbconvert_exporter": "python",
   "pygments_lexer": "ipython3",
   "version": "3.9.13"
  }
 },
 "nbformat": 4,
 "nbformat_minor": 5
}
