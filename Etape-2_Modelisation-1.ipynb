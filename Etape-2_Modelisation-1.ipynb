{
 "cells": [
  {
   "cell_type": "markdown",
   "id": "011c7e17",
   "metadata": {},
   "source": [
    "Importation du fichier de donnée retraité durant l'étape de datavisualisation"
   ]
  },
  {
   "cell_type": "code",
   "execution_count": 55,
   "id": "a4c04dfd",
   "metadata": {},
   "outputs": [
    {
     "data": {
      "text/html": [
       "<div>\n",
       "<style scoped>\n",
       "    .dataframe tbody tr th:only-of-type {\n",
       "        vertical-align: middle;\n",
       "    }\n",
       "\n",
       "    .dataframe tbody tr th {\n",
       "        vertical-align: top;\n",
       "    }\n",
       "\n",
       "    .dataframe thead th {\n",
       "        text-align: right;\n",
       "    }\n",
       "</style>\n",
       "<table border=\"1\" class=\"dataframe\">\n",
       "  <thead>\n",
       "    <tr style=\"text-align: right;\">\n",
       "      <th></th>\n",
       "      <th>Unnamed: 0</th>\n",
       "      <th>Commentaire</th>\n",
       "      <th>star</th>\n",
       "      <th>date</th>\n",
       "      <th>client</th>\n",
       "      <th>reponse</th>\n",
       "      <th>source</th>\n",
       "      <th>company</th>\n",
       "      <th>ville</th>\n",
       "      <th>date_commande</th>\n",
       "      <th>ecart</th>\n",
       "      <th>Language</th>\n",
       "      <th>Commentaires_reduit</th>\n",
       "      <th>com_nb_mots</th>\n",
       "      <th>Commentaires_reduit_racine</th>\n",
       "      <th>Commentaires_reduit_4mots</th>\n",
       "    </tr>\n",
       "  </thead>\n",
       "  <tbody>\n",
       "    <tr>\n",
       "      <th>0</th>\n",
       "      <td>0</td>\n",
       "      <td>Bonjour , Ca doit faire 5 ans environ que je s...</td>\n",
       "      <td>1</td>\n",
       "      <td>2021-06-20 00:00:00+00:00</td>\n",
       "      <td>AUDREY Du 62</td>\n",
       "      <td>NaN</td>\n",
       "      <td>TrustPilot</td>\n",
       "      <td>ShowRoom</td>\n",
       "      <td>NaN</td>\n",
       "      <td>NaN</td>\n",
       "      <td>NaN</td>\n",
       "      <td>fr</td>\n",
       "      <td>bonjour , ca doit 5 ans environ membre showroo...</td>\n",
       "      <td>246</td>\n",
       "      <td>bonjour , ca doit 5 an environ membr showroopr...</td>\n",
       "      <td>bonjour doit environ membre showrooprive jamai...</td>\n",
       "    </tr>\n",
       "    <tr>\n",
       "      <th>1</th>\n",
       "      <td>1</td>\n",
       "      <td>Vente lacoste article manquant photo prise sur...</td>\n",
       "      <td>1</td>\n",
       "      <td>2021-06-20 00:00:00+00:00</td>\n",
       "      <td>Nanasky De Verteuil</td>\n",
       "      <td>NaN</td>\n",
       "      <td>TrustPilot</td>\n",
       "      <td>ShowRoom</td>\n",
       "      <td>NaN</td>\n",
       "      <td>NaN</td>\n",
       "      <td>NaN</td>\n",
       "      <td>fr</td>\n",
       "      <td>vente lacoste manquant photo prise 6 articles ...</td>\n",
       "      <td>20</td>\n",
       "      <td>vent lacost manqu photo pris 6 articl moiti li...</td>\n",
       "      <td>vente lacoste manquant photo prise articles mo...</td>\n",
       "    </tr>\n",
       "    <tr>\n",
       "      <th>2</th>\n",
       "      <td>2</td>\n",
       "      <td>Vente Lacoste Honteuse , article erroné , arti...</td>\n",
       "      <td>1</td>\n",
       "      <td>2021-06-19 00:00:00+00:00</td>\n",
       "      <td>Vanessa L</td>\n",
       "      <td>NaN</td>\n",
       "      <td>TrustPilot</td>\n",
       "      <td>ShowRoom</td>\n",
       "      <td>NaN</td>\n",
       "      <td>NaN</td>\n",
       "      <td>NaN</td>\n",
       "      <td>fr</td>\n",
       "      <td>vente lacoste honteuse , erroné , manquant , b...</td>\n",
       "      <td>219</td>\n",
       "      <td>vent lacost honteux , erron , manqu , bon livr...</td>\n",
       "      <td>vente lacoste honteuse erroné manquant livrais...</td>\n",
       "    </tr>\n",
       "    <tr>\n",
       "      <th>3</th>\n",
       "      <td>3</td>\n",
       "      <td>J'ai commandé des mules de la marque Moosefiel...</td>\n",
       "      <td>2</td>\n",
       "      <td>2021-06-19 00:00:00+00:00</td>\n",
       "      <td>Valery PERRAULT</td>\n",
       "      <td>Bonjour , Je suis sincèrement navré d'apprendr...</td>\n",
       "      <td>TrustPilot</td>\n",
       "      <td>ShowRoom</td>\n",
       "      <td>NaN</td>\n",
       "      <td>NaN</td>\n",
       "      <td>NaN</td>\n",
       "      <td>fr</td>\n",
       "      <td>commandé mules marque moosefield , très déçue ...</td>\n",
       "      <td>29</td>\n",
       "      <td>command mul marqu moosefield , tres déçu produ...</td>\n",
       "      <td>commandé mules marque moosefield produit étiqu...</td>\n",
       "    </tr>\n",
       "    <tr>\n",
       "      <th>4</th>\n",
       "      <td>4</td>\n",
       "      <td>Commande téléphone etat A+ . Livraison d un vi...</td>\n",
       "      <td>1</td>\n",
       "      <td>2021-06-19 00:00:00+00:00</td>\n",
       "      <td>JULIE DRINGENBERG</td>\n",
       "      <td>Bonjour Julie , Je suis sincèrement désolé de ...</td>\n",
       "      <td>TrustPilot</td>\n",
       "      <td>ShowRoom</td>\n",
       "      <td>NaN</td>\n",
       "      <td>NaN</td>\n",
       "      <td>NaN</td>\n",
       "      <td>fr</td>\n",
       "      <td>téléphone etat a+ . livraison vieux téléphone ...</td>\n",
       "      <td>52</td>\n",
       "      <td>téléphon etat a+ . livraison vieux téléphon po...</td>\n",
       "      <td>téléphone etat livraison vieux téléphone pourr...</td>\n",
       "    </tr>\n",
       "  </tbody>\n",
       "</table>\n",
       "</div>"
      ],
      "text/plain": [
       "   Unnamed: 0                                        Commentaire  star  \\\n",
       "0           0  Bonjour , Ca doit faire 5 ans environ que je s...     1   \n",
       "1           1  Vente lacoste article manquant photo prise sur...     1   \n",
       "2           2  Vente Lacoste Honteuse , article erroné , arti...     1   \n",
       "3           3  J'ai commandé des mules de la marque Moosefiel...     2   \n",
       "4           4  Commande téléphone etat A+ . Livraison d un vi...     1   \n",
       "\n",
       "                        date               client  \\\n",
       "0  2021-06-20 00:00:00+00:00         AUDREY Du 62   \n",
       "1  2021-06-20 00:00:00+00:00  Nanasky De Verteuil   \n",
       "2  2021-06-19 00:00:00+00:00            Vanessa L   \n",
       "3  2021-06-19 00:00:00+00:00      Valery PERRAULT   \n",
       "4  2021-06-19 00:00:00+00:00    JULIE DRINGENBERG   \n",
       "\n",
       "                                             reponse      source   company  \\\n",
       "0                                                NaN  TrustPilot  ShowRoom   \n",
       "1                                                NaN  TrustPilot  ShowRoom   \n",
       "2                                                NaN  TrustPilot  ShowRoom   \n",
       "3  Bonjour , Je suis sincèrement navré d'apprendr...  TrustPilot  ShowRoom   \n",
       "4  Bonjour Julie , Je suis sincèrement désolé de ...  TrustPilot  ShowRoom   \n",
       "\n",
       "  ville date_commande  ecart Language  \\\n",
       "0   NaN           NaN    NaN       fr   \n",
       "1   NaN           NaN    NaN       fr   \n",
       "2   NaN           NaN    NaN       fr   \n",
       "3   NaN           NaN    NaN       fr   \n",
       "4   NaN           NaN    NaN       fr   \n",
       "\n",
       "                                 Commentaires_reduit  com_nb_mots  \\\n",
       "0  bonjour , ca doit 5 ans environ membre showroo...          246   \n",
       "1  vente lacoste manquant photo prise 6 articles ...           20   \n",
       "2  vente lacoste honteuse , erroné , manquant , b...          219   \n",
       "3  commandé mules marque moosefield , très déçue ...           29   \n",
       "4  téléphone etat a+ . livraison vieux téléphone ...           52   \n",
       "\n",
       "                          Commentaires_reduit_racine  \\\n",
       "0  bonjour , ca doit 5 an environ membr showroopr...   \n",
       "1  vent lacost manqu photo pris 6 articl moiti li...   \n",
       "2  vent lacost honteux , erron , manqu , bon livr...   \n",
       "3  command mul marqu moosefield , tres déçu produ...   \n",
       "4  téléphon etat a+ . livraison vieux téléphon po...   \n",
       "\n",
       "                           Commentaires_reduit_4mots  \n",
       "0  bonjour doit environ membre showrooprive jamai...  \n",
       "1  vente lacoste manquant photo prise articles mo...  \n",
       "2  vente lacoste honteuse erroné manquant livrais...  \n",
       "3  commandé mules marque moosefield produit étiqu...  \n",
       "4  téléphone etat livraison vieux téléphone pourr...  "
      ]
     },
     "execution_count": 55,
     "metadata": {},
     "output_type": "execute_result"
    }
   ],
   "source": [
    "import pandas as pd\n",
    "import numpy as np\n",
    "\n",
    "df = pd.read_csv(\"Data Satisfaction - Dan processed.csv\")\n",
    "\n",
    "df.head()"
   ]
  },
  {
   "cell_type": "markdown",
   "id": "98c90c4d",
   "metadata": {},
   "source": [
    "Retraitement du fichier:\n",
    "\n",
    "- Attribution valeur 1 ou 0 suivant la présence de données ou de NAN pour les colonnes client, ville et réponse\n",
    "- suppression de la colonne langue, ansin que de la colonne Unnamed:0"
   ]
  },
  {
   "cell_type": "code",
   "execution_count": 7,
   "id": "7f9c97ee",
   "metadata": {},
   "outputs": [],
   "source": [
    "df = df.drop([\"Unnamed: 0\",\"Language\"],axis =1)"
   ]
  },
  {
   "cell_type": "code",
   "execution_count": 8,
   "id": "d9c5f4e7",
   "metadata": {},
   "outputs": [],
   "source": [
    "df[\"client\"] = df[\"client\"].isna().replace(to_replace =[False,True], value=[1,0])\n",
    "df[\"ville\"] = df[\"ville\"].isna().replace(to_replace =[False,True], value=[1,0])\n",
    "df[\"reponse\"] = df[\"reponse\"].isna().replace(to_replace =[False,True], value=[1,0])"
   ]
  },
  {
   "cell_type": "markdown",
   "id": "2513c947",
   "metadata": {},
   "source": [
    "- Attribution de valeur numérique pour les colonnes source et company"
   ]
  },
  {
   "cell_type": "code",
   "execution_count": 9,
   "id": "b9b33b18",
   "metadata": {},
   "outputs": [],
   "source": [
    "df[\"source\"] = df[\"source\"].isna().replace(to_replace =[\"TrustPilot\",\"TrustedShop\"], value=[1,0])\n",
    "df[\"company\"] = df[\"company\"].isna().replace(to_replace =[\"ShowRoom\",\"VeePee\"], value=[1,0])"
   ]
  },
  {
   "cell_type": "markdown",
   "id": "c4b3025e",
   "metadata": {},
   "source": [
    "## Modelisation 1\n",
    "\n",
    "Dans une premiere tentative de modélisation, nous allons appliquer un algorithme de gradient boosting sur la colonnes: \"commentaires_reduit_4mots\".\n",
    "Pour une optimisation des temps de calculs, nous allons vectoriser la colonne commentaire réduit 4 mots avec les mots revenant au moins 100 fois dans les commentaires"
   ]
  },
  {
   "cell_type": "markdown",
   "id": "71e01e48",
   "metadata": {},
   "source": [
    "- Suppression des colonnes autres que \"commentaires_réduit_4mots\" et \"star\""
   ]
  },
  {
   "cell_type": "code",
   "execution_count": 10,
   "id": "65a290b2",
   "metadata": {},
   "outputs": [],
   "source": [
    "df1 = df[[\"star\", \"Commentaires_reduit_4mots\"]]"
   ]
  },
  {
   "cell_type": "markdown",
   "id": "965f46c4",
   "metadata": {},
   "source": [
    "Verification et suppression des valeurs NaN"
   ]
  },
  {
   "cell_type": "code",
   "execution_count": 11,
   "id": "97a5a321",
   "metadata": {},
   "outputs": [
    {
     "data": {
      "text/plain": [
       "star                          0\n",
       "Commentaires_reduit_4mots    35\n",
       "dtype: int64"
      ]
     },
     "execution_count": 11,
     "metadata": {},
     "output_type": "execute_result"
    }
   ],
   "source": [
    "df1.isna().sum()"
   ]
  },
  {
   "cell_type": "code",
   "execution_count": 12,
   "id": "a5b206b9",
   "metadata": {},
   "outputs": [],
   "source": [
    "df1 = df1.dropna(axis = 0, how = \"all\", subset =[\"Commentaires_reduit_4mots\"])"
   ]
  },
  {
   "cell_type": "markdown",
   "id": "888be654",
   "metadata": {},
   "source": [
    "Determination de l'ensemble des mots apparaissant plus d'une centaine de fois dans les commentaires"
   ]
  },
  {
   "cell_type": "code",
   "execution_count": 13,
   "id": "a7e3a04c",
   "metadata": {},
   "outputs": [],
   "source": [
    "from collections import Counter\n",
    "chaine = ' '.join(str(i).lower() for i in df1.Commentaires_reduit_4mots)\n",
    "dico = Counter(chaine.split())\n",
    "freqmots = pd.DataFrame.from_dict(dico, orient=\"index\", columns = [\"iteration\"])\n",
    "freqmots = freqmots.sort_values(\"iteration\", ascending = False)\n",
    "freq_sup_100 = freqmots[freqmots[\"iteration\"] >= 100].reset_index()\n"
   ]
  },
  {
   "cell_type": "code",
   "execution_count": 14,
   "id": "5f9fa380",
   "metadata": {},
   "outputs": [
    {
     "data": {
      "text/html": [
       "<div>\n",
       "<style scoped>\n",
       "    .dataframe tbody tr th:only-of-type {\n",
       "        vertical-align: middle;\n",
       "    }\n",
       "\n",
       "    .dataframe tbody tr th {\n",
       "        vertical-align: top;\n",
       "    }\n",
       "\n",
       "    .dataframe thead th {\n",
       "        text-align: right;\n",
       "    }\n",
       "</style>\n",
       "<table border=\"1\" class=\"dataframe\">\n",
       "  <thead>\n",
       "    <tr style=\"text-align: right;\">\n",
       "      <th></th>\n",
       "      <th>index</th>\n",
       "      <th>iteration</th>\n",
       "    </tr>\n",
       "  </thead>\n",
       "  <tbody>\n",
       "    <tr>\n",
       "      <th>0</th>\n",
       "      <td>livraison</td>\n",
       "      <td>4945</td>\n",
       "    </tr>\n",
       "    <tr>\n",
       "      <th>1</th>\n",
       "      <td>plus</td>\n",
       "      <td>4814</td>\n",
       "    </tr>\n",
       "    <tr>\n",
       "      <th>2</th>\n",
       "      <td>colis</td>\n",
       "      <td>3400</td>\n",
       "    </tr>\n",
       "    <tr>\n",
       "      <th>3</th>\n",
       "      <td>site</td>\n",
       "      <td>3173</td>\n",
       "    </tr>\n",
       "    <tr>\n",
       "      <th>4</th>\n",
       "      <td>service</td>\n",
       "      <td>3161</td>\n",
       "    </tr>\n",
       "  </tbody>\n",
       "</table>\n",
       "</div>"
      ],
      "text/plain": [
       "       index  iteration\n",
       "0  livraison       4945\n",
       "1       plus       4814\n",
       "2      colis       3400\n",
       "3       site       3173\n",
       "4    service       3161"
      ]
     },
     "execution_count": 14,
     "metadata": {},
     "output_type": "execute_result"
    }
   ],
   "source": [
    "freq_sup_100.head()"
   ]
  },
  {
   "cell_type": "markdown",
   "id": "4153ba8c",
   "metadata": {},
   "source": [
    "On vectorise à present l\"ensemble des commentaires par cette ensemble"
   ]
  },
  {
   "cell_type": "code",
   "execution_count": 15,
   "id": "13cb64c3",
   "metadata": {},
   "outputs": [],
   "source": [
    "from sklearn.feature_extraction.text import CountVectorizer\n",
    "vectorizer = CountVectorizer()\n",
    "vectorizer.fit_transform(freq_sup_100[\"index\"])\n",
    "tokenized = vectorizer.vocabulary_\n",
    "X = vectorizer.transform(df1[\"Commentaires_reduit_4mots\"]).todense()"
   ]
  },
  {
   "cell_type": "markdown",
   "id": "d7b56820",
   "metadata": {},
   "source": [
    "On applique à present l'algorithme de GradientBoosting:"
   ]
  },
  {
   "cell_type": "code",
   "execution_count": 16,
   "id": "e8fb00c1",
   "metadata": {},
   "outputs": [],
   "source": [
    "y = df1[\"star\"]"
   ]
  },
  {
   "cell_type": "code",
   "execution_count": 17,
   "id": "40411ff0",
   "metadata": {},
   "outputs": [],
   "source": [
    "from sklearn.model_selection import train_test_split\n",
    "X_train,X_test, y_train, y_test = train_test_split(X,y, test_size = 0.2, random_state = 100)"
   ]
  },
  {
   "cell_type": "code",
   "execution_count": 18,
   "id": "b220122c",
   "metadata": {},
   "outputs": [
    {
     "name": "stderr",
     "output_type": "stream",
     "text": [
      "C:\\Users\\Michelle\\anaconda3\\lib\\site-packages\\sklearn\\utils\\validation.py:727: FutureWarning: np.matrix usage is deprecated in 1.0 and will raise a TypeError in 1.2. Please convert to a numpy array with np.asarray. For more information see: https://numpy.org/doc/stable/reference/generated/numpy.matrix.html\n",
      "  warnings.warn(\n",
      "C:\\Users\\Michelle\\anaconda3\\lib\\site-packages\\sklearn\\utils\\validation.py:727: FutureWarning: np.matrix usage is deprecated in 1.0 and will raise a TypeError in 1.2. Please convert to a numpy array with np.asarray. For more information see: https://numpy.org/doc/stable/reference/generated/numpy.matrix.html\n",
      "  warnings.warn(\n"
     ]
    }
   ],
   "source": [
    "from sklearn.ensemble import GradientBoostingClassifier\n",
    "\n",
    "clf = GradientBoostingClassifier(n_estimators=100, learning_rate=1.0, max_depth=1, random_state=0).fit(X_train, y_train)\n",
    "\n",
    "y_pred = clf.predict(X_test)"
   ]
  },
  {
   "cell_type": "code",
   "execution_count": 19,
   "id": "9681894e",
   "metadata": {},
   "outputs": [
    {
     "data": {
      "text/html": [
       "<div>\n",
       "<style scoped>\n",
       "    .dataframe tbody tr th:only-of-type {\n",
       "        vertical-align: middle;\n",
       "    }\n",
       "\n",
       "    .dataframe tbody tr th {\n",
       "        vertical-align: top;\n",
       "    }\n",
       "\n",
       "    .dataframe thead th {\n",
       "        text-align: right;\n",
       "    }\n",
       "</style>\n",
       "<table border=\"1\" class=\"dataframe\">\n",
       "  <thead>\n",
       "    <tr style=\"text-align: right;\">\n",
       "      <th>valeurs prédites</th>\n",
       "      <th>1</th>\n",
       "      <th>2</th>\n",
       "      <th>3</th>\n",
       "      <th>4</th>\n",
       "      <th>5</th>\n",
       "    </tr>\n",
       "    <tr>\n",
       "      <th>valeurs réelle</th>\n",
       "      <th></th>\n",
       "      <th></th>\n",
       "      <th></th>\n",
       "      <th></th>\n",
       "      <th></th>\n",
       "    </tr>\n",
       "  </thead>\n",
       "  <tbody>\n",
       "    <tr>\n",
       "      <th>1</th>\n",
       "      <td>772</td>\n",
       "      <td>34</td>\n",
       "      <td>32</td>\n",
       "      <td>50</td>\n",
       "      <td>74</td>\n",
       "    </tr>\n",
       "    <tr>\n",
       "      <th>2</th>\n",
       "      <td>101</td>\n",
       "      <td>19</td>\n",
       "      <td>25</td>\n",
       "      <td>47</td>\n",
       "      <td>52</td>\n",
       "    </tr>\n",
       "    <tr>\n",
       "      <th>3</th>\n",
       "      <td>64</td>\n",
       "      <td>14</td>\n",
       "      <td>35</td>\n",
       "      <td>127</td>\n",
       "      <td>107</td>\n",
       "    </tr>\n",
       "    <tr>\n",
       "      <th>4</th>\n",
       "      <td>33</td>\n",
       "      <td>9</td>\n",
       "      <td>29</td>\n",
       "      <td>214</td>\n",
       "      <td>338</td>\n",
       "    </tr>\n",
       "    <tr>\n",
       "      <th>5</th>\n",
       "      <td>28</td>\n",
       "      <td>5</td>\n",
       "      <td>9</td>\n",
       "      <td>96</td>\n",
       "      <td>1007</td>\n",
       "    </tr>\n",
       "  </tbody>\n",
       "</table>\n",
       "</div>"
      ],
      "text/plain": [
       "valeurs prédites    1   2   3    4     5\n",
       "valeurs réelle                          \n",
       "1                 772  34  32   50    74\n",
       "2                 101  19  25   47    52\n",
       "3                  64  14  35  127   107\n",
       "4                  33   9  29  214   338\n",
       "5                  28   5   9   96  1007"
      ]
     },
     "execution_count": 19,
     "metadata": {},
     "output_type": "execute_result"
    }
   ],
   "source": [
    "pd.crosstab(y_test,y_pred, rownames =[\"valeurs réelle\"] , colnames = [\"valeurs prédites\"])"
   ]
  },
  {
   "cell_type": "code",
   "execution_count": 20,
   "id": "53edfbbe",
   "metadata": {},
   "outputs": [
    {
     "name": "stderr",
     "output_type": "stream",
     "text": [
      "C:\\Users\\Michelle\\anaconda3\\lib\\site-packages\\sklearn\\utils\\validation.py:727: FutureWarning: np.matrix usage is deprecated in 1.0 and will raise a TypeError in 1.2. Please convert to a numpy array with np.asarray. For more information see: https://numpy.org/doc/stable/reference/generated/numpy.matrix.html\n",
      "  warnings.warn(\n"
     ]
    },
    {
     "data": {
      "text/plain": [
       "0.616380608250527"
      ]
     },
     "execution_count": 20,
     "metadata": {},
     "output_type": "execute_result"
    }
   ],
   "source": [
    "clf.score(X_test,y_test)"
   ]
  },
  {
   "cell_type": "markdown",
   "id": "434f101d",
   "metadata": {},
   "source": [
    "on obtient un score R² de 0.62, et on observe que ce sont surtout les valeurs extremes (1 & 5) qui sont en majeur partie prédit correctement"
   ]
  },
  {
   "cell_type": "markdown",
   "id": "b4b12231",
   "metadata": {},
   "source": [
    "### Optimisation : variations des parametres\n",
    "\n",
    "Pour optimiser les performances du model, une premiere piste serait de faire varier : \n",
    " - Les parametres du models\n",
    " - le nombre de mots utilisé dans la vectorisation des commentaires"
   ]
  },
  {
   "cell_type": "markdown",
   "id": "bd0884d3",
   "metadata": {},
   "source": [
    "Une estimation exhaustive de la performance en fonction des parametres ainsi que du nombre de mots à travers le code ci dessous n'as pas été possible en raison de temps de calcul extremement long (supérieur à 12h)"
   ]
  },
  {
   "cell_type": "code",
   "execution_count": null,
   "id": "3d81bb43",
   "metadata": {},
   "outputs": [],
   "source": [
    "#from sklearn.model_selection import GridSearchCV\n",
    "#mots = [25,50,75,100]\n",
    "#parametres = {\"n_estimators\":[50,75,100,125,150],\"learning_rate\": [0.1,0.5,1,1.5,2],\"max_depth\":[1, 2, 3,4,5]}\n",
    "#gridcv = {}\n",
    "#for i in mots: \n",
    "#    freq = freqmots[freqmots[\"iteration\"] >= i].reset_index()\n",
    "#    vectorizer.fit_transform(freq[\"index\"])\n",
    "#    tokenized = vectorizer.vocabulary_\n",
    "#    X = vectorizer.transform(df1[\"Commentaires_reduit_4mots\"]).todense()\n",
    "#    X_train,X_test, y_train, y_test = train_test_split(X,y, test_size = 0.2, random_state = 100) \n",
    "#    gcv=GridSearchCV(estimator = clf, param_grid = parametres,cv=3)\n",
    "#    gcv.fit(X_train,y_train)\n",
    "#    gridcv[i]= gcv"
   ]
  },
  {
   "cell_type": "markdown",
   "id": "15dbd6db",
   "metadata": {},
   "source": [
    "Une approche itérative a été préféré pour voir si la variation d'un des parametres améliore les performances du model"
   ]
  },
  {
   "cell_type": "code",
   "execution_count": 46,
   "id": "f1de36bd",
   "metadata": {},
   "outputs": [
    {
     "name": "stderr",
     "output_type": "stream",
     "text": [
      "C:\\Users\\Michelle\\anaconda3\\lib\\site-packages\\sklearn\\utils\\validation.py:593: FutureWarning: np.matrix usage is deprecated in 1.0 and will raise a TypeError in 1.2. Please convert to a numpy array with np.asarray. For more information see: https://numpy.org/doc/stable/reference/generated/numpy.matrix.html\n",
      "  warnings.warn(\n",
      "C:\\Users\\Michelle\\anaconda3\\lib\\site-packages\\sklearn\\utils\\validation.py:593: FutureWarning: np.matrix usage is deprecated in 1.0 and will raise a TypeError in 1.2. Please convert to a numpy array with np.asarray. For more information see: https://numpy.org/doc/stable/reference/generated/numpy.matrix.html\n",
      "  warnings.warn(\n"
     ]
    },
    {
     "data": {
      "text/html": [
       "<div>\n",
       "<style scoped>\n",
       "    .dataframe tbody tr th:only-of-type {\n",
       "        vertical-align: middle;\n",
       "    }\n",
       "\n",
       "    .dataframe tbody tr th {\n",
       "        vertical-align: top;\n",
       "    }\n",
       "\n",
       "    .dataframe thead th {\n",
       "        text-align: right;\n",
       "    }\n",
       "</style>\n",
       "<table border=\"1\" class=\"dataframe\">\n",
       "  <thead>\n",
       "    <tr style=\"text-align: right;\">\n",
       "      <th>valeurs prédites</th>\n",
       "      <th>1</th>\n",
       "      <th>2</th>\n",
       "      <th>3</th>\n",
       "      <th>4</th>\n",
       "      <th>5</th>\n",
       "    </tr>\n",
       "    <tr>\n",
       "      <th>valeurs réelle</th>\n",
       "      <th></th>\n",
       "      <th></th>\n",
       "      <th></th>\n",
       "      <th></th>\n",
       "      <th></th>\n",
       "    </tr>\n",
       "  </thead>\n",
       "  <tbody>\n",
       "    <tr>\n",
       "      <th>1</th>\n",
       "      <td>756</td>\n",
       "      <td>56</td>\n",
       "      <td>37</td>\n",
       "      <td>60</td>\n",
       "      <td>53</td>\n",
       "    </tr>\n",
       "    <tr>\n",
       "      <th>2</th>\n",
       "      <td>99</td>\n",
       "      <td>23</td>\n",
       "      <td>22</td>\n",
       "      <td>64</td>\n",
       "      <td>36</td>\n",
       "    </tr>\n",
       "    <tr>\n",
       "      <th>3</th>\n",
       "      <td>64</td>\n",
       "      <td>25</td>\n",
       "      <td>41</td>\n",
       "      <td>135</td>\n",
       "      <td>82</td>\n",
       "    </tr>\n",
       "    <tr>\n",
       "      <th>4</th>\n",
       "      <td>46</td>\n",
       "      <td>10</td>\n",
       "      <td>29</td>\n",
       "      <td>231</td>\n",
       "      <td>307</td>\n",
       "    </tr>\n",
       "    <tr>\n",
       "      <th>5</th>\n",
       "      <td>26</td>\n",
       "      <td>8</td>\n",
       "      <td>11</td>\n",
       "      <td>105</td>\n",
       "      <td>995</td>\n",
       "    </tr>\n",
       "  </tbody>\n",
       "</table>\n",
       "</div>"
      ],
      "text/plain": [
       "valeurs prédites    1   2   3    4    5\n",
       "valeurs réelle                         \n",
       "1                 756  56  37   60   53\n",
       "2                  99  23  22   64   36\n",
       "3                  64  25  41  135   82\n",
       "4                  46  10  29  231  307\n",
       "5                  26   8  11  105  995"
      ]
     },
     "metadata": {},
     "output_type": "display_data"
    },
    {
     "name": "stderr",
     "output_type": "stream",
     "text": [
      "C:\\Users\\Michelle\\anaconda3\\lib\\site-packages\\sklearn\\utils\\validation.py:593: FutureWarning: np.matrix usage is deprecated in 1.0 and will raise a TypeError in 1.2. Please convert to a numpy array with np.asarray. For more information see: https://numpy.org/doc/stable/reference/generated/numpy.matrix.html\n",
      "  warnings.warn(\n"
     ]
    },
    {
     "name": "stdout",
     "output_type": "stream",
     "text": [
      "0.6160794941282746\n"
     ]
    }
   ],
   "source": [
    "clf = GradientBoostingClassifier(n_estimators=100, learning_rate=1.0, max_depth=2, random_state=0).fit(X_train, y_train)\n",
    "\n",
    "y_pred = clf.predict(X_test)\n",
    "display(pd.crosstab(y_test,y_pred, rownames =[\"valeurs réelle\"] , colnames = [\"valeurs prédites\"]))\n",
    "print(clf.score(X_test,y_test))\n"
   ]
  },
  {
   "cell_type": "code",
   "execution_count": 47,
   "id": "2971bd14",
   "metadata": {},
   "outputs": [
    {
     "name": "stderr",
     "output_type": "stream",
     "text": [
      "C:\\Users\\Michelle\\anaconda3\\lib\\site-packages\\sklearn\\utils\\validation.py:593: FutureWarning: np.matrix usage is deprecated in 1.0 and will raise a TypeError in 1.2. Please convert to a numpy array with np.asarray. For more information see: https://numpy.org/doc/stable/reference/generated/numpy.matrix.html\n",
      "  warnings.warn(\n",
      "C:\\Users\\Michelle\\anaconda3\\lib\\site-packages\\sklearn\\utils\\validation.py:593: FutureWarning: np.matrix usage is deprecated in 1.0 and will raise a TypeError in 1.2. Please convert to a numpy array with np.asarray. For more information see: https://numpy.org/doc/stable/reference/generated/numpy.matrix.html\n",
      "  warnings.warn(\n"
     ]
    },
    {
     "data": {
      "text/html": [
       "<div>\n",
       "<style scoped>\n",
       "    .dataframe tbody tr th:only-of-type {\n",
       "        vertical-align: middle;\n",
       "    }\n",
       "\n",
       "    .dataframe tbody tr th {\n",
       "        vertical-align: top;\n",
       "    }\n",
       "\n",
       "    .dataframe thead th {\n",
       "        text-align: right;\n",
       "    }\n",
       "</style>\n",
       "<table border=\"1\" class=\"dataframe\">\n",
       "  <thead>\n",
       "    <tr style=\"text-align: right;\">\n",
       "      <th>valeurs prédites</th>\n",
       "      <th>1</th>\n",
       "      <th>2</th>\n",
       "      <th>3</th>\n",
       "      <th>4</th>\n",
       "      <th>5</th>\n",
       "    </tr>\n",
       "    <tr>\n",
       "      <th>valeurs réelle</th>\n",
       "      <th></th>\n",
       "      <th></th>\n",
       "      <th></th>\n",
       "      <th></th>\n",
       "      <th></th>\n",
       "    </tr>\n",
       "  </thead>\n",
       "  <tbody>\n",
       "    <tr>\n",
       "      <th>1</th>\n",
       "      <td>757</td>\n",
       "      <td>63</td>\n",
       "      <td>44</td>\n",
       "      <td>48</td>\n",
       "      <td>50</td>\n",
       "    </tr>\n",
       "    <tr>\n",
       "      <th>2</th>\n",
       "      <td>97</td>\n",
       "      <td>32</td>\n",
       "      <td>35</td>\n",
       "      <td>49</td>\n",
       "      <td>31</td>\n",
       "    </tr>\n",
       "    <tr>\n",
       "      <th>3</th>\n",
       "      <td>66</td>\n",
       "      <td>30</td>\n",
       "      <td>53</td>\n",
       "      <td>125</td>\n",
       "      <td>73</td>\n",
       "    </tr>\n",
       "    <tr>\n",
       "      <th>4</th>\n",
       "      <td>45</td>\n",
       "      <td>12</td>\n",
       "      <td>48</td>\n",
       "      <td>221</td>\n",
       "      <td>297</td>\n",
       "    </tr>\n",
       "    <tr>\n",
       "      <th>5</th>\n",
       "      <td>20</td>\n",
       "      <td>10</td>\n",
       "      <td>19</td>\n",
       "      <td>131</td>\n",
       "      <td>965</td>\n",
       "    </tr>\n",
       "  </tbody>\n",
       "</table>\n",
       "</div>"
      ],
      "text/plain": [
       "valeurs prédites    1   2   3    4    5\n",
       "valeurs réelle                         \n",
       "1                 757  63  44   48   50\n",
       "2                  97  32  35   49   31\n",
       "3                  66  30  53  125   73\n",
       "4                  45  12  48  221  297\n",
       "5                  20  10  19  131  965"
      ]
     },
     "metadata": {},
     "output_type": "display_data"
    },
    {
     "name": "stderr",
     "output_type": "stream",
     "text": [
      "C:\\Users\\Michelle\\anaconda3\\lib\\site-packages\\sklearn\\utils\\validation.py:593: FutureWarning: np.matrix usage is deprecated in 1.0 and will raise a TypeError in 1.2. Please convert to a numpy array with np.asarray. For more information see: https://numpy.org/doc/stable/reference/generated/numpy.matrix.html\n",
      "  warnings.warn(\n"
     ]
    },
    {
     "name": "stdout",
     "output_type": "stream",
     "text": [
      "0.6106594399277326\n"
     ]
    }
   ],
   "source": [
    "clf = GradientBoostingClassifier(n_estimators=100, learning_rate=1.0, max_depth=3, random_state=0).fit(X_train, y_train)\n",
    "\n",
    "y_pred = clf.predict(X_test)\n",
    "display(pd.crosstab(y_test,y_pred, rownames =[\"valeurs réelle\"] , colnames = [\"valeurs prédites\"]))\n",
    "print(clf.score(X_test,y_test))"
   ]
  },
  {
   "cell_type": "markdown",
   "id": "2cc6ef6e",
   "metadata": {},
   "source": [
    "La variation de la profondeur ne semble pas améliorer significativement la performance du model. Voyons ce qu'il en est pour le nombre d'estimateurs:"
   ]
  },
  {
   "cell_type": "code",
   "execution_count": 48,
   "id": "ec7d3470",
   "metadata": {},
   "outputs": [
    {
     "name": "stderr",
     "output_type": "stream",
     "text": [
      "C:\\Users\\Michelle\\anaconda3\\lib\\site-packages\\sklearn\\utils\\validation.py:593: FutureWarning: np.matrix usage is deprecated in 1.0 and will raise a TypeError in 1.2. Please convert to a numpy array with np.asarray. For more information see: https://numpy.org/doc/stable/reference/generated/numpy.matrix.html\n",
      "  warnings.warn(\n",
      "C:\\Users\\Michelle\\anaconda3\\lib\\site-packages\\sklearn\\utils\\validation.py:593: FutureWarning: np.matrix usage is deprecated in 1.0 and will raise a TypeError in 1.2. Please convert to a numpy array with np.asarray. For more information see: https://numpy.org/doc/stable/reference/generated/numpy.matrix.html\n",
      "  warnings.warn(\n"
     ]
    },
    {
     "data": {
      "text/html": [
       "<div>\n",
       "<style scoped>\n",
       "    .dataframe tbody tr th:only-of-type {\n",
       "        vertical-align: middle;\n",
       "    }\n",
       "\n",
       "    .dataframe tbody tr th {\n",
       "        vertical-align: top;\n",
       "    }\n",
       "\n",
       "    .dataframe thead th {\n",
       "        text-align: right;\n",
       "    }\n",
       "</style>\n",
       "<table border=\"1\" class=\"dataframe\">\n",
       "  <thead>\n",
       "    <tr style=\"text-align: right;\">\n",
       "      <th>valeurs prédites</th>\n",
       "      <th>1</th>\n",
       "      <th>2</th>\n",
       "      <th>3</th>\n",
       "      <th>4</th>\n",
       "      <th>5</th>\n",
       "    </tr>\n",
       "    <tr>\n",
       "      <th>valeurs réelle</th>\n",
       "      <th></th>\n",
       "      <th></th>\n",
       "      <th></th>\n",
       "      <th></th>\n",
       "      <th></th>\n",
       "    </tr>\n",
       "  </thead>\n",
       "  <tbody>\n",
       "    <tr>\n",
       "      <th>1</th>\n",
       "      <td>772</td>\n",
       "      <td>34</td>\n",
       "      <td>31</td>\n",
       "      <td>52</td>\n",
       "      <td>73</td>\n",
       "    </tr>\n",
       "    <tr>\n",
       "      <th>2</th>\n",
       "      <td>102</td>\n",
       "      <td>19</td>\n",
       "      <td>26</td>\n",
       "      <td>44</td>\n",
       "      <td>53</td>\n",
       "    </tr>\n",
       "    <tr>\n",
       "      <th>3</th>\n",
       "      <td>64</td>\n",
       "      <td>14</td>\n",
       "      <td>35</td>\n",
       "      <td>129</td>\n",
       "      <td>105</td>\n",
       "    </tr>\n",
       "    <tr>\n",
       "      <th>4</th>\n",
       "      <td>35</td>\n",
       "      <td>9</td>\n",
       "      <td>32</td>\n",
       "      <td>210</td>\n",
       "      <td>337</td>\n",
       "    </tr>\n",
       "    <tr>\n",
       "      <th>5</th>\n",
       "      <td>25</td>\n",
       "      <td>5</td>\n",
       "      <td>8</td>\n",
       "      <td>102</td>\n",
       "      <td>1005</td>\n",
       "    </tr>\n",
       "  </tbody>\n",
       "</table>\n",
       "</div>"
      ],
      "text/plain": [
       "valeurs prédites    1   2   3    4     5\n",
       "valeurs réelle                          \n",
       "1                 772  34  31   52    73\n",
       "2                 102  19  26   44    53\n",
       "3                  64  14  35  129   105\n",
       "4                  35   9  32  210   337\n",
       "5                  25   5   8  102  1005"
      ]
     },
     "metadata": {},
     "output_type": "display_data"
    },
    {
     "name": "stderr",
     "output_type": "stream",
     "text": [
      "C:\\Users\\Michelle\\anaconda3\\lib\\site-packages\\sklearn\\utils\\validation.py:593: FutureWarning: np.matrix usage is deprecated in 1.0 and will raise a TypeError in 1.2. Please convert to a numpy array with np.asarray. For more information see: https://numpy.org/doc/stable/reference/generated/numpy.matrix.html\n",
      "  warnings.warn(\n"
     ]
    },
    {
     "name": "stdout",
     "output_type": "stream",
     "text": [
      "0.6145739235170129\n"
     ]
    }
   ],
   "source": [
    "clf = GradientBoostingClassifier(n_estimators=125, learning_rate=1.0, max_depth=1, random_state=0).fit(X_train, y_train)\n",
    "\n",
    "y_pred = clf.predict(X_test)\n",
    "display(pd.crosstab(y_test,y_pred, rownames =[\"valeurs réelle\"] , colnames = [\"valeurs prédites\"]))\n",
    "print(clf.score(X_test,y_test))"
   ]
  },
  {
   "cell_type": "code",
   "execution_count": 49,
   "id": "c4038385",
   "metadata": {},
   "outputs": [
    {
     "name": "stderr",
     "output_type": "stream",
     "text": [
      "C:\\Users\\Michelle\\anaconda3\\lib\\site-packages\\sklearn\\utils\\validation.py:593: FutureWarning: np.matrix usage is deprecated in 1.0 and will raise a TypeError in 1.2. Please convert to a numpy array with np.asarray. For more information see: https://numpy.org/doc/stable/reference/generated/numpy.matrix.html\n",
      "  warnings.warn(\n",
      "C:\\Users\\Michelle\\anaconda3\\lib\\site-packages\\sklearn\\utils\\validation.py:593: FutureWarning: np.matrix usage is deprecated in 1.0 and will raise a TypeError in 1.2. Please convert to a numpy array with np.asarray. For more information see: https://numpy.org/doc/stable/reference/generated/numpy.matrix.html\n",
      "  warnings.warn(\n"
     ]
    },
    {
     "data": {
      "text/html": [
       "<div>\n",
       "<style scoped>\n",
       "    .dataframe tbody tr th:only-of-type {\n",
       "        vertical-align: middle;\n",
       "    }\n",
       "\n",
       "    .dataframe tbody tr th {\n",
       "        vertical-align: top;\n",
       "    }\n",
       "\n",
       "    .dataframe thead th {\n",
       "        text-align: right;\n",
       "    }\n",
       "</style>\n",
       "<table border=\"1\" class=\"dataframe\">\n",
       "  <thead>\n",
       "    <tr style=\"text-align: right;\">\n",
       "      <th>valeurs prédites</th>\n",
       "      <th>1</th>\n",
       "      <th>2</th>\n",
       "      <th>3</th>\n",
       "      <th>4</th>\n",
       "      <th>5</th>\n",
       "    </tr>\n",
       "    <tr>\n",
       "      <th>valeurs réelle</th>\n",
       "      <th></th>\n",
       "      <th></th>\n",
       "      <th></th>\n",
       "      <th></th>\n",
       "      <th></th>\n",
       "    </tr>\n",
       "  </thead>\n",
       "  <tbody>\n",
       "    <tr>\n",
       "      <th>1</th>\n",
       "      <td>772</td>\n",
       "      <td>34</td>\n",
       "      <td>31</td>\n",
       "      <td>52</td>\n",
       "      <td>73</td>\n",
       "    </tr>\n",
       "    <tr>\n",
       "      <th>2</th>\n",
       "      <td>102</td>\n",
       "      <td>19</td>\n",
       "      <td>26</td>\n",
       "      <td>44</td>\n",
       "      <td>53</td>\n",
       "    </tr>\n",
       "    <tr>\n",
       "      <th>3</th>\n",
       "      <td>64</td>\n",
       "      <td>14</td>\n",
       "      <td>35</td>\n",
       "      <td>129</td>\n",
       "      <td>105</td>\n",
       "    </tr>\n",
       "    <tr>\n",
       "      <th>4</th>\n",
       "      <td>35</td>\n",
       "      <td>9</td>\n",
       "      <td>32</td>\n",
       "      <td>210</td>\n",
       "      <td>337</td>\n",
       "    </tr>\n",
       "    <tr>\n",
       "      <th>5</th>\n",
       "      <td>25</td>\n",
       "      <td>5</td>\n",
       "      <td>8</td>\n",
       "      <td>102</td>\n",
       "      <td>1005</td>\n",
       "    </tr>\n",
       "  </tbody>\n",
       "</table>\n",
       "</div>"
      ],
      "text/plain": [
       "valeurs prédites    1   2   3    4     5\n",
       "valeurs réelle                          \n",
       "1                 772  34  31   52    73\n",
       "2                 102  19  26   44    53\n",
       "3                  64  14  35  129   105\n",
       "4                  35   9  32  210   337\n",
       "5                  25   5   8  102  1005"
      ]
     },
     "metadata": {},
     "output_type": "display_data"
    },
    {
     "name": "stderr",
     "output_type": "stream",
     "text": [
      "C:\\Users\\Michelle\\anaconda3\\lib\\site-packages\\sklearn\\utils\\validation.py:593: FutureWarning: np.matrix usage is deprecated in 1.0 and will raise a TypeError in 1.2. Please convert to a numpy array with np.asarray. For more information see: https://numpy.org/doc/stable/reference/generated/numpy.matrix.html\n",
      "  warnings.warn(\n"
     ]
    },
    {
     "name": "stdout",
     "output_type": "stream",
     "text": [
      "0.6145739235170129\n"
     ]
    }
   ],
   "source": [
    "clf = GradientBoostingClassifier(n_estimators=150, learning_rate=1.0, max_depth=1, random_state=0).fit(X_train, y_train)\n",
    "\n",
    "y_pred = clf.predict(X_test)\n",
    "display(pd.crosstab(y_test,y_pred, rownames =[\"valeurs réelle\"] , colnames = [\"valeurs prédites\"]))\n",
    "print(clf.score(X_test,y_test))"
   ]
  },
  {
   "cell_type": "markdown",
   "id": "77aed902",
   "metadata": {},
   "source": [
    "La variation des estimateurs ne semble pas non plus avoir un grand impact sur la performance du model.\n",
    "\n",
    "Faisons à présent varier le nombres de mot utilisé dans la vectorisation des commentaires:"
   ]
  },
  {
   "cell_type": "code",
   "execution_count": 51,
   "id": "4cae644a",
   "metadata": {},
   "outputs": [
    {
     "name": "stderr",
     "output_type": "stream",
     "text": [
      "C:\\Users\\Michelle\\anaconda3\\lib\\site-packages\\sklearn\\utils\\validation.py:593: FutureWarning: np.matrix usage is deprecated in 1.0 and will raise a TypeError in 1.2. Please convert to a numpy array with np.asarray. For more information see: https://numpy.org/doc/stable/reference/generated/numpy.matrix.html\n",
      "  warnings.warn(\n",
      "C:\\Users\\Michelle\\anaconda3\\lib\\site-packages\\sklearn\\utils\\validation.py:593: FutureWarning: np.matrix usage is deprecated in 1.0 and will raise a TypeError in 1.2. Please convert to a numpy array with np.asarray. For more information see: https://numpy.org/doc/stable/reference/generated/numpy.matrix.html\n",
      "  warnings.warn(\n"
     ]
    },
    {
     "data": {
      "text/html": [
       "<div>\n",
       "<style scoped>\n",
       "    .dataframe tbody tr th:only-of-type {\n",
       "        vertical-align: middle;\n",
       "    }\n",
       "\n",
       "    .dataframe tbody tr th {\n",
       "        vertical-align: top;\n",
       "    }\n",
       "\n",
       "    .dataframe thead th {\n",
       "        text-align: right;\n",
       "    }\n",
       "</style>\n",
       "<table border=\"1\" class=\"dataframe\">\n",
       "  <thead>\n",
       "    <tr style=\"text-align: right;\">\n",
       "      <th>valeurs prédites</th>\n",
       "      <th>1</th>\n",
       "      <th>2</th>\n",
       "      <th>3</th>\n",
       "      <th>4</th>\n",
       "      <th>5</th>\n",
       "    </tr>\n",
       "    <tr>\n",
       "      <th>valeurs réelle</th>\n",
       "      <th></th>\n",
       "      <th></th>\n",
       "      <th></th>\n",
       "      <th></th>\n",
       "      <th></th>\n",
       "    </tr>\n",
       "  </thead>\n",
       "  <tbody>\n",
       "    <tr>\n",
       "      <th>1</th>\n",
       "      <td>770</td>\n",
       "      <td>33</td>\n",
       "      <td>25</td>\n",
       "      <td>64</td>\n",
       "      <td>70</td>\n",
       "    </tr>\n",
       "    <tr>\n",
       "      <th>2</th>\n",
       "      <td>100</td>\n",
       "      <td>18</td>\n",
       "      <td>25</td>\n",
       "      <td>56</td>\n",
       "      <td>45</td>\n",
       "    </tr>\n",
       "    <tr>\n",
       "      <th>3</th>\n",
       "      <td>64</td>\n",
       "      <td>11</td>\n",
       "      <td>45</td>\n",
       "      <td>125</td>\n",
       "      <td>102</td>\n",
       "    </tr>\n",
       "    <tr>\n",
       "      <th>4</th>\n",
       "      <td>37</td>\n",
       "      <td>5</td>\n",
       "      <td>27</td>\n",
       "      <td>211</td>\n",
       "      <td>343</td>\n",
       "    </tr>\n",
       "    <tr>\n",
       "      <th>5</th>\n",
       "      <td>29</td>\n",
       "      <td>4</td>\n",
       "      <td>10</td>\n",
       "      <td>92</td>\n",
       "      <td>1010</td>\n",
       "    </tr>\n",
       "  </tbody>\n",
       "</table>\n",
       "</div>"
      ],
      "text/plain": [
       "valeurs prédites    1   2   3    4     5\n",
       "valeurs réelle                          \n",
       "1                 770  33  25   64    70\n",
       "2                 100  18  25   56    45\n",
       "3                  64  11  45  125   102\n",
       "4                  37   5  27  211   343\n",
       "5                  29   4  10   92  1010"
      ]
     },
     "metadata": {},
     "output_type": "display_data"
    },
    {
     "name": "stderr",
     "output_type": "stream",
     "text": [
      "C:\\Users\\Michelle\\anaconda3\\lib\\site-packages\\sklearn\\utils\\validation.py:593: FutureWarning: np.matrix usage is deprecated in 1.0 and will raise a TypeError in 1.2. Please convert to a numpy array with np.asarray. For more information see: https://numpy.org/doc/stable/reference/generated/numpy.matrix.html\n",
      "  warnings.warn(\n"
     ]
    },
    {
     "name": "stdout",
     "output_type": "stream",
     "text": [
      "0.6184884071062933\n"
     ]
    }
   ],
   "source": [
    "freq = freqmots[freqmots[\"iteration\"] >= 75].reset_index()\n",
    "\n",
    "vectorizer.fit_transform(freq[\"index\"])\n",
    "tokenized = vectorizer.vocabulary_\n",
    "X = vectorizer.transform(df1[\"Commentaires_reduit_4mots\"]).todense()\n",
    "\n",
    "X_train,X_test, y_train, y_test = train_test_split(X,y, test_size = 0.2, random_state = 100)\n",
    "\n",
    "clf = GradientBoostingClassifier(n_estimators=100, learning_rate=1.0, max_depth=1, random_state=0).fit(X_train, y_train)\n",
    "\n",
    "y_pred = clf.predict(X_test)\n",
    "display(pd.crosstab(y_test,y_pred, rownames =[\"valeurs réelle\"] , colnames = [\"valeurs prédites\"]))\n",
    "print(clf.score(X_test,y_test))\n"
   ]
  },
  {
   "cell_type": "code",
   "execution_count": 52,
   "id": "a760794e",
   "metadata": {},
   "outputs": [
    {
     "name": "stderr",
     "output_type": "stream",
     "text": [
      "C:\\Users\\Michelle\\anaconda3\\lib\\site-packages\\sklearn\\utils\\validation.py:593: FutureWarning: np.matrix usage is deprecated in 1.0 and will raise a TypeError in 1.2. Please convert to a numpy array with np.asarray. For more information see: https://numpy.org/doc/stable/reference/generated/numpy.matrix.html\n",
      "  warnings.warn(\n",
      "C:\\Users\\Michelle\\anaconda3\\lib\\site-packages\\sklearn\\utils\\validation.py:593: FutureWarning: np.matrix usage is deprecated in 1.0 and will raise a TypeError in 1.2. Please convert to a numpy array with np.asarray. For more information see: https://numpy.org/doc/stable/reference/generated/numpy.matrix.html\n",
      "  warnings.warn(\n"
     ]
    },
    {
     "data": {
      "text/html": [
       "<div>\n",
       "<style scoped>\n",
       "    .dataframe tbody tr th:only-of-type {\n",
       "        vertical-align: middle;\n",
       "    }\n",
       "\n",
       "    .dataframe tbody tr th {\n",
       "        vertical-align: top;\n",
       "    }\n",
       "\n",
       "    .dataframe thead th {\n",
       "        text-align: right;\n",
       "    }\n",
       "</style>\n",
       "<table border=\"1\" class=\"dataframe\">\n",
       "  <thead>\n",
       "    <tr style=\"text-align: right;\">\n",
       "      <th>valeurs prédites</th>\n",
       "      <th>1</th>\n",
       "      <th>2</th>\n",
       "      <th>3</th>\n",
       "      <th>4</th>\n",
       "      <th>5</th>\n",
       "    </tr>\n",
       "    <tr>\n",
       "      <th>valeurs réelle</th>\n",
       "      <th></th>\n",
       "      <th></th>\n",
       "      <th></th>\n",
       "      <th></th>\n",
       "      <th></th>\n",
       "    </tr>\n",
       "  </thead>\n",
       "  <tbody>\n",
       "    <tr>\n",
       "      <th>1</th>\n",
       "      <td>781</td>\n",
       "      <td>32</td>\n",
       "      <td>27</td>\n",
       "      <td>48</td>\n",
       "      <td>74</td>\n",
       "    </tr>\n",
       "    <tr>\n",
       "      <th>2</th>\n",
       "      <td>95</td>\n",
       "      <td>23</td>\n",
       "      <td>23</td>\n",
       "      <td>53</td>\n",
       "      <td>50</td>\n",
       "    </tr>\n",
       "    <tr>\n",
       "      <th>3</th>\n",
       "      <td>61</td>\n",
       "      <td>20</td>\n",
       "      <td>44</td>\n",
       "      <td>119</td>\n",
       "      <td>103</td>\n",
       "    </tr>\n",
       "    <tr>\n",
       "      <th>4</th>\n",
       "      <td>36</td>\n",
       "      <td>7</td>\n",
       "      <td>31</td>\n",
       "      <td>213</td>\n",
       "      <td>336</td>\n",
       "    </tr>\n",
       "    <tr>\n",
       "      <th>5</th>\n",
       "      <td>26</td>\n",
       "      <td>5</td>\n",
       "      <td>9</td>\n",
       "      <td>83</td>\n",
       "      <td>1022</td>\n",
       "    </tr>\n",
       "  </tbody>\n",
       "</table>\n",
       "</div>"
      ],
      "text/plain": [
       "valeurs prédites    1   2   3    4     5\n",
       "valeurs réelle                          \n",
       "1                 781  32  27   48    74\n",
       "2                  95  23  23   53    50\n",
       "3                  61  20  44  119   103\n",
       "4                  36   7  31  213   336\n",
       "5                  26   5   9   83  1022"
      ]
     },
     "metadata": {},
     "output_type": "display_data"
    },
    {
     "name": "stderr",
     "output_type": "stream",
     "text": [
      "C:\\Users\\Michelle\\anaconda3\\lib\\site-packages\\sklearn\\utils\\validation.py:593: FutureWarning: np.matrix usage is deprecated in 1.0 and will raise a TypeError in 1.2. Please convert to a numpy array with np.asarray. For more information see: https://numpy.org/doc/stable/reference/generated/numpy.matrix.html\n",
      "  warnings.warn(\n"
     ]
    },
    {
     "name": "stdout",
     "output_type": "stream",
     "text": [
      "0.6272207166516109\n"
     ]
    }
   ],
   "source": [
    "freq = freqmots[freqmots[\"iteration\"] >= 50].reset_index()\n",
    "\n",
    "vectorizer.fit_transform(freq[\"index\"])\n",
    "tokenized = vectorizer.vocabulary_\n",
    "X = vectorizer.transform(df1[\"Commentaires_reduit_4mots\"]).todense()\n",
    "\n",
    "X_train,X_test, y_train, y_test = train_test_split(X,y, test_size = 0.2, random_state = 100)\n",
    "\n",
    "clf = GradientBoostingClassifier(n_estimators=100, learning_rate=1.0, max_depth=1, random_state=0).fit(X_train, y_train)\n",
    "\n",
    "y_pred = clf.predict(X_test)\n",
    "display(pd.crosstab(y_test,y_pred, rownames =[\"valeurs réelle\"] , colnames = [\"valeurs prédites\"]))\n",
    "print(clf.score(X_test,y_test))"
   ]
  },
  {
   "cell_type": "markdown",
   "id": "8857d534",
   "metadata": {},
   "source": [
    "La diminution du seuil de fréquence pour la prise en compte d'un mot dans la vectorisation semble avoir un plus grand impact que les variations des parametres du model. L'impact sur le R² reste cependant faible."
   ]
  },
  {
   "cell_type": "markdown",
   "id": "4bd9c7ed",
   "metadata": {},
   "source": [
    "#### Observations:\n",
    "Notre premiere piste consistant à faire varier Les parametres du models ainsi que le nombre de mots utilisé dans la vectorisation des commentaires, n'a pas permis d'améliorer de maniere significative la modelisation."
   ]
  },
  {
   "cell_type": "markdown",
   "id": "eaf6325c",
   "metadata": {},
   "source": [
    "### Optimisation : rééchantillonage\n",
    "\n",
    "En observant les matrices de confusions de nos précédentes itérations, on note que ce sont principalement les valeurs extremes (1 - 5) qui sont le mieux attribués. Si l'on se réfere à l'analyse exploratoire des données que nous avons effectué précédemment, ces notes extremes sont sur-representées par rapport aux notes intermédiaires.\n",
    "\n",
    "Essayons de procéder à un rééchantillonnage des données avant d'appliquer notre model.\n"
   ]
  },
  {
   "cell_type": "code",
   "execution_count": 27,
   "id": "19abd6be",
   "metadata": {},
   "outputs": [
    {
     "name": "stdout",
     "output_type": "stream",
     "text": [
      "                   pre       rec       spe        f1       geo       iba       sup\n",
      "\n",
      "          1       0.77      0.80      0.90      0.79      0.85      0.72       962\n",
      "          2       0.23      0.08      0.98      0.12      0.28      0.07       244\n",
      "          3       0.27      0.10      0.97      0.15      0.31      0.09       347\n",
      "          4       0.40      0.34      0.88      0.37      0.55      0.29       623\n",
      "          5       0.64      0.88      0.74      0.74      0.81      0.66      1145\n",
      "\n",
      "avg / total       0.56      0.62      0.85      0.58      0.68      0.50      3321\n",
      "\n"
     ]
    }
   ],
   "source": [
    "from imblearn.metrics  import classification_report_imbalanced\n",
    "print(classification_report_imbalanced(y_test, y_pred))"
   ]
  },
  {
   "cell_type": "markdown",
   "id": "bf59edb7",
   "metadata": {},
   "source": [
    "Pour confirmer notre observation, le score f1 et la moyenne géometrique des classes non extremes montrent bien que les données sont déséquilibrés.\n",
    "\n",
    "Commençons par effectuer un sous échantillonnage: "
   ]
  },
  {
   "cell_type": "code",
   "execution_count": 29,
   "id": "42bd1286",
   "metadata": {},
   "outputs": [
    {
     "name": "stderr",
     "output_type": "stream",
     "text": [
      "C:\\Users\\Michelle\\anaconda3\\lib\\site-packages\\sklearn\\utils\\validation.py:727: FutureWarning: np.matrix usage is deprecated in 1.0 and will raise a TypeError in 1.2. Please convert to a numpy array with np.asarray. For more information see: https://numpy.org/doc/stable/reference/generated/numpy.matrix.html\n",
      "  warnings.warn(\n"
     ]
    }
   ],
   "source": [
    "from imblearn.under_sampling import RandomUnderSampler\n",
    "\n",
    "ru = RandomUnderSampler()\n",
    "X_ru, y_ru = ru.fit_resample(X_train,y_train)"
   ]
  },
  {
   "cell_type": "markdown",
   "id": "df94064b",
   "metadata": {},
   "source": [
    "puis appliquons notre model avec les parametres de notre premiere modélisation:"
   ]
  },
  {
   "cell_type": "code",
   "execution_count": 31,
   "id": "cd37ac60",
   "metadata": {},
   "outputs": [
    {
     "name": "stderr",
     "output_type": "stream",
     "text": [
      "C:\\Users\\Michelle\\anaconda3\\lib\\site-packages\\sklearn\\utils\\validation.py:727: FutureWarning: np.matrix usage is deprecated in 1.0 and will raise a TypeError in 1.2. Please convert to a numpy array with np.asarray. For more information see: https://numpy.org/doc/stable/reference/generated/numpy.matrix.html\n",
      "  warnings.warn(\n"
     ]
    },
    {
     "data": {
      "text/html": [
       "<div>\n",
       "<style scoped>\n",
       "    .dataframe tbody tr th:only-of-type {\n",
       "        vertical-align: middle;\n",
       "    }\n",
       "\n",
       "    .dataframe tbody tr th {\n",
       "        vertical-align: top;\n",
       "    }\n",
       "\n",
       "    .dataframe thead th {\n",
       "        text-align: right;\n",
       "    }\n",
       "</style>\n",
       "<table border=\"1\" class=\"dataframe\">\n",
       "  <thead>\n",
       "    <tr style=\"text-align: right;\">\n",
       "      <th>valeurs prédites</th>\n",
       "      <th>1</th>\n",
       "      <th>2</th>\n",
       "      <th>3</th>\n",
       "      <th>4</th>\n",
       "      <th>5</th>\n",
       "    </tr>\n",
       "    <tr>\n",
       "      <th>valeurs réelle</th>\n",
       "      <th></th>\n",
       "      <th></th>\n",
       "      <th></th>\n",
       "      <th></th>\n",
       "      <th></th>\n",
       "    </tr>\n",
       "  </thead>\n",
       "  <tbody>\n",
       "    <tr>\n",
       "      <th>1</th>\n",
       "      <td>576</td>\n",
       "      <td>214</td>\n",
       "      <td>98</td>\n",
       "      <td>46</td>\n",
       "      <td>28</td>\n",
       "    </tr>\n",
       "    <tr>\n",
       "      <th>2</th>\n",
       "      <td>46</td>\n",
       "      <td>74</td>\n",
       "      <td>70</td>\n",
       "      <td>48</td>\n",
       "      <td>6</td>\n",
       "    </tr>\n",
       "    <tr>\n",
       "      <th>3</th>\n",
       "      <td>24</td>\n",
       "      <td>71</td>\n",
       "      <td>113</td>\n",
       "      <td>112</td>\n",
       "      <td>27</td>\n",
       "    </tr>\n",
       "    <tr>\n",
       "      <th>4</th>\n",
       "      <td>12</td>\n",
       "      <td>50</td>\n",
       "      <td>128</td>\n",
       "      <td>266</td>\n",
       "      <td>167</td>\n",
       "    </tr>\n",
       "    <tr>\n",
       "      <th>5</th>\n",
       "      <td>19</td>\n",
       "      <td>25</td>\n",
       "      <td>85</td>\n",
       "      <td>298</td>\n",
       "      <td>718</td>\n",
       "    </tr>\n",
       "  </tbody>\n",
       "</table>\n",
       "</div>"
      ],
      "text/plain": [
       "valeurs prédites    1    2    3    4    5\n",
       "valeurs réelle                           \n",
       "1                 576  214   98   46   28\n",
       "2                  46   74   70   48    6\n",
       "3                  24   71  113  112   27\n",
       "4                  12   50  128  266  167\n",
       "5                  19   25   85  298  718"
      ]
     },
     "metadata": {},
     "output_type": "display_data"
    },
    {
     "name": "stderr",
     "output_type": "stream",
     "text": [
      "C:\\Users\\Michelle\\anaconda3\\lib\\site-packages\\sklearn\\utils\\validation.py:727: FutureWarning: np.matrix usage is deprecated in 1.0 and will raise a TypeError in 1.2. Please convert to a numpy array with np.asarray. For more information see: https://numpy.org/doc/stable/reference/generated/numpy.matrix.html\n",
      "  warnings.warn(\n"
     ]
    },
    {
     "name": "stdout",
     "output_type": "stream",
     "text": [
      "0.5260463715748268\n"
     ]
    }
   ],
   "source": [
    "clf = GradientBoostingClassifier(n_estimators=100, learning_rate=1.0, max_depth=1, random_state=0).fit(X_ru, y_ru)\n",
    "y_pred = clf.predict(X_test)\n",
    "display(pd.crosstab(y_test,y_pred, rownames =[\"valeurs réelle\"] , colnames = [\"valeurs prédites\"]))\n",
    "print(clf.score(X_test,y_test))"
   ]
  },
  {
   "cell_type": "markdown",
   "id": "2bca610b",
   "metadata": {},
   "source": [
    "Le sous echantillonnage à fortement diminué les performances de notre model. Essayons la démarche inverse avec le sur échantillonnage:"
   ]
  },
  {
   "cell_type": "code",
   "execution_count": 32,
   "id": "f810e64e",
   "metadata": {},
   "outputs": [
    {
     "name": "stderr",
     "output_type": "stream",
     "text": [
      "C:\\Users\\Michelle\\anaconda3\\lib\\site-packages\\sklearn\\utils\\validation.py:727: FutureWarning: np.matrix usage is deprecated in 1.0 and will raise a TypeError in 1.2. Please convert to a numpy array with np.asarray. For more information see: https://numpy.org/doc/stable/reference/generated/numpy.matrix.html\n",
      "  warnings.warn(\n"
     ]
    }
   ],
   "source": [
    "from imblearn.over_sampling import RandomOverSampler\n",
    "\n",
    "ro = RandomUnderSampler()\n",
    "X_ro, y_ro = ru.fit_resample(X_train,y_train)"
   ]
  },
  {
   "cell_type": "code",
   "execution_count": 33,
   "id": "8095e292",
   "metadata": {},
   "outputs": [
    {
     "name": "stderr",
     "output_type": "stream",
     "text": [
      "C:\\Users\\Michelle\\anaconda3\\lib\\site-packages\\sklearn\\utils\\validation.py:727: FutureWarning: np.matrix usage is deprecated in 1.0 and will raise a TypeError in 1.2. Please convert to a numpy array with np.asarray. For more information see: https://numpy.org/doc/stable/reference/generated/numpy.matrix.html\n",
      "  warnings.warn(\n"
     ]
    },
    {
     "data": {
      "text/html": [
       "<div>\n",
       "<style scoped>\n",
       "    .dataframe tbody tr th:only-of-type {\n",
       "        vertical-align: middle;\n",
       "    }\n",
       "\n",
       "    .dataframe tbody tr th {\n",
       "        vertical-align: top;\n",
       "    }\n",
       "\n",
       "    .dataframe thead th {\n",
       "        text-align: right;\n",
       "    }\n",
       "</style>\n",
       "<table border=\"1\" class=\"dataframe\">\n",
       "  <thead>\n",
       "    <tr style=\"text-align: right;\">\n",
       "      <th>valeurs prédites</th>\n",
       "      <th>1</th>\n",
       "      <th>2</th>\n",
       "      <th>3</th>\n",
       "      <th>4</th>\n",
       "      <th>5</th>\n",
       "    </tr>\n",
       "    <tr>\n",
       "      <th>valeurs réelle</th>\n",
       "      <th></th>\n",
       "      <th></th>\n",
       "      <th></th>\n",
       "      <th></th>\n",
       "      <th></th>\n",
       "    </tr>\n",
       "  </thead>\n",
       "  <tbody>\n",
       "    <tr>\n",
       "      <th>1</th>\n",
       "      <td>593</td>\n",
       "      <td>210</td>\n",
       "      <td>116</td>\n",
       "      <td>25</td>\n",
       "      <td>18</td>\n",
       "    </tr>\n",
       "    <tr>\n",
       "      <th>2</th>\n",
       "      <td>50</td>\n",
       "      <td>77</td>\n",
       "      <td>91</td>\n",
       "      <td>19</td>\n",
       "      <td>7</td>\n",
       "    </tr>\n",
       "    <tr>\n",
       "      <th>3</th>\n",
       "      <td>25</td>\n",
       "      <td>69</td>\n",
       "      <td>165</td>\n",
       "      <td>53</td>\n",
       "      <td>35</td>\n",
       "    </tr>\n",
       "    <tr>\n",
       "      <th>4</th>\n",
       "      <td>14</td>\n",
       "      <td>64</td>\n",
       "      <td>221</td>\n",
       "      <td>132</td>\n",
       "      <td>192</td>\n",
       "    </tr>\n",
       "    <tr>\n",
       "      <th>5</th>\n",
       "      <td>13</td>\n",
       "      <td>51</td>\n",
       "      <td>167</td>\n",
       "      <td>158</td>\n",
       "      <td>756</td>\n",
       "    </tr>\n",
       "  </tbody>\n",
       "</table>\n",
       "</div>"
      ],
      "text/plain": [
       "valeurs prédites    1    2    3    4    5\n",
       "valeurs réelle                           \n",
       "1                 593  210  116   25   18\n",
       "2                  50   77   91   19    7\n",
       "3                  25   69  165   53   35\n",
       "4                  14   64  221  132  192\n",
       "5                  13   51  167  158  756"
      ]
     },
     "metadata": {},
     "output_type": "display_data"
    },
    {
     "name": "stderr",
     "output_type": "stream",
     "text": [
      "C:\\Users\\Michelle\\anaconda3\\lib\\site-packages\\sklearn\\utils\\validation.py:727: FutureWarning: np.matrix usage is deprecated in 1.0 and will raise a TypeError in 1.2. Please convert to a numpy array with np.asarray. For more information see: https://numpy.org/doc/stable/reference/generated/numpy.matrix.html\n",
      "  warnings.warn(\n"
     ]
    },
    {
     "name": "stdout",
     "output_type": "stream",
     "text": [
      "0.5188196326407708\n"
     ]
    }
   ],
   "source": [
    "clf = GradientBoostingClassifier(n_estimators=100, learning_rate=1.0, max_depth=1, random_state=0).fit(X_ro, y_ro)\n",
    "y_pred = clf.predict(X_test)\n",
    "display(pd.crosstab(y_test,y_pred, rownames =[\"valeurs réelle\"] , colnames = [\"valeurs prédites\"]))\n",
    "print(clf.score(X_test,y_test))"
   ]
  },
  {
   "cell_type": "markdown",
   "id": "90be7e95",
   "metadata": {},
   "source": [
    "Le sur echantillonnage a aussi diminué les performances de notre model. \n",
    "\n",
    "#### Observations: \n",
    "Le rééchantillonnage ne semble pas être la bonne méthode pour réduire les écarts dans les prédictions entres les valeurs extremes et les valeurs intermediaires"
   ]
  },
  {
   "cell_type": "markdown",
   "id": "3d5adb2f",
   "metadata": {},
   "source": [
    "## Modelisation 2\n",
    "\n",
    "Dans une seconde tentative de modélisation, nous allons inclure les méta données dans l'application de notre algorithme de gradient boosting.\n",
    "#### La notions de date ne sera pas pris en compte pour des raisons de facilités.\n"
   ]
  },
  {
   "cell_type": "code",
   "execution_count": 47,
   "id": "f25d8ed6",
   "metadata": {},
   "outputs": [
    {
     "name": "stderr",
     "output_type": "stream",
     "text": [
      "C:\\Users\\Michelle\\AppData\\Local\\Temp\\ipykernel_12252\\1125922793.py:4: SettingWithCopyWarning: \n",
      "A value is trying to be set on a copy of a slice from a DataFrame.\n",
      "Try using .loc[row_indexer,col_indexer] = value instead\n",
      "\n",
      "See the caveats in the documentation: https://pandas.pydata.org/pandas-docs/stable/user_guide/indexing.html#returning-a-view-versus-a-copy\n",
      "  df2[\"source\"] = df2[\"source\"].astype(\"int64\")\n",
      "C:\\Users\\Michelle\\AppData\\Local\\Temp\\ipykernel_12252\\1125922793.py:5: SettingWithCopyWarning: \n",
      "A value is trying to be set on a copy of a slice from a DataFrame.\n",
      "Try using .loc[row_indexer,col_indexer] = value instead\n",
      "\n",
      "See the caveats in the documentation: https://pandas.pydata.org/pandas-docs/stable/user_guide/indexing.html#returning-a-view-versus-a-copy\n",
      "  df2[\"company\"] = df2[\"company\"].astype(\"int64\")\n"
     ]
    },
    {
     "data": {
      "text/html": [
       "<div>\n",
       "<style scoped>\n",
       "    .dataframe tbody tr th:only-of-type {\n",
       "        vertical-align: middle;\n",
       "    }\n",
       "\n",
       "    .dataframe tbody tr th {\n",
       "        vertical-align: top;\n",
       "    }\n",
       "\n",
       "    .dataframe thead th {\n",
       "        text-align: right;\n",
       "    }\n",
       "</style>\n",
       "<table border=\"1\" class=\"dataframe\">\n",
       "  <thead>\n",
       "    <tr style=\"text-align: right;\">\n",
       "      <th></th>\n",
       "      <th>Commentaires_reduit_4mots</th>\n",
       "      <th>client</th>\n",
       "      <th>ville</th>\n",
       "      <th>reponse</th>\n",
       "      <th>source</th>\n",
       "      <th>company</th>\n",
       "    </tr>\n",
       "  </thead>\n",
       "  <tbody>\n",
       "    <tr>\n",
       "      <th>0</th>\n",
       "      <td>bonjour doit environ membre showrooprive jamai...</td>\n",
       "      <td>1</td>\n",
       "      <td>0</td>\n",
       "      <td>0</td>\n",
       "      <td>0</td>\n",
       "      <td>0</td>\n",
       "    </tr>\n",
       "    <tr>\n",
       "      <th>1</th>\n",
       "      <td>vente lacoste manquant photo prise articles mo...</td>\n",
       "      <td>1</td>\n",
       "      <td>0</td>\n",
       "      <td>0</td>\n",
       "      <td>0</td>\n",
       "      <td>0</td>\n",
       "    </tr>\n",
       "    <tr>\n",
       "      <th>2</th>\n",
       "      <td>vente lacoste honteuse erroné manquant livrais...</td>\n",
       "      <td>1</td>\n",
       "      <td>0</td>\n",
       "      <td>0</td>\n",
       "      <td>0</td>\n",
       "      <td>0</td>\n",
       "    </tr>\n",
       "    <tr>\n",
       "      <th>3</th>\n",
       "      <td>commandé mules marque moosefield produit étiqu...</td>\n",
       "      <td>1</td>\n",
       "      <td>0</td>\n",
       "      <td>1</td>\n",
       "      <td>0</td>\n",
       "      <td>0</td>\n",
       "    </tr>\n",
       "    <tr>\n",
       "      <th>4</th>\n",
       "      <td>téléphone etat livraison vieux téléphone pourr...</td>\n",
       "      <td>1</td>\n",
       "      <td>0</td>\n",
       "      <td>1</td>\n",
       "      <td>0</td>\n",
       "      <td>0</td>\n",
       "    </tr>\n",
       "  </tbody>\n",
       "</table>\n",
       "</div>"
      ],
      "text/plain": [
       "                           Commentaires_reduit_4mots  client  ville  reponse  \\\n",
       "0  bonjour doit environ membre showrooprive jamai...       1      0        0   \n",
       "1  vente lacoste manquant photo prise articles mo...       1      0        0   \n",
       "2  vente lacoste honteuse erroné manquant livrais...       1      0        0   \n",
       "3  commandé mules marque moosefield produit étiqu...       1      0        1   \n",
       "4  téléphone etat livraison vieux téléphone pourr...       1      0        1   \n",
       "\n",
       "   source  company  \n",
       "0       0        0  \n",
       "1       0        0  \n",
       "2       0        0  \n",
       "3       0        0  \n",
       "4       0        0  "
      ]
     },
     "execution_count": 47,
     "metadata": {},
     "output_type": "execute_result"
    }
   ],
   "source": [
    "df2 = df[[\"Commentaires_reduit_4mots\",\"client\",\"ville\",\"reponse\",\"source\",\"company\"]]\n",
    "#la 1ere transformation ayant donnée des données de type booléén, nous changeons le type des deux colonnes suivantes pour\n",
    "#ne conserver que des données numériques \n",
    "df2[\"source\"] = df2[\"source\"].astype(\"int64\")\n",
    "df2[\"company\"] = df2[\"company\"].astype(\"int64\")\n",
    "#suppression des valeurs nan de la colonne commentaires:\n",
    "df2 = df2.dropna(axis = 0, how = \"all\", subset =[\"Commentaires_reduit_4mots\"])\n",
    "df2.head()"
   ]
  },
  {
   "cell_type": "code",
   "execution_count": 51,
   "id": "05e5b410",
   "metadata": {},
   "outputs": [
    {
     "data": {
      "text/plain": [
       "(16604, 540)"
      ]
     },
     "execution_count": 51,
     "metadata": {},
     "output_type": "execute_result"
    }
   ],
   "source": [
    "#vectorisation colonnes commentaires\n",
    "vectorizer.fit_transform(freq_sup_100[\"index\"])\n",
    "tokenized = vectorizer.vocabulary_\n",
    "Com_Matrix= vectorizer.transform(df2[\"Commentaires_reduit_4mots\"]).todense()\n",
    "Com_Matrix.shape"
   ]
  },
  {
   "cell_type": "code",
   "execution_count": 53,
   "id": "2b74cba8",
   "metadata": {},
   "outputs": [
    {
     "data": {
      "text/plain": [
       "(16604, 5)"
      ]
     },
     "execution_count": 53,
     "metadata": {},
     "output_type": "execute_result"
    }
   ],
   "source": [
    "#transformation du dataframe des meta données en matrice\n",
    "Meta_Matrix = df2.drop(\"Commentaires_reduit_4mots\", axis =1).to_numpy()\n",
    "Meta_Matrix.shape"
   ]
  },
  {
   "cell_type": "code",
   "execution_count": 57,
   "id": "373d155c",
   "metadata": {},
   "outputs": [
    {
     "data": {
      "text/plain": [
       "(16604, 545)"
      ]
     },
     "execution_count": 57,
     "metadata": {},
     "output_type": "execute_result"
    }
   ],
   "source": [
    "#concatenation des matrices\n",
    "X = np.concatenate([Com_Matrix,Meta_Matrix],axis=1)\n",
    "X.shape"
   ]
  },
  {
   "cell_type": "code",
   "execution_count": 58,
   "id": "4df61e1e",
   "metadata": {},
   "outputs": [
    {
     "name": "stderr",
     "output_type": "stream",
     "text": [
      "C:\\Users\\Michelle\\anaconda3\\lib\\site-packages\\sklearn\\utils\\validation.py:727: FutureWarning: np.matrix usage is deprecated in 1.0 and will raise a TypeError in 1.2. Please convert to a numpy array with np.asarray. For more information see: https://numpy.org/doc/stable/reference/generated/numpy.matrix.html\n",
      "  warnings.warn(\n",
      "C:\\Users\\Michelle\\anaconda3\\lib\\site-packages\\sklearn\\utils\\validation.py:727: FutureWarning: np.matrix usage is deprecated in 1.0 and will raise a TypeError in 1.2. Please convert to a numpy array with np.asarray. For more information see: https://numpy.org/doc/stable/reference/generated/numpy.matrix.html\n",
      "  warnings.warn(\n"
     ]
    },
    {
     "data": {
      "text/html": [
       "<div>\n",
       "<style scoped>\n",
       "    .dataframe tbody tr th:only-of-type {\n",
       "        vertical-align: middle;\n",
       "    }\n",
       "\n",
       "    .dataframe tbody tr th {\n",
       "        vertical-align: top;\n",
       "    }\n",
       "\n",
       "    .dataframe thead th {\n",
       "        text-align: right;\n",
       "    }\n",
       "</style>\n",
       "<table border=\"1\" class=\"dataframe\">\n",
       "  <thead>\n",
       "    <tr style=\"text-align: right;\">\n",
       "      <th>valeurs prédites</th>\n",
       "      <th>1</th>\n",
       "      <th>2</th>\n",
       "      <th>3</th>\n",
       "      <th>4</th>\n",
       "      <th>5</th>\n",
       "    </tr>\n",
       "    <tr>\n",
       "      <th>valeurs réelle</th>\n",
       "      <th></th>\n",
       "      <th></th>\n",
       "      <th></th>\n",
       "      <th></th>\n",
       "      <th></th>\n",
       "    </tr>\n",
       "  </thead>\n",
       "  <tbody>\n",
       "    <tr>\n",
       "      <th>1</th>\n",
       "      <td>843</td>\n",
       "      <td>23</td>\n",
       "      <td>15</td>\n",
       "      <td>50</td>\n",
       "      <td>31</td>\n",
       "    </tr>\n",
       "    <tr>\n",
       "      <th>2</th>\n",
       "      <td>73</td>\n",
       "      <td>26</td>\n",
       "      <td>35</td>\n",
       "      <td>84</td>\n",
       "      <td>26</td>\n",
       "    </tr>\n",
       "    <tr>\n",
       "      <th>3</th>\n",
       "      <td>28</td>\n",
       "      <td>25</td>\n",
       "      <td>41</td>\n",
       "      <td>185</td>\n",
       "      <td>68</td>\n",
       "    </tr>\n",
       "    <tr>\n",
       "      <th>4</th>\n",
       "      <td>24</td>\n",
       "      <td>5</td>\n",
       "      <td>39</td>\n",
       "      <td>305</td>\n",
       "      <td>250</td>\n",
       "    </tr>\n",
       "    <tr>\n",
       "      <th>5</th>\n",
       "      <td>38</td>\n",
       "      <td>3</td>\n",
       "      <td>6</td>\n",
       "      <td>128</td>\n",
       "      <td>970</td>\n",
       "    </tr>\n",
       "  </tbody>\n",
       "</table>\n",
       "</div>"
      ],
      "text/plain": [
       "valeurs prédites    1   2   3    4    5\n",
       "valeurs réelle                         \n",
       "1                 843  23  15   50   31\n",
       "2                  73  26  35   84   26\n",
       "3                  28  25  41  185   68\n",
       "4                  24   5  39  305  250\n",
       "5                  38   3   6  128  970"
      ]
     },
     "metadata": {},
     "output_type": "display_data"
    },
    {
     "name": "stderr",
     "output_type": "stream",
     "text": [
      "C:\\Users\\Michelle\\anaconda3\\lib\\site-packages\\sklearn\\utils\\validation.py:727: FutureWarning: np.matrix usage is deprecated in 1.0 and will raise a TypeError in 1.2. Please convert to a numpy array with np.asarray. For more information see: https://numpy.org/doc/stable/reference/generated/numpy.matrix.html\n",
      "  warnings.warn(\n"
     ]
    },
    {
     "name": "stdout",
     "output_type": "stream",
     "text": [
      "0.657934357121349\n"
     ]
    }
   ],
   "source": [
    "X_train,X_test, y_train, y_test = train_test_split(X,y, test_size = 0.2, random_state = 100)\n",
    "clf = GradientBoostingClassifier(n_estimators=100, learning_rate=1.0, max_depth=1, random_state=0).fit(X_train, y_train)\n",
    "\n",
    "y_pred = clf.predict(X_test)\n",
    "display(pd.crosstab(y_test,y_pred, rownames =[\"valeurs réelle\"] , colnames = [\"valeurs prédites\"]))\n",
    "print(clf.score(X_test,y_test))"
   ]
  },
  {
   "cell_type": "markdown",
   "id": "c396f50a",
   "metadata": {},
   "source": [
    "L'inclusion des méta données semble améliorer la performance du model.\n",
    "\n",
    "Combinons cette inclusion avec l'extension du nombre de mots vectorisés"
   ]
  },
  {
   "cell_type": "code",
   "execution_count": 63,
   "id": "97226e72",
   "metadata": {},
   "outputs": [
    {
     "data": {
      "text/plain": [
       "(16604, 959)"
      ]
     },
     "execution_count": 63,
     "metadata": {},
     "output_type": "execute_result"
    }
   ],
   "source": [
    "#vectorisation des mots apparaissant plus de 50 fois dans les commentaires\n",
    "freq = freqmots[freqmots[\"iteration\"] >= 50].reset_index()\n",
    "vectorizer.fit_transform(freq[\"index\"])\n",
    "tokenized = vectorizer.vocabulary_\n",
    "Com_Matrix = vectorizer.transform(df1[\"Commentaires_reduit_4mots\"]).todense()\n",
    "Com_Matrix.shape"
   ]
  },
  {
   "cell_type": "code",
   "execution_count": 64,
   "id": "15e162ce",
   "metadata": {},
   "outputs": [
    {
     "data": {
      "text/plain": [
       "(16604, 964)"
      ]
     },
     "execution_count": 64,
     "metadata": {},
     "output_type": "execute_result"
    }
   ],
   "source": [
    "X = np.concatenate([Com_Matrix,Meta_Matrix],axis=1)\n",
    "X.shape"
   ]
  },
  {
   "cell_type": "code",
   "execution_count": 65,
   "id": "ac11fbc2",
   "metadata": {},
   "outputs": [
    {
     "name": "stderr",
     "output_type": "stream",
     "text": [
      "C:\\Users\\Michelle\\anaconda3\\lib\\site-packages\\sklearn\\utils\\validation.py:727: FutureWarning: np.matrix usage is deprecated in 1.0 and will raise a TypeError in 1.2. Please convert to a numpy array with np.asarray. For more information see: https://numpy.org/doc/stable/reference/generated/numpy.matrix.html\n",
      "  warnings.warn(\n",
      "C:\\Users\\Michelle\\anaconda3\\lib\\site-packages\\sklearn\\utils\\validation.py:727: FutureWarning: np.matrix usage is deprecated in 1.0 and will raise a TypeError in 1.2. Please convert to a numpy array with np.asarray. For more information see: https://numpy.org/doc/stable/reference/generated/numpy.matrix.html\n",
      "  warnings.warn(\n"
     ]
    },
    {
     "data": {
      "text/html": [
       "<div>\n",
       "<style scoped>\n",
       "    .dataframe tbody tr th:only-of-type {\n",
       "        vertical-align: middle;\n",
       "    }\n",
       "\n",
       "    .dataframe tbody tr th {\n",
       "        vertical-align: top;\n",
       "    }\n",
       "\n",
       "    .dataframe thead th {\n",
       "        text-align: right;\n",
       "    }\n",
       "</style>\n",
       "<table border=\"1\" class=\"dataframe\">\n",
       "  <thead>\n",
       "    <tr style=\"text-align: right;\">\n",
       "      <th>valeurs prédites</th>\n",
       "      <th>1</th>\n",
       "      <th>2</th>\n",
       "      <th>3</th>\n",
       "      <th>4</th>\n",
       "      <th>5</th>\n",
       "    </tr>\n",
       "    <tr>\n",
       "      <th>valeurs réelle</th>\n",
       "      <th></th>\n",
       "      <th></th>\n",
       "      <th></th>\n",
       "      <th></th>\n",
       "      <th></th>\n",
       "    </tr>\n",
       "  </thead>\n",
       "  <tbody>\n",
       "    <tr>\n",
       "      <th>1</th>\n",
       "      <td>834</td>\n",
       "      <td>28</td>\n",
       "      <td>23</td>\n",
       "      <td>46</td>\n",
       "      <td>31</td>\n",
       "    </tr>\n",
       "    <tr>\n",
       "      <th>2</th>\n",
       "      <td>80</td>\n",
       "      <td>19</td>\n",
       "      <td>37</td>\n",
       "      <td>84</td>\n",
       "      <td>24</td>\n",
       "    </tr>\n",
       "    <tr>\n",
       "      <th>3</th>\n",
       "      <td>30</td>\n",
       "      <td>23</td>\n",
       "      <td>48</td>\n",
       "      <td>182</td>\n",
       "      <td>64</td>\n",
       "    </tr>\n",
       "    <tr>\n",
       "      <th>4</th>\n",
       "      <td>25</td>\n",
       "      <td>13</td>\n",
       "      <td>40</td>\n",
       "      <td>293</td>\n",
       "      <td>252</td>\n",
       "    </tr>\n",
       "    <tr>\n",
       "      <th>5</th>\n",
       "      <td>44</td>\n",
       "      <td>3</td>\n",
       "      <td>6</td>\n",
       "      <td>119</td>\n",
       "      <td>973</td>\n",
       "    </tr>\n",
       "  </tbody>\n",
       "</table>\n",
       "</div>"
      ],
      "text/plain": [
       "valeurs prédites    1   2   3    4    5\n",
       "valeurs réelle                         \n",
       "1                 834  28  23   46   31\n",
       "2                  80  19  37   84   24\n",
       "3                  30  23  48  182   64\n",
       "4                  25  13  40  293  252\n",
       "5                  44   3   6  119  973"
      ]
     },
     "metadata": {},
     "output_type": "display_data"
    },
    {
     "name": "stderr",
     "output_type": "stream",
     "text": [
      "C:\\Users\\Michelle\\anaconda3\\lib\\site-packages\\sklearn\\utils\\validation.py:727: FutureWarning: np.matrix usage is deprecated in 1.0 and will raise a TypeError in 1.2. Please convert to a numpy array with np.asarray. For more information see: https://numpy.org/doc/stable/reference/generated/numpy.matrix.html\n",
      "  warnings.warn(\n"
     ]
    },
    {
     "name": "stdout",
     "output_type": "stream",
     "text": [
      "0.652514302920807\n"
     ]
    }
   ],
   "source": [
    "X_train,X_test, y_train, y_test = train_test_split(X,y, test_size = 0.2, random_state = 100)\n",
    "clf = GradientBoostingClassifier(n_estimators=100, learning_rate=1.0, max_depth=1, random_state=0).fit(X_train, y_train)\n",
    "\n",
    "y_pred = clf.predict(X_test)\n",
    "display(pd.crosstab(y_test,y_pred, rownames =[\"valeurs réelle\"] , colnames = [\"valeurs prédites\"]))\n",
    "print(clf.score(X_test,y_test))"
   ]
  }
 ],
 "metadata": {
  "kernelspec": {
   "display_name": "Python 3 (ipykernel)",
   "language": "python",
   "name": "python3"
  },
  "language_info": {
   "codemirror_mode": {
    "name": "ipython",
    "version": 3
   },
   "file_extension": ".py",
   "mimetype": "text/x-python",
   "name": "python",
   "nbconvert_exporter": "python",
   "pygments_lexer": "ipython3",
   "version": "3.9.13"
  }
 },
 "nbformat": 4,
 "nbformat_minor": 5
}
