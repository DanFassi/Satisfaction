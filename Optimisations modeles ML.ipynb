{
 "cells": [
  {
   "cell_type": "code",
   "execution_count": 3,
   "id": "7636c18a",
   "metadata": {},
   "outputs": [],
   "source": [
    "import warnings\n",
    "warnings.filterwarnings('ignore')\n",
    "import time\n",
    "import pandas as pd\n",
    "import numpy as np\n",
    "import gensim\n",
    "from sklearn.feature_extraction.text import CountVectorizer, TfidfVectorizer\n",
    "from sklearn.model_selection import train_test_split, GridSearchCV,cross_val_score\n",
    "from sklearn.ensemble import GradientBoostingClassifier,RandomForestClassifier\n",
    "from sklearn.linear_model import LogisticRegression\n",
    "from sklearn.svm import SVC\n",
    "from numba import jit\n",
    "\n",
    "df = pd.read_csv(\"Data_Satisfaction_retraitement3.csv\")\n",
    "\n",
    "df = df.dropna(axis = 0, how = \"all\", subset =[\"Commentaires_reduit\"])\n",
    "\n",
    "y = df[\"star\"]\n",
    "Meta_Matrix = df.drop([\"star\",\"Commentaires_reduit\"], axis =1).to_numpy()\n",
    "vectorizer = CountVectorizer(min_df = 150)\n",
    "Com_Matrix = vectorizer.fit_transform(df[\"Commentaires_reduit\"]).todense()\n",
    "X = np.concatenate([Com_Matrix,Meta_Matrix],axis=1)"
   ]
  },
  {
   "cell_type": "code",
   "execution_count": 6,
   "id": "140daa6c",
   "metadata": {},
   "outputs": [],
   "source": [
    "X_train,X_test, y_train, y_test = train_test_split(X,y, test_size = 0.2, random_state = 100)"
   ]
  },
  {
   "cell_type": "code",
   "execution_count": 7,
   "id": "4d5cdad6",
   "metadata": {},
   "outputs": [
    {
     "name": "stdout",
     "output_type": "stream",
     "text": [
      "{'C': 0.1, 'max_iter': 50, 'solver': 'lbfgs'}\n",
      "0.7035674051821255\n"
     ]
    }
   ],
   "source": [
    "rl = LogisticRegression()\n",
    "param_grid_rl = { 'C':[0.01,0.05,0.1], 'max_iter' : [50,75,100], \"solver\" : [\"newton-cg\", \"lbfgs\", \"sag\", \"saga\"]}\n",
    "grid_rl = GridSearchCV(estimator=rl, param_grid= param_grid_rl,cv=5, n_jobs = -1, refit=True).fit(X_train,y_train)\n",
    "print(grid_rl.best_params_)\n",
    "print(grid_rl.best_score_) "
   ]
  },
  {
   "cell_type": "code",
   "execution_count": null,
   "id": "0df297ef",
   "metadata": {},
   "outputs": [],
   "source": [
    "gb = GradientBoostingClassifier()\n",
    "param_grid_gb = {\"n_estimators\":[200,300,400,500], \"learning_rate\":[0.25,0.5,0.75], \"max_depth\": [1,None]}\n",
    "grid_gb = GridSearchCV(estimator=gb, param_grid= param_grid_gb,cv=5, n_jobs = -1, refit=True).fit(X_train,y_train)\n",
    "print(grid_gb.best_params_)\n",
    "print(grid_gb.best_score_) "
   ]
  },
  {
   "cell_type": "code",
   "execution_count": 14,
   "id": "9591d87d",
   "metadata": {},
   "outputs": [
    {
     "name": "stdout",
     "output_type": "stream",
     "text": [
      "{'criterion': 'gini', 'max_depth': None, 'max_features': 'sqrt'}\n",
      "0.6999624483665039\n"
     ]
    }
   ],
   "source": [
    "rf = RandomForestClassifier()\n",
    "param_grid_rf = {'max_features': [\"sqrt\", \"log2\", None], \"criterion\": [\"gini\", \"entropy\", \"log_loss\"],\"max_depth\" : [1,None]}\n",
    "grid_rf = GridSearchCV(estimator=rf, param_grid= param_grid_rf,cv=5, n_jobs = -1, refit=True).fit(X_train,y_train)\n",
    "print(grid_rf.best_params_)\n",
    "print(grid_rf.best_score_) "
   ]
  },
  {
   "cell_type": "code",
   "execution_count": 15,
   "id": "61f5c72f",
   "metadata": {},
   "outputs": [
    {
     "name": "stdout",
     "output_type": "stream",
     "text": [
      "{'C': 0.1, 'kernel': 'linear'}\n",
      "0.7019151333082989\n"
     ]
    }
   ],
   "source": [
    "svc = SVC()\n",
    "param_grid_svc = {'C':[0.01,0.05,0.1],\"kernel\" :[\"linear\", \"poly\", \"rbf\", \"sigmoid\"],}\n",
    "grid_svc = GridSearchCV(estimator=svc, param_grid= param_grid_svc,cv=5, n_jobs = -1, refit=True).fit(X_train,y_train)\n",
    "print(grid_svc.best_params_)\n",
    "print(grid_svc.best_score_) "
   ]
  }
 ],
 "metadata": {
  "kernelspec": {
   "display_name": "Python 3 (ipykernel)",
   "language": "python",
   "name": "python3"
  },
  "language_info": {
   "codemirror_mode": {
    "name": "ipython",
    "version": 3
   },
   "file_extension": ".py",
   "mimetype": "text/x-python",
   "name": "python",
   "nbconvert_exporter": "python",
   "pygments_lexer": "ipython3",
   "version": "3.9.13"
  }
 },
 "nbformat": 4,
 "nbformat_minor": 5
}
