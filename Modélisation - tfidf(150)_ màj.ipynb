{
 "cells": [
  {
   "cell_type": "code",
   "execution_count": 1,
   "id": "407a6f3c",
   "metadata": {},
   "outputs": [],
   "source": [
    "import warnings\n",
    "warnings.filterwarnings('ignore')\n",
    "import time\n"
   ]
  },
  {
   "cell_type": "markdown",
   "id": "7823a2aa",
   "metadata": {},
   "source": [
    "- Importation des modules\n",
    "- Chargement du fichier de données et retraitement du fichier de données\n",
    "- Transformation du DataFrame des MetaDonnée en Matrice"
   ]
  },
  {
   "cell_type": "code",
   "execution_count": 2,
   "id": "8d86a19b",
   "metadata": {},
   "outputs": [],
   "source": [
    "import pandas as pd\n",
    "import numpy as np\n",
    "from sklearn.feature_extraction.text import CountVectorizer, TfidfVectorizer\n",
    "from sklearn.model_selection import train_test_split, GridSearchCV,cross_val_score\n",
    "from sklearn.ensemble import GradientBoostingClassifier,RandomForestClassifier\n",
    "from sklearn.svm import SVC\n",
    "from numba import jit\n",
    "\n",
    "df = pd.read_csv(\"Data_Satisfaction_retraitement2.csv\")\n",
    "\n",
    "df = df.drop(\"Unnamed: 0\",axis=1)\n",
    "df = df.dropna(axis = 0, how = \"all\", subset =[\"Commentaires_reduit\"])\n",
    "\n",
    "y = df[\"star\"]\n",
    "Meta_Matrix = df.drop([\"star\",\"Commentaires_reduit\"], axis =1).to_numpy()"
   ]
  },
  {
   "cell_type": "markdown",
   "id": "a2fc5c05",
   "metadata": {},
   "source": [
    "- Vectorization des commentaires selon la méthode TFIDF\n",
    "- Concatenation de la Matrice des Commentaires Vectorisé et de la Matrice des méta données\n",
    "- Séparation des données en ensemble de test et d'entrainement"
   ]
  },
  {
   "cell_type": "code",
   "execution_count": 3,
   "id": "1d4ec732",
   "metadata": {},
   "outputs": [],
   "source": [
    "vectorizer = TfidfVectorizer(min_df = 300)\n",
    "Com_Matrix = vectorizer.fit_transform(df[\"Commentaires_reduit\"]).todense()\n",
    "X = np.concatenate([Com_Matrix,Meta_Matrix],axis=1)\n",
    "X_train,X_test, y_train, y_test = train_test_split(X,y, test_size = 0.2, random_state = 100)"
   ]
  },
  {
   "cell_type": "markdown",
   "id": "e1dc6748",
   "metadata": {},
   "source": [
    "Application Algorithme de GridSearch sur les modeles : GradientBoosting, RandomForest, et SVC"
   ]
  },
  {
   "cell_type": "code",
   "execution_count": 4,
   "id": "e71e8bb6",
   "metadata": {},
   "outputs": [],
   "source": [
    "@jit\n",
    "def modelisation(X_train,X_test):\n",
    "    gb = GradientBoostingClassifier()\n",
    "    rf = RandomForestClassifier()\n",
    "    svc = SVC()\n",
    "\n",
    "    param_grid_gb = {\"n_estimators\":[100,150,200], \"learning_rate\":[0.5,1.0,1.5], \"max_depth\": [1,2,3],\"random_state\" : [100] }\n",
    "    param_grid_svc = {'C':[0.1,1,10,30],\"kernel\" :[\"linear\", \"poly\", \"rbf\", \"sigmoid\"],\"random_state\" : [100] }\n",
    "    param_grid_rf = {'max_features': [\"sqrt\", \"log2\", None ],\"random_state\" : [100] }\n",
    "\n",
    "    gridcvs = {}\n",
    "    for pgrid, clf, name in zip((param_grid_gb, param_grid_rf, param_grid_svc),\n",
    "                                (gb, rf, svc),\n",
    "                                ('GB', 'RF', 'SVM')):\n",
    "        gcv = GridSearchCV(clf, pgrid, cv=5, n_jobs = -1, refit=True).fit(X_train,y_train)\n",
    "        gridcvs[name] = gcv\n",
    "    return gridcvs \n"
   ]
  },
  {
   "cell_type": "code",
   "execution_count": 5,
   "id": "6f21b989",
   "metadata": {},
   "outputs": [
    {
     "name": "stdout",
     "output_type": "stream",
     "text": [
      "duration= 1712.595781803131\n"
     ]
    }
   ],
   "source": [
    "start = time.time()\n",
    "my_grid = modelisation(X_train,X_test)\n",
    "end = time.time()\n",
    "print(\"duration=\", end - start)"
   ]
  },
  {
   "cell_type": "markdown",
   "id": "477e32f3",
   "metadata": {},
   "source": [
    "Affichage des meilleurs parametres ainsi que des meilleurs score de précisions par models"
   ]
  },
  {
   "cell_type": "code",
   "execution_count": 6,
   "id": "ae763663",
   "metadata": {},
   "outputs": [
    {
     "name": "stdout",
     "output_type": "stream",
     "text": [
      "{'learning_rate': 0.5, 'max_depth': 1, 'n_estimators': 200, 'random_state': 100}\n",
      "{'max_features': 'log2', 'random_state': 100}\n",
      "{'C': 1, 'kernel': 'poly', 'random_state': 100}\n"
     ]
    }
   ],
   "source": [
    "print(my_grid[\"GB\"].best_params_)\n",
    "print(my_grid[\"RF\"].best_params_)\n",
    "print(my_grid[\"SVM\"].best_params_)"
   ]
  },
  {
   "cell_type": "code",
   "execution_count": 7,
   "id": "093f9cd2",
   "metadata": {},
   "outputs": [
    {
     "name": "stdout",
     "output_type": "stream",
     "text": [
      "0.7015631074786739\n",
      "0.6931464335416742\n",
      "0.6978051782276256\n"
     ]
    }
   ],
   "source": [
    "print(my_grid[\"GB\"].best_score_)\n",
    "print(my_grid[\"RF\"].best_score_)\n",
    "print(my_grid[\"SVM\"].best_score_)"
   ]
  },
  {
   "cell_type": "markdown",
   "id": "9167bc5f",
   "metadata": {},
   "source": [
    "Application Algorithme de GridSearch sur le modèle de régression logistique"
   ]
  },
  {
   "cell_type": "code",
   "execution_count": 8,
   "id": "33c7fe0a",
   "metadata": {},
   "outputs": [
    {
     "name": "stdout",
     "output_type": "stream",
     "text": [
      "{'C': 1, 'max_iter': 300, 'random_state': 100}\n",
      "0.7002856464427178\n"
     ]
    }
   ],
   "source": [
    "from sklearn import linear_model \n",
    "from sklearn import model_selection\n",
    "from sklearn.model_selection import train_test_split\n",
    "\n",
    "rl = linear_model.LogisticRegression()\n",
    "param_grid_rl = { 'C':[0.1,1,10,30], 'max_iter' : [100,300,1000], \"random_state\" : [100]}\n",
    "grid_rl = model_selection.GridSearchCV(estimator=rl, param_grid= param_grid_rl )\n",
    "grid_rl.fit(X_train, y_train)\n",
    "\n",
    "print(grid_rl.best_params_)\n",
    "print(grid_rl .best_score_) "
   ]
  },
  {
   "cell_type": "markdown",
   "id": "67539d10",
   "metadata": {},
   "source": [
    "Application du model ayant eu la meilleur précision sur les données d'entrainement au set de test."
   ]
  },
  {
   "cell_type": "code",
   "execution_count": 9,
   "id": "a56fbcd4",
   "metadata": {},
   "outputs": [
    {
     "data": {
      "text/plain": [
       "0.6976254884280132"
      ]
     },
     "execution_count": 9,
     "metadata": {},
     "output_type": "execute_result"
    }
   ],
   "source": [
    "clf = GradientBoostingClassifier(n_estimators=200, learning_rate=0.5, max_depth=1, random_state=0).fit(X_train, y_train)\n",
    "clf.score(X_test,y_test)"
   ]
  },
  {
   "cell_type": "markdown",
   "id": "3eecbbdd",
   "metadata": {},
   "source": [
    "Création d'un réseau de neurone"
   ]
  },
  {
   "cell_type": "code",
   "execution_count": 10,
   "id": "2c205a2b",
   "metadata": {},
   "outputs": [],
   "source": [
    "from tensorflow.keras.layers import Input, Dense \n",
    "from tensorflow.keras.models import Model"
   ]
  },
  {
   "cell_type": "code",
   "execution_count": 11,
   "id": "53dcf8c6",
   "metadata": {},
   "outputs": [],
   "source": [
    "y = y.replace(to_replace = [1,2,3,4,5], value = [0,1,2,3,4])\n",
    "X_train,X_test, y_train, y_test = train_test_split(X,y, test_size = 0.2, random_state = 100)"
   ]
  },
  {
   "cell_type": "code",
   "execution_count": 12,
   "id": "3a7d9733",
   "metadata": {},
   "outputs": [
    {
     "name": "stdout",
     "output_type": "stream",
     "text": [
      "Model: \"model\"\n",
      "_________________________________________________________________\n",
      " Layer (type)                Output Shape              Param #   \n",
      "=================================================================\n",
      " Input (InputLayer)          [(None, 195)]             0         \n",
      "                                                                 \n",
      " Dense_1 (Dense)             (None, 130)               25480     \n",
      "                                                                 \n",
      " Dense_2 (Dense)             (None, 65)                8515      \n",
      "                                                                 \n",
      " Dense_3 (Dense)             (None, 5)                 330       \n",
      "                                                                 \n",
      "=================================================================\n",
      "Total params: 34,325\n",
      "Trainable params: 34,325\n",
      "Non-trainable params: 0\n",
      "_________________________________________________________________\n"
     ]
    }
   ],
   "source": [
    "X_train_dim = X_train.shape[1]\n",
    "\n",
    "\n",
    "inputs = Input(shape = X_train_dim, name = \"Input\")\n",
    "couche={}\n",
    "n = 3\n",
    "for i in range(1,n+1):\n",
    "    if i !=n:\n",
    "        couche[i] = Dense(units = X_train_dim-i*(X_train_dim//n), activation = \"tanh\", name = \"Dense_\"+str(i))\n",
    "    else:\n",
    "        couche[i] = Dense(units = 5, activation = \"softmax\", name = \"Dense_\"+str(i))\n",
    "\n",
    "x=couche[1](inputs)\n",
    "for i in range(2,n):   \n",
    "    x=couche[i](x)\n",
    "outputs=couche[n](x)\n",
    "\n",
    "    \n",
    "\n",
    "model = Model(inputs = inputs, outputs = outputs)\n",
    "model.summary()"
   ]
  },
  {
   "cell_type": "code",
   "execution_count": 13,
   "id": "9724dfb0",
   "metadata": {},
   "outputs": [],
   "source": [
    "from tensorflow.keras.callbacks import ReduceLROnPlateau\n",
    "reducelr = ReduceLROnPlateau(monitor = 'val_accuracy',\n",
    "                        min_delta = 0.001,\n",
    "                        patience = 10,\n",
    "                        factor = 0.5, \n",
    "                        cooldown = 10,\n",
    "                        verbose = 1)\n",
    "\n",
    "\n",
    "from tensorflow.keras.callbacks import EarlyStopping \n",
    "earlystop = EarlyStopping(monitor = 'val_accuracy',\n",
    "                    min_delta = 0.0001,\n",
    "                    patience = 30,\n",
    "                    verbose = 1,\n",
    "                    restore_best_weights = True)"
   ]
  },
  {
   "cell_type": "code",
   "execution_count": 14,
   "id": "d926c749",
   "metadata": {},
   "outputs": [
    {
     "name": "stdout",
     "output_type": "stream",
     "text": [
      "Epoch 1/500\n",
      "80/80 [==============================] - 1s 5ms/step - loss: 0.9853 - accuracy: 0.6347 - val_loss: 0.8174 - val_accuracy: 0.6792 - lr: 0.0010\n",
      "Epoch 2/500\n",
      "80/80 [==============================] - 0s 2ms/step - loss: 0.7732 - accuracy: 0.6984 - val_loss: 0.7794 - val_accuracy: 0.6867 - lr: 0.0010\n",
      "Epoch 3/500\n",
      "80/80 [==============================] - 0s 1ms/step - loss: 0.7504 - accuracy: 0.7065 - val_loss: 0.7809 - val_accuracy: 0.6965 - lr: 0.0010\n",
      "Epoch 4/500\n",
      "80/80 [==============================] - 0s 1ms/step - loss: 0.7422 - accuracy: 0.7068 - val_loss: 0.7777 - val_accuracy: 0.6890 - lr: 0.0010\n",
      "Epoch 5/500\n",
      "80/80 [==============================] - 0s 2ms/step - loss: 0.7365 - accuracy: 0.7109 - val_loss: 0.7713 - val_accuracy: 0.7025 - lr: 0.0010\n",
      "Epoch 6/500\n",
      "80/80 [==============================] - 0s 1ms/step - loss: 0.7331 - accuracy: 0.7120 - val_loss: 0.7714 - val_accuracy: 0.6980 - lr: 0.0010\n",
      "Epoch 7/500\n",
      "80/80 [==============================] - 0s 2ms/step - loss: 0.7318 - accuracy: 0.7139 - val_loss: 0.7694 - val_accuracy: 0.6965 - lr: 0.0010\n",
      "Epoch 8/500\n",
      "80/80 [==============================] - 0s 2ms/step - loss: 0.7283 - accuracy: 0.7146 - val_loss: 0.7718 - val_accuracy: 0.6995 - lr: 0.0010\n",
      "Epoch 9/500\n",
      "80/80 [==============================] - 0s 2ms/step - loss: 0.7282 - accuracy: 0.7167 - val_loss: 0.7734 - val_accuracy: 0.6972 - lr: 0.0010\n",
      "Epoch 10/500\n",
      "80/80 [==============================] - 0s 1ms/step - loss: 0.7257 - accuracy: 0.7177 - val_loss: 0.7646 - val_accuracy: 0.7025 - lr: 0.0010\n",
      "Epoch 11/500\n",
      "80/80 [==============================] - 0s 2ms/step - loss: 0.7257 - accuracy: 0.7165 - val_loss: 0.7654 - val_accuracy: 0.6995 - lr: 0.0010\n",
      "Epoch 12/500\n",
      "80/80 [==============================] - 0s 1ms/step - loss: 0.7227 - accuracy: 0.7182 - val_loss: 0.7696 - val_accuracy: 0.7002 - lr: 0.0010\n",
      "Epoch 13/500\n",
      "80/80 [==============================] - 0s 1ms/step - loss: 0.7223 - accuracy: 0.7184 - val_loss: 0.7643 - val_accuracy: 0.7055 - lr: 0.0010\n",
      "Epoch 14/500\n",
      "80/80 [==============================] - 0s 1ms/step - loss: 0.7209 - accuracy: 0.7157 - val_loss: 0.7676 - val_accuracy: 0.6987 - lr: 0.0010\n",
      "Epoch 15/500\n",
      "80/80 [==============================] - 0s 2ms/step - loss: 0.7208 - accuracy: 0.7182 - val_loss: 0.7693 - val_accuracy: 0.7002 - lr: 0.0010\n",
      "Epoch 16/500\n",
      "80/80 [==============================] - 0s 2ms/step - loss: 0.7209 - accuracy: 0.7203 - val_loss: 0.7633 - val_accuracy: 0.7032 - lr: 0.0010\n",
      "Epoch 17/500\n",
      "80/80 [==============================] - 0s 1ms/step - loss: 0.7178 - accuracy: 0.7195 - val_loss: 0.7643 - val_accuracy: 0.6972 - lr: 0.0010\n",
      "Epoch 18/500\n",
      "80/80 [==============================] - 0s 2ms/step - loss: 0.7182 - accuracy: 0.7189 - val_loss: 0.7634 - val_accuracy: 0.7025 - lr: 0.0010\n",
      "Epoch 19/500\n",
      "80/80 [==============================] - 0s 1ms/step - loss: 0.7162 - accuracy: 0.7212 - val_loss: 0.7587 - val_accuracy: 0.7047 - lr: 0.0010\n",
      "Epoch 20/500\n",
      "80/80 [==============================] - 0s 2ms/step - loss: 0.7165 - accuracy: 0.7212 - val_loss: 0.7651 - val_accuracy: 0.7017 - lr: 0.0010\n",
      "Epoch 21/500\n",
      "80/80 [==============================] - 0s 1ms/step - loss: 0.7153 - accuracy: 0.7197 - val_loss: 0.7630 - val_accuracy: 0.7040 - lr: 0.0010\n",
      "Epoch 22/500\n",
      "80/80 [==============================] - 0s 1ms/step - loss: 0.7149 - accuracy: 0.7210 - val_loss: 0.7561 - val_accuracy: 0.6995 - lr: 0.0010\n",
      "Epoch 23/500\n",
      "40/80 [==============>...............] - ETA: 0s - loss: 0.7279 - accuracy: 0.7133\n",
      "Epoch 23: ReduceLROnPlateau reducing learning rate to 0.0005000000237487257.\n",
      "80/80 [==============================] - 0s 2ms/step - loss: 0.7135 - accuracy: 0.7216 - val_loss: 0.7612 - val_accuracy: 0.6995 - lr: 0.0010\n",
      "Epoch 24/500\n",
      "80/80 [==============================] - 0s 1ms/step - loss: 0.7067 - accuracy: 0.7248 - val_loss: 0.7601 - val_accuracy: 0.6995 - lr: 5.0000e-04\n",
      "Epoch 25/500\n",
      "80/80 [==============================] - 0s 1ms/step - loss: 0.7049 - accuracy: 0.7258 - val_loss: 0.7579 - val_accuracy: 0.7010 - lr: 5.0000e-04\n",
      "Epoch 26/500\n",
      "80/80 [==============================] - 0s 2ms/step - loss: 0.7042 - accuracy: 0.7236 - val_loss: 0.7574 - val_accuracy: 0.7025 - lr: 5.0000e-04\n",
      "Epoch 27/500\n",
      "80/80 [==============================] - 0s 2ms/step - loss: 0.7039 - accuracy: 0.7250 - val_loss: 0.7570 - val_accuracy: 0.7002 - lr: 5.0000e-04\n",
      "Epoch 28/500\n",
      "80/80 [==============================] - 0s 2ms/step - loss: 0.7028 - accuracy: 0.7253 - val_loss: 0.7556 - val_accuracy: 0.7025 - lr: 5.0000e-04\n",
      "Epoch 29/500\n",
      "80/80 [==============================] - 0s 1ms/step - loss: 0.7024 - accuracy: 0.7258 - val_loss: 0.7568 - val_accuracy: 0.7025 - lr: 5.0000e-04\n",
      "Epoch 30/500\n",
      "80/80 [==============================] - 0s 2ms/step - loss: 0.7017 - accuracy: 0.7277 - val_loss: 0.7559 - val_accuracy: 0.7032 - lr: 5.0000e-04\n",
      "Epoch 31/500\n",
      "80/80 [==============================] - 0s 2ms/step - loss: 0.7002 - accuracy: 0.7262 - val_loss: 0.7539 - val_accuracy: 0.6987 - lr: 5.0000e-04\n",
      "Epoch 32/500\n",
      "80/80 [==============================] - 0s 1ms/step - loss: 0.6989 - accuracy: 0.7276 - val_loss: 0.7624 - val_accuracy: 0.6980 - lr: 5.0000e-04\n",
      "Epoch 33/500\n",
      "80/80 [==============================] - 0s 2ms/step - loss: 0.6982 - accuracy: 0.7268 - val_loss: 0.7572 - val_accuracy: 0.7025 - lr: 5.0000e-04\n",
      "Epoch 34/500\n",
      "80/80 [==============================] - 0s 2ms/step - loss: 0.6973 - accuracy: 0.7280 - val_loss: 0.7563 - val_accuracy: 0.7032 - lr: 5.0000e-04\n",
      "Epoch 35/500\n",
      "80/80 [==============================] - 0s 2ms/step - loss: 0.6960 - accuracy: 0.7274 - val_loss: 0.7543 - val_accuracy: 0.7047 - lr: 5.0000e-04\n",
      "Epoch 36/500\n",
      "80/80 [==============================] - 0s 2ms/step - loss: 0.6943 - accuracy: 0.7293 - val_loss: 0.7523 - val_accuracy: 0.7040 - lr: 5.0000e-04\n",
      "Epoch 37/500\n",
      "80/80 [==============================] - 0s 2ms/step - loss: 0.6938 - accuracy: 0.7282 - val_loss: 0.7537 - val_accuracy: 0.7055 - lr: 5.0000e-04\n",
      "Epoch 38/500\n",
      "80/80 [==============================] - 0s 2ms/step - loss: 0.6922 - accuracy: 0.7289 - val_loss: 0.7523 - val_accuracy: 0.7010 - lr: 5.0000e-04\n",
      "Epoch 39/500\n",
      "80/80 [==============================] - 0s 2ms/step - loss: 0.6904 - accuracy: 0.7290 - val_loss: 0.7523 - val_accuracy: 0.7032 - lr: 5.0000e-04\n",
      "Epoch 40/500\n",
      "80/80 [==============================] - 0s 2ms/step - loss: 0.6898 - accuracy: 0.7294 - val_loss: 0.7533 - val_accuracy: 0.7092 - lr: 5.0000e-04\n",
      "Epoch 41/500\n",
      "80/80 [==============================] - 0s 2ms/step - loss: 0.6878 - accuracy: 0.7301 - val_loss: 0.7509 - val_accuracy: 0.7047 - lr: 5.0000e-04\n",
      "Epoch 42/500\n",
      "80/80 [==============================] - 0s 2ms/step - loss: 0.6858 - accuracy: 0.7316 - val_loss: 0.7484 - val_accuracy: 0.7032 - lr: 5.0000e-04\n",
      "Epoch 43/500\n",
      "80/80 [==============================] - 0s 2ms/step - loss: 0.6849 - accuracy: 0.7299 - val_loss: 0.7458 - val_accuracy: 0.7002 - lr: 5.0000e-04\n",
      "Epoch 44/500\n",
      "80/80 [==============================] - 0s 2ms/step - loss: 0.6831 - accuracy: 0.7316 - val_loss: 0.7469 - val_accuracy: 0.7062 - lr: 5.0000e-04\n",
      "Epoch 45/500\n",
      "80/80 [==============================] - 0s 2ms/step - loss: 0.6817 - accuracy: 0.7327 - val_loss: 0.7439 - val_accuracy: 0.7010 - lr: 5.0000e-04\n",
      "Epoch 46/500\n",
      "80/80 [==============================] - 0s 2ms/step - loss: 0.6801 - accuracy: 0.7317 - val_loss: 0.7467 - val_accuracy: 0.7032 - lr: 5.0000e-04\n",
      "Epoch 47/500\n",
      "80/80 [==============================] - 0s 1ms/step - loss: 0.6784 - accuracy: 0.7335 - val_loss: 0.7493 - val_accuracy: 0.7017 - lr: 5.0000e-04\n",
      "Epoch 48/500\n",
      "80/80 [==============================] - 0s 1ms/step - loss: 0.6773 - accuracy: 0.7345 - val_loss: 0.7445 - val_accuracy: 0.7025 - lr: 5.0000e-04\n",
      "Epoch 49/500\n",
      "80/80 [==============================] - 0s 1ms/step - loss: 0.6744 - accuracy: 0.7357 - val_loss: 0.7438 - val_accuracy: 0.7025 - lr: 5.0000e-04\n",
      "Epoch 50/500\n",
      "44/80 [===============>..............] - ETA: 0s - loss: 0.6896 - accuracy: 0.7218\n",
      "Epoch 50: ReduceLROnPlateau reducing learning rate to 0.0002500000118743628.\n",
      "80/80 [==============================] - 0s 2ms/step - loss: 0.6720 - accuracy: 0.7354 - val_loss: 0.7453 - val_accuracy: 0.7040 - lr: 5.0000e-04\n",
      "Epoch 51/500\n"
     ]
    },
    {
     "name": "stdout",
     "output_type": "stream",
     "text": [
      "80/80 [==============================] - 0s 2ms/step - loss: 0.6673 - accuracy: 0.7385 - val_loss: 0.7461 - val_accuracy: 0.7017 - lr: 2.5000e-04\n",
      "Epoch 52/500\n",
      "80/80 [==============================] - 0s 1ms/step - loss: 0.6665 - accuracy: 0.7376 - val_loss: 0.7428 - val_accuracy: 0.6995 - lr: 2.5000e-04\n",
      "Epoch 53/500\n",
      "80/80 [==============================] - 0s 1ms/step - loss: 0.6652 - accuracy: 0.7383 - val_loss: 0.7426 - val_accuracy: 0.7002 - lr: 2.5000e-04\n",
      "Epoch 54/500\n",
      "80/80 [==============================] - 0s 1ms/step - loss: 0.6646 - accuracy: 0.7383 - val_loss: 0.7446 - val_accuracy: 0.7040 - lr: 2.5000e-04\n",
      "Epoch 55/500\n",
      "80/80 [==============================] - 0s 1ms/step - loss: 0.6637 - accuracy: 0.7383 - val_loss: 0.7444 - val_accuracy: 0.6995 - lr: 2.5000e-04\n",
      "Epoch 56/500\n",
      "80/80 [==============================] - 0s 1ms/step - loss: 0.6627 - accuracy: 0.7387 - val_loss: 0.7456 - val_accuracy: 0.7025 - lr: 2.5000e-04\n",
      "Epoch 57/500\n",
      "80/80 [==============================] - 0s 1ms/step - loss: 0.6622 - accuracy: 0.7398 - val_loss: 0.7422 - val_accuracy: 0.7010 - lr: 2.5000e-04\n",
      "Epoch 58/500\n",
      "80/80 [==============================] - 0s 1ms/step - loss: 0.6609 - accuracy: 0.7384 - val_loss: 0.7438 - val_accuracy: 0.7040 - lr: 2.5000e-04\n",
      "Epoch 59/500\n",
      "80/80 [==============================] - 0s 2ms/step - loss: 0.6598 - accuracy: 0.7399 - val_loss: 0.7459 - val_accuracy: 0.7017 - lr: 2.5000e-04\n",
      "Epoch 60/500\n",
      "80/80 [==============================] - 0s 1ms/step - loss: 0.6594 - accuracy: 0.7400 - val_loss: 0.7430 - val_accuracy: 0.7002 - lr: 2.5000e-04\n",
      "Epoch 61/500\n",
      "80/80 [==============================] - 0s 1ms/step - loss: 0.6589 - accuracy: 0.7402 - val_loss: 0.7433 - val_accuracy: 0.7032 - lr: 2.5000e-04\n",
      "Epoch 62/500\n",
      "80/80 [==============================] - 0s 1ms/step - loss: 0.6577 - accuracy: 0.7411 - val_loss: 0.7436 - val_accuracy: 0.6995 - lr: 2.5000e-04\n",
      "Epoch 63/500\n",
      "80/80 [==============================] - 0s 1ms/step - loss: 0.6567 - accuracy: 0.7420 - val_loss: 0.7447 - val_accuracy: 0.7070 - lr: 2.5000e-04\n",
      "Epoch 64/500\n",
      "80/80 [==============================] - 0s 1ms/step - loss: 0.6556 - accuracy: 0.7412 - val_loss: 0.7424 - val_accuracy: 0.6987 - lr: 2.5000e-04\n",
      "Epoch 65/500\n",
      "80/80 [==============================] - 0s 1ms/step - loss: 0.6553 - accuracy: 0.7416 - val_loss: 0.7424 - val_accuracy: 0.7047 - lr: 2.5000e-04\n",
      "Epoch 66/500\n",
      "80/80 [==============================] - 0s 1ms/step - loss: 0.6543 - accuracy: 0.7418 - val_loss: 0.7434 - val_accuracy: 0.7025 - lr: 2.5000e-04\n",
      "Epoch 67/500\n",
      "80/80 [==============================] - 0s 1ms/step - loss: 0.6532 - accuracy: 0.7414 - val_loss: 0.7434 - val_accuracy: 0.7025 - lr: 2.5000e-04\n",
      "Epoch 68/500\n",
      "80/80 [==============================] - 0s 1ms/step - loss: 0.6528 - accuracy: 0.7413 - val_loss: 0.7420 - val_accuracy: 0.7040 - lr: 2.5000e-04\n",
      "Epoch 69/500\n",
      "43/80 [===============>..............] - ETA: 0s - loss: 0.6462 - accuracy: 0.7431\n",
      "Epoch 69: ReduceLROnPlateau reducing learning rate to 0.0001250000059371814.\n",
      "80/80 [==============================] - 0s 2ms/step - loss: 0.6516 - accuracy: 0.7410 - val_loss: 0.7450 - val_accuracy: 0.6987 - lr: 2.5000e-04\n",
      "Epoch 70/500\n",
      "46/80 [================>.............] - ETA: 0s - loss: 0.6454 - accuracy: 0.7420Restoring model weights from the end of the best epoch: 40.\n",
      "80/80 [==============================] - 0s 2ms/step - loss: 0.6496 - accuracy: 0.7440 - val_loss: 0.7424 - val_accuracy: 0.7002 - lr: 1.2500e-04\n",
      "Epoch 70: early stopping\n"
     ]
    }
   ],
   "source": [
    "model.compile(loss = \"sparse_categorical_crossentropy\",\n",
    "              optimizer = \"adam\",\n",
    "              metrics = [\"accuracy\"])\n",
    "model_history = model.fit(X_train,y_train,epochs=500,batch_size=150,validation_split=0.1, callbacks = [reducelr, earlystop])"
   ]
  },
  {
   "cell_type": "code",
   "execution_count": 15,
   "id": "d6c37230",
   "metadata": {},
   "outputs": [
    {
     "data": {
      "image/png": "[encoded data removed]",
      "text/plain": [
       "<Figure size 432x288 with 1 Axes>"
      ]
     },
     "metadata": {
      "needs_background": "light"
     },
     "output_type": "display_data"
    }
   ],
   "source": [
    "import matplotlib.pyplot as plt\n",
    "\n",
    "train_acc = model_history.history['accuracy']\n",
    "val_acc = model_history.history['val_accuracy']\n",
    "\n",
    "plt.xlabel('Epochs')\n",
    "plt.ylabel('Accuracy')\n",
    "\n",
    "plt.plot(np.arange(1 , max(model_history.epoch)+2, 1),\n",
    "         model_history.history['accuracy'],\n",
    "         label = 'Training Accuracy',\n",
    "         color = 'blue')\n",
    "\n",
    "plt.plot(np.arange(1 , max(model_history.epoch)+2, 1),\n",
    "         model_history.history['val_accuracy'], \n",
    "         label = 'Validation Accuracy',\n",
    "         color = 'red')\n",
    "\n",
    "plt.legend()\n",
    "plt.show()"
   ]
  },
  {
   "cell_type": "code",
   "execution_count": 19,
   "id": "c7a98812",
   "metadata": {},
   "outputs": [
    {
     "data": {
      "image/png": "[encoded data removed]",
      "text/plain": [
       "<Figure size 432x288 with 1 Axes>"
      ]
     },
     "metadata": {
      "needs_background": "light"
     },
     "output_type": "display_data"
    }
   ],
   "source": [
    "\n",
    "plt.xlabel('Epochs')\n",
    "plt.ylabel('Loss')\n",
    "\n",
    "plt.plot(np.arange(1 , max(model_history.epoch)+2, 1),\n",
    "         model_history.history['loss'],\n",
    "         label = 'Training Loss',\n",
    "         color = 'blue')\n",
    "\n",
    "plt.plot(np.arange(1 , max(model_history.epoch)+2, 1),\n",
    "         model_history.history['val_loss'], \n",
    "         label = 'Validation Loss',\n",
    "         color = 'red')\n",
    "\n",
    "plt.legend()\n",
    "plt.show()"
   ]
  },
  {
   "cell_type": "markdown",
   "id": "6fcafca3",
   "metadata": {},
   "source": [
    "Estimation de la performance du reseau de neurone"
   ]
  },
  {
   "cell_type": "code",
   "execution_count": 16,
   "id": "6f8b029b",
   "metadata": {},
   "outputs": [
    {
     "name": "stdout",
     "output_type": "stream",
     "text": [
      "104/104 [==============================] - 0s 698us/step\n"
     ]
    }
   ],
   "source": [
    "test_pred = model.predict(X_test)\n",
    "\n",
    "y_test_class = y_test\n",
    "y_pred_class = np.argmax(test_pred,axis=1)\n"
   ]
  },
  {
   "cell_type": "code",
   "execution_count": 17,
   "id": "a21377c7",
   "metadata": {},
   "outputs": [
    {
     "name": "stdout",
     "output_type": "stream",
     "text": [
      "              precision    recall  f1-score   support\n",
      "\n",
      "           0       0.82      0.90      0.86       964\n",
      "           1       0.23      0.07      0.11       248\n",
      "           2       0.30      0.22      0.25       316\n",
      "           3       0.48      0.54      0.51       628\n",
      "           4       0.81      0.87      0.84      1171\n",
      "\n",
      "    accuracy                           0.69      3327\n",
      "   macro avg       0.53      0.52      0.51      3327\n",
      "weighted avg       0.66      0.69      0.67      3327\n",
      "\n",
      "[[ 869   13   33   32   17]\n",
      " [  97   18   56   69    8]\n",
      " [  36   33   69  156   22]\n",
      " [  22   13   64  339  190]\n",
      " [  30    2    9  116 1014]]\n"
     ]
    }
   ],
   "source": [
    "from sklearn.metrics import classification_report,confusion_matrix\n",
    "print(classification_report(y_test_class,y_pred_class))\n",
    "print(confusion_matrix(y_test_class,y_pred_class)) "
   ]
  }
 ],
 "metadata": {
  "kernelspec": {
   "display_name": "Python 3 (ipykernel)",
   "language": "python",
   "name": "python3"
  },
  "language_info": {
   "codemirror_mode": {
    "name": "ipython",
    "version": 3
   },
   "file_extension": ".py",
   "mimetype": "text/x-python",
   "name": "python",
   "nbconvert_exporter": "python",
   "pygments_lexer": "ipython3",
   "version": "3.9.12"
  }
 },
 "nbformat": 4,
 "nbformat_minor": 5
}
