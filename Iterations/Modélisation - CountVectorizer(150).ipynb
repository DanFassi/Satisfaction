{
 "cells": [
  {
   "cell_type": "code",
   "execution_count": 2,
   "id": "407a6f3c",
   "metadata": {},
   "outputs": [],
   "source": [
    "import warnings\n",
    "warnings.filterwarnings('ignore')\n",
    "import time\n"
   ]
  },
  {
   "cell_type": "markdown",
   "id": "36b2fefd",
   "metadata": {},
   "source": [
    "- Importation des modules\n",
    "- Chargement du fichier de données et retraitement du fichier de données\n",
    "- Transformation du DataFrame des MetaDonnée en Matrice"
   ]
  },
  {
   "cell_type": "code",
   "execution_count": 3,
   "id": "8d86a19b",
   "metadata": {},
   "outputs": [],
   "source": [
    "import pandas as pd\n",
    "import numpy as np\n",
    "from sklearn.feature_extraction.text import CountVectorizer, TfidfVectorizer\n",
    "from sklearn.model_selection import train_test_split, GridSearchCV,cross_val_score\n",
    "from sklearn.ensemble import GradientBoostingClassifier,RandomForestClassifier\n",
    "from sklearn.svm import SVC\n",
    "from numba import jit\n",
    "\n",
    "df = pd.read_csv(\"Data_Satisfaction_retraitement2.csv\")\n",
    "\n",
    "df = df.drop(\"Unnamed: 0\",axis=1)\n",
    "df = df.dropna(axis = 0, how = \"all\", subset =[\"Commentaires_reduit\"])\n",
    "\n",
    "y = df[\"star\"]\n",
    "Meta_Matrix = df.drop([\"star\",\"Commentaires_reduit\"], axis =1).to_numpy()"
   ]
  },
  {
   "cell_type": "markdown",
   "id": "f24bee2a",
   "metadata": {},
   "source": [
    "- Vectorization des commentaires selon la méthode CountVectorizer\n",
    "- Concatenation de la Matrice des Commentaires Vectorisé et de la Matrice des méta données\n",
    "- Séparation des données en ensemble de test et d'entrainement"
   ]
  },
  {
   "cell_type": "code",
   "execution_count": 4,
   "id": "1d4ec732",
   "metadata": {},
   "outputs": [],
   "source": [
    "vectorizer = CountVectorizer(min_df = 150)\n",
    "Com_Matrix = vectorizer.fit_transform(df[\"Commentaires_reduit\"]).todense()\n",
    "X = np.concatenate([Com_Matrix,Meta_Matrix],axis=1)\n",
    "X_train,X_test, y_train, y_test = train_test_split(X,y, test_size = 0.2, random_state = 100)"
   ]
  },
  {
   "cell_type": "markdown",
   "id": "1fe52f3b",
   "metadata": {},
   "source": [
    "Application Algorithme de GridSearch sur les modeles : GradientBoosting, RandomForest, et SVC"
   ]
  },
  {
   "cell_type": "code",
   "execution_count": 25,
   "id": "e71e8bb6",
   "metadata": {},
   "outputs": [],
   "source": [
    "@jit\n",
    "def modelisation(X_train,X_test):\n",
    "    gb = GradientBoostingClassifier()\n",
    "    rf = RandomForestClassifier()\n",
    "    svc = SVC()\n",
    "\n",
    "    param_grid_gb = {\"n_estimators\":[100,150,200], \"learning_rate\":[0.5,1.0,1.5], \"max_depth\": [1,2,3],\"random_state\" : [100] }\n",
    "    param_grid_svc = {'C':[0.1,1,10,30],\"kernel\" :[\"linear\", \"poly\", \"rbf\", \"sigmoid\"],\"random_state\" : [100] }\n",
    "    param_grid_rf = {'max_features': [\"sqrt\", \"log2\", None ],\"random_state\" : [100] }\n",
    "\n",
    "    gridcvs = {}\n",
    "    for pgrid, clf, name in zip((param_grid_gb, param_grid_rf, param_grid_svc),\n",
    "                                (gb, rf, svc),\n",
    "                                ('GB', 'RF', 'SVM')):\n",
    "        gcv = GridSearchCV(clf, pgrid, cv=5, n_jobs = -1, refit=True).fit(X_train,y_train)\n",
    "        gridcvs[name] = gcv\n",
    "    return gridcvs \n"
   ]
  },
  {
   "cell_type": "code",
   "execution_count": 26,
   "id": "6f21b989",
   "metadata": {},
   "outputs": [
    {
     "name": "stdout",
     "output_type": "stream",
     "text": [
      "duration= 4681.958347320557\n"
     ]
    }
   ],
   "source": [
    "start = time.time()\n",
    "my_grid = modelisation(X_train,X_test)\n",
    "end = time.time()\n",
    "print(\"duration=\", end - start)"
   ]
  },
  {
   "cell_type": "markdown",
   "id": "1118faae",
   "metadata": {},
   "source": [
    "Affichage des meilleurs parametres ainsi que des meilleurs score de précisions par models"
   ]
  },
  {
   "cell_type": "code",
   "execution_count": 36,
   "id": "ae763663",
   "metadata": {},
   "outputs": [
    {
     "name": "stdout",
     "output_type": "stream",
     "text": [
      "{'learning_rate': 0.5, 'max_depth': 1, 'n_estimators': 200, 'random_state': 100}\n",
      "{'max_features': 'log2', 'random_state': 100}\n",
      "{'C': 0.1, 'kernel': 'linear', 'random_state': 100}\n"
     ]
    }
   ],
   "source": [
    "print(my_grid[\"GB\"].best_params_)\n",
    "print(my_grid[\"RF\"].best_params_)\n",
    "print(my_grid[\"SVM\"].best_params_)"
   ]
  },
  {
   "cell_type": "code",
   "execution_count": 37,
   "id": "093f9cd2",
   "metadata": {},
   "outputs": [
    {
     "name": "stdout",
     "output_type": "stream",
     "text": [
      "0.7047198437174864\n",
      "0.6973550669703548\n",
      "0.6984069641602229\n"
     ]
    }
   ],
   "source": [
    "print(my_grid[\"GB\"].best_score_)\n",
    "print(my_grid[\"RF\"].best_score_)\n",
    "print(my_grid[\"SVM\"].best_score_)"
   ]
  },
  {
   "cell_type": "markdown",
   "id": "02e12790",
   "metadata": {},
   "source": [
    "Application du model ayant eu la meilleur précision sur les données d'entrainement au set de test."
   ]
  },
  {
   "cell_type": "code",
   "execution_count": 95,
   "id": "3ccab9c1",
   "metadata": {},
   "outputs": [
    {
     "data": {
      "text/plain": [
       "0.7012323414487527"
      ]
     },
     "execution_count": 95,
     "metadata": {},
     "output_type": "execute_result"
    }
   ],
   "source": [
    "clf = GradientBoostingClassifier(n_estimators=200, learning_rate=0.5, max_depth=1, random_state=0).fit(X_train, y_train)\n",
    "clf.score(X_test,y_test)"
   ]
  },
  {
   "cell_type": "markdown",
   "id": "b7d9c094",
   "metadata": {},
   "source": [
    "Création d'un réseau de neurone"
   ]
  },
  {
   "cell_type": "code",
   "execution_count": 5,
   "id": "2c205a2b",
   "metadata": {},
   "outputs": [],
   "source": [
    "from tensorflow.keras.layers import Input, Dense \n",
    "from tensorflow.keras.models import Model"
   ]
  },
  {
   "cell_type": "code",
   "execution_count": 6,
   "id": "53dcf8c6",
   "metadata": {},
   "outputs": [],
   "source": [
    "y = y.replace(to_replace = [1,2,3,4,5], value = [0,1,2,3,4])\n",
    "X_train,X_test, y_train, y_test = train_test_split(X,y, test_size = 0.2, random_state = 100)"
   ]
  },
  {
   "cell_type": "code",
   "execution_count": 62,
   "id": "3a7d9733",
   "metadata": {},
   "outputs": [
    {
     "name": "stdout",
     "output_type": "stream",
     "text": [
      "Model: \"model_14\"\n",
      "_________________________________________________________________\n",
      " Layer (type)                Output Shape              Param #   \n",
      "=================================================================\n",
      " Input (InputLayer)          [(None, 393)]             0         \n",
      "                                                                 \n",
      " Dense_1 (Dense)             (None, 262)               103228    \n",
      "                                                                 \n",
      " Dense_2 (Dense)             (None, 131)               34453     \n",
      "                                                                 \n",
      " Dense_3 (Dense)             (None, 5)                 660       \n",
      "                                                                 \n",
      "=================================================================\n",
      "Total params: 138,341\n",
      "Trainable params: 138,341\n",
      "Non-trainable params: 0\n",
      "_________________________________________________________________\n"
     ]
    }
   ],
   "source": [
    "X_train_dim = X_train.shape[1]\n",
    "inputs = Input(shape = X_train_dim, name = \"Input\")\n",
    "couche={}\n",
    "n = 3\n",
    "for i in range(1,n+1):\n",
    "    if i !=n:\n",
    "        couche[i] = Dense(units = X_train_dim-i*(X_train_dim//n), activation = \"tanh\", name = \"Dense_\"+str(i))\n",
    "    else:\n",
    "        couche[i] = Dense(units = 5, activation = \"softmax\", name = \"Dense_\"+str(i))\n",
    "\n",
    "x=couche[1](inputs)\n",
    "for i in range(2,n):   \n",
    "    x=couche[i](x)\n",
    "outputs=couche[n](x)\n",
    "\n",
    "    \n",
    "\n",
    "model = Model(inputs = inputs, outputs = outputs)\n",
    "model.summary()"
   ]
  },
  {
   "cell_type": "code",
   "execution_count": 64,
   "id": "0eba5562",
   "metadata": {},
   "outputs": [],
   "source": [
    "from tensorflow.keras.callbacks import ReduceLROnPlateau\n",
    "reducelr = ReduceLROnPlateau(monitor = 'val_accuracy',\n",
    "                        min_delta = 0.001,\n",
    "                        patience = 10,\n",
    "                        factor = 0.5, \n",
    "                        cooldown = 10,\n",
    "                        verbose = 1)\n",
    "\n",
    "\n",
    "from tensorflow.keras.callbacks import EarlyStopping \n",
    "earlystop = EarlyStopping(monitor = 'val_accuracy',\n",
    "                    min_delta = 0.0001,\n",
    "                    patience = 30,\n",
    "                    verbose = 1,\n",
    "                    restore_best_weights = True)"
   ]
  },
  {
   "cell_type": "code",
   "execution_count": 65,
   "id": "d926c749",
   "metadata": {},
   "outputs": [
    {
     "name": "stdout",
     "output_type": "stream",
     "text": [
      "Epoch 1/500\n",
      "80/80 [==============================] - 0s 3ms/step - loss: 0.8828 - accuracy: 0.6614 - val_loss: 0.7777 - val_accuracy: 0.6912 - lr: 0.0010\n",
      "Epoch 2/500\n",
      "80/80 [==============================] - 0s 2ms/step - loss: 0.7289 - accuracy: 0.7133 - val_loss: 0.7692 - val_accuracy: 0.7017 - lr: 0.0010\n",
      "Epoch 3/500\n",
      "80/80 [==============================] - 0s 2ms/step - loss: 0.7047 - accuracy: 0.7223 - val_loss: 0.7767 - val_accuracy: 0.7010 - lr: 0.0010\n",
      "Epoch 4/500\n",
      "80/80 [==============================] - 0s 2ms/step - loss: 0.6929 - accuracy: 0.7262 - val_loss: 0.7916 - val_accuracy: 0.6920 - lr: 0.0010\n",
      "Epoch 5/500\n",
      "80/80 [==============================] - 0s 2ms/step - loss: 0.6825 - accuracy: 0.7294 - val_loss: 0.7784 - val_accuracy: 0.6957 - lr: 0.0010\n",
      "Epoch 6/500\n",
      "80/80 [==============================] - 0s 2ms/step - loss: 0.6750 - accuracy: 0.7330 - val_loss: 0.7849 - val_accuracy: 0.7017 - lr: 0.0010\n",
      "Epoch 7/500\n",
      "80/80 [==============================] - 0s 2ms/step - loss: 0.6692 - accuracy: 0.7330 - val_loss: 0.7824 - val_accuracy: 0.6957 - lr: 0.0010\n",
      "Epoch 8/500\n",
      "80/80 [==============================] - 0s 2ms/step - loss: 0.6589 - accuracy: 0.7374 - val_loss: 0.7871 - val_accuracy: 0.7002 - lr: 0.0010\n",
      "Epoch 9/500\n",
      "80/80 [==============================] - 0s 2ms/step - loss: 0.6504 - accuracy: 0.7391 - val_loss: 0.7823 - val_accuracy: 0.6912 - lr: 0.0010\n",
      "Epoch 10/500\n",
      "80/80 [==============================] - 0s 2ms/step - loss: 0.6455 - accuracy: 0.7401 - val_loss: 0.7902 - val_accuracy: 0.6957 - lr: 0.0010\n",
      "Epoch 11/500\n",
      "80/80 [==============================] - 0s 2ms/step - loss: 0.6362 - accuracy: 0.7432 - val_loss: 0.7915 - val_accuracy: 0.7002 - lr: 0.0010\n",
      "Epoch 12/500\n",
      "60/80 [=====================>........] - ETA: 0s - loss: 0.6247 - accuracy: 0.7497\n",
      "Epoch 12: ReduceLROnPlateau reducing learning rate to 0.0005000000237487257.\n",
      "80/80 [==============================] - 0s 2ms/step - loss: 0.6295 - accuracy: 0.7462 - val_loss: 0.8043 - val_accuracy: 0.6950 - lr: 0.0010\n",
      "Epoch 13/500\n",
      "80/80 [==============================] - 0s 2ms/step - loss: 0.6047 - accuracy: 0.7588 - val_loss: 0.7938 - val_accuracy: 0.6980 - lr: 5.0000e-04\n",
      "Epoch 14/500\n",
      "80/80 [==============================] - 0s 2ms/step - loss: 0.6003 - accuracy: 0.7623 - val_loss: 0.7953 - val_accuracy: 0.6965 - lr: 5.0000e-04\n",
      "Epoch 15/500\n",
      "80/80 [==============================] - 0s 2ms/step - loss: 0.5951 - accuracy: 0.7643 - val_loss: 0.8002 - val_accuracy: 0.7085 - lr: 5.0000e-04\n",
      "Epoch 16/500\n",
      "80/80 [==============================] - 0s 2ms/step - loss: 0.5897 - accuracy: 0.7654 - val_loss: 0.7988 - val_accuracy: 0.6942 - lr: 5.0000e-04\n",
      "Epoch 17/500\n",
      "80/80 [==============================] - 0s 2ms/step - loss: 0.5842 - accuracy: 0.7706 - val_loss: 0.8037 - val_accuracy: 0.7047 - lr: 5.0000e-04\n",
      "Epoch 18/500\n",
      "80/80 [==============================] - 0s 3ms/step - loss: 0.5792 - accuracy: 0.7698 - val_loss: 0.8057 - val_accuracy: 0.6957 - lr: 5.0000e-04\n",
      "Epoch 19/500\n",
      "80/80 [==============================] - 0s 2ms/step - loss: 0.5731 - accuracy: 0.7729 - val_loss: 0.8070 - val_accuracy: 0.6980 - lr: 5.0000e-04\n",
      "Epoch 20/500\n",
      "80/80 [==============================] - 0s 2ms/step - loss: 0.5659 - accuracy: 0.7765 - val_loss: 0.8101 - val_accuracy: 0.7040 - lr: 5.0000e-04\n",
      "Epoch 21/500\n",
      "80/80 [==============================] - 0s 2ms/step - loss: 0.5611 - accuracy: 0.7773 - val_loss: 0.8096 - val_accuracy: 0.7055 - lr: 5.0000e-04\n",
      "Epoch 22/500\n",
      "80/80 [==============================] - 0s 2ms/step - loss: 0.5543 - accuracy: 0.7822 - val_loss: 0.8105 - val_accuracy: 0.7055 - lr: 5.0000e-04\n",
      "Epoch 23/500\n",
      "80/80 [==============================] - 0s 2ms/step - loss: 0.5485 - accuracy: 0.7866 - val_loss: 0.8190 - val_accuracy: 0.6965 - lr: 5.0000e-04\n",
      "Epoch 24/500\n",
      "80/80 [==============================] - 0s 2ms/step - loss: 0.5421 - accuracy: 0.7873 - val_loss: 0.8129 - val_accuracy: 0.6980 - lr: 5.0000e-04\n",
      "Epoch 25/500\n",
      "80/80 [==============================] - 0s 2ms/step - loss: 0.5345 - accuracy: 0.7913 - val_loss: 0.8236 - val_accuracy: 0.6972 - lr: 5.0000e-04\n",
      "Epoch 26/500\n",
      "80/80 [==============================] - 0s 2ms/step - loss: 0.5281 - accuracy: 0.7949 - val_loss: 0.8300 - val_accuracy: 0.6935 - lr: 5.0000e-04\n",
      "Epoch 27/500\n",
      "80/80 [==============================] - 0s 2ms/step - loss: 0.5197 - accuracy: 0.7997 - val_loss: 0.8261 - val_accuracy: 0.6987 - lr: 5.0000e-04\n",
      "Epoch 28/500\n",
      "80/80 [==============================] - 0s 2ms/step - loss: 0.5122 - accuracy: 0.8033 - val_loss: 0.8345 - val_accuracy: 0.6995 - lr: 5.0000e-04\n",
      "Epoch 29/500\n",
      "80/80 [==============================] - 0s 2ms/step - loss: 0.5078 - accuracy: 0.8053 - val_loss: 0.8450 - val_accuracy: 0.6957 - lr: 5.0000e-04\n",
      "Epoch 30/500\n",
      "80/80 [==============================] - 0s 2ms/step - loss: 0.4990 - accuracy: 0.8081 - val_loss: 0.8421 - val_accuracy: 0.7017 - lr: 5.0000e-04\n",
      "Epoch 31/500\n",
      "62/80 [======================>.......] - ETA: 0s - loss: 0.4860 - accuracy: 0.8142\n",
      "Epoch 31: ReduceLROnPlateau reducing learning rate to 0.0002500000118743628.\n",
      "80/80 [==============================] - 0s 2ms/step - loss: 0.4905 - accuracy: 0.8117 - val_loss: 0.8442 - val_accuracy: 0.6942 - lr: 5.0000e-04\n",
      "Epoch 32/500\n",
      "80/80 [==============================] - 0s 2ms/step - loss: 0.4752 - accuracy: 0.8185 - val_loss: 0.8490 - val_accuracy: 0.6942 - lr: 2.5000e-04\n",
      "Epoch 33/500\n",
      "80/80 [==============================] - 0s 2ms/step - loss: 0.4716 - accuracy: 0.8220 - val_loss: 0.8560 - val_accuracy: 0.6987 - lr: 2.5000e-04\n",
      "Epoch 34/500\n",
      "80/80 [==============================] - 0s 2ms/step - loss: 0.4673 - accuracy: 0.8248 - val_loss: 0.8559 - val_accuracy: 0.6987 - lr: 2.5000e-04\n",
      "Epoch 35/500\n",
      "80/80 [==============================] - 0s 2ms/step - loss: 0.4633 - accuracy: 0.8246 - val_loss: 0.8538 - val_accuracy: 0.6935 - lr: 2.5000e-04\n",
      "Epoch 36/500\n",
      "80/80 [==============================] - 0s 2ms/step - loss: 0.4593 - accuracy: 0.8264 - val_loss: 0.8634 - val_accuracy: 0.6927 - lr: 2.5000e-04\n",
      "Epoch 37/500\n",
      "80/80 [==============================] - 0s 2ms/step - loss: 0.4555 - accuracy: 0.8293 - val_loss: 0.8604 - val_accuracy: 0.6972 - lr: 2.5000e-04\n",
      "Epoch 38/500\n",
      "80/80 [==============================] - 0s 2ms/step - loss: 0.4514 - accuracy: 0.8308 - val_loss: 0.8674 - val_accuracy: 0.6875 - lr: 2.5000e-04\n",
      "Epoch 39/500\n",
      "80/80 [==============================] - 0s 2ms/step - loss: 0.4478 - accuracy: 0.8336 - val_loss: 0.8738 - val_accuracy: 0.6972 - lr: 2.5000e-04\n",
      "Epoch 40/500\n",
      "80/80 [==============================] - 0s 2ms/step - loss: 0.4432 - accuracy: 0.8338 - val_loss: 0.8745 - val_accuracy: 0.6950 - lr: 2.5000e-04\n",
      "Epoch 41/500\n",
      "80/80 [==============================] - 0s 2ms/step - loss: 0.4394 - accuracy: 0.8372 - val_loss: 0.8786 - val_accuracy: 0.6980 - lr: 2.5000e-04\n",
      "Epoch 42/500\n",
      "80/80 [==============================] - 0s 2ms/step - loss: 0.4354 - accuracy: 0.8377 - val_loss: 0.8741 - val_accuracy: 0.6927 - lr: 2.5000e-04\n",
      "Epoch 43/500\n",
      "80/80 [==============================] - 0s 2ms/step - loss: 0.4310 - accuracy: 0.8390 - val_loss: 0.8783 - val_accuracy: 0.6957 - lr: 2.5000e-04\n",
      "Epoch 44/500\n",
      "80/80 [==============================] - 0s 2ms/step - loss: 0.4268 - accuracy: 0.8435 - val_loss: 0.8833 - val_accuracy: 0.6995 - lr: 2.5000e-04\n",
      "Epoch 45/500\n",
      "78/80 [============================>.] - ETA: 0s - loss: 0.4248 - accuracy: 0.8438Restoring model weights from the end of the best epoch: 15.\n",
      "80/80 [==============================] - 0s 2ms/step - loss: 0.4240 - accuracy: 0.8438 - val_loss: 0.8841 - val_accuracy: 0.6980 - lr: 2.5000e-04\n",
      "Epoch 45: early stopping\n"
     ]
    }
   ],
   "source": [
    "model.compile(loss = \"sparse_categorical_crossentropy\",\n",
    "              optimizer = \"adam\",\n",
    "              metrics = [\"accuracy\"])\n",
    "model_history = model.fit(X_train,y_train,epochs=500,batch_size=150,validation_split=0.1, callbacks = [reducelr, earlystop])"
   ]
  },
  {
   "cell_type": "code",
   "execution_count": 55,
   "id": "455113e4",
   "metadata": {},
   "outputs": [
    {
     "data": {
      "image/png": "[encoded data removed]",
      "text/plain": [
       "<Figure size 640x480 with 1 Axes>"
      ]
     },
     "metadata": {},
     "output_type": "display_data"
    }
   ],
   "source": [
    "import matplotlib.pyplot as plt\n",
    "\n",
    "train_acc = model_history.history['accuracy']\n",
    "val_acc = model_history.history['val_accuracy']\n",
    "\n",
    "plt.xlabel('Epochs')\n",
    "plt.ylabel('Accuracy')\n",
    "\n",
    "plt.plot(np.arange(1 , max(model_history.epoch)+2, 1),\n",
    "         model_history.history['accuracy'],\n",
    "         label = 'Training Accuracy',\n",
    "         color = 'blue')\n",
    "\n",
    "plt.plot(np.arange(1 , max(model_history.epoch)+2, 1),\n",
    "         model_history.history['val_accuracy'], \n",
    "         label = 'Validation Accuracy',\n",
    "         color = 'red')\n",
    "\n",
    "plt.legend()\n",
    "plt.show()"
   ]
  },
  {
   "cell_type": "markdown",
   "id": "fa47bf96",
   "metadata": {},
   "source": [
    "Estimation de la performance du reseau de neurone"
   ]
  },
  {
   "cell_type": "code",
   "execution_count": 66,
   "id": "6f8b029b",
   "metadata": {},
   "outputs": [
    {
     "name": "stdout",
     "output_type": "stream",
     "text": [
      "104/104 [==============================] - 0s 842us/step\n"
     ]
    }
   ],
   "source": [
    "test_pred = model.predict(X_test)\n",
    "\n",
    "y_test_class = y_test\n",
    "y_pred_class = np.argmax(test_pred,axis=1)\n"
   ]
  },
  {
   "cell_type": "code",
   "execution_count": 67,
   "id": "a21377c7",
   "metadata": {
    "scrolled": true
   },
   "outputs": [
    {
     "name": "stdout",
     "output_type": "stream",
     "text": [
      "              precision    recall  f1-score   support\n",
      "\n",
      "           0       0.82      0.89      0.85       964\n",
      "           1       0.27      0.15      0.19       248\n",
      "           2       0.31      0.23      0.27       316\n",
      "           3       0.47      0.44      0.45       628\n",
      "           4       0.78      0.89      0.83      1171\n",
      "\n",
      "    accuracy                           0.69      3327\n",
      "   macro avg       0.53      0.52      0.52      3327\n",
      "weighted avg       0.65      0.69      0.66      3327\n",
      "\n",
      "[[ 854   35   34   33    8]\n",
      " [ 101   36   50   52    9]\n",
      " [  40   39   74  133   30]\n",
      " [  26   20   67  274  241]\n",
      " [  24    4   13   88 1042]]\n"
     ]
    }
   ],
   "source": [
    "from sklearn.metrics import classification_report,confusion_matrix\n",
    "print(classification_report(y_test_class,y_pred_class))\n",
    "print(confusion_matrix(y_test_class,y_pred_class)) "
   ]
  }
 ],
 "metadata": {
  "kernelspec": {
   "display_name": "Python 3 (ipykernel)",
   "language": "python",
   "name": "python3"
  },
  "language_info": {
   "codemirror_mode": {
    "name": "ipython",
    "version": 3
   },
   "file_extension": ".py",
   "mimetype": "text/x-python",
   "name": "python",
   "nbconvert_exporter": "python",
   "pygments_lexer": "ipython3",
   "version": "3.9.13"
  }
 },
 "nbformat": 4,
 "nbformat_minor": 5
}
