{
 "cells": [
  {
   "cell_type": "code",
   "execution_count": 1,
   "id": "407a6f3c",
   "metadata": {},
   "outputs": [],
   "source": [
    "import warnings\n",
    "warnings.filterwarnings('ignore')\n",
    "import time\n"
   ]
  },
  {
   "cell_type": "markdown",
   "id": "7823a2aa",
   "metadata": {},
   "source": [
    "- Importation des modules\n",
    "- Chargement du fichier de données et retraitement du fichier de données\n",
    "- Transformation du DataFrame des MetaDonnée en Matrice"
   ]
  },
  {
   "cell_type": "code",
   "execution_count": 2,
   "id": "8d86a19b",
   "metadata": {},
   "outputs": [],
   "source": [
    "import pandas as pd\n",
    "import numpy as np\n",
    "from sklearn.feature_extraction.text import CountVectorizer, TfidfVectorizer\n",
    "from sklearn.model_selection import train_test_split, GridSearchCV,cross_val_score\n",
    "from sklearn.ensemble import GradientBoostingClassifier,RandomForestClassifier\n",
    "from sklearn.svm import SVC\n",
    "from numba import jit\n",
    "\n",
    "df = pd.read_csv(\"Data_Satisfaction_retraitement2.csv\")\n",
    "\n",
    "df = df.drop(\"Unnamed: 0\",axis=1)\n",
    "df = df.dropna(axis = 0, how = \"all\", subset =[\"Commentaires_reduit\"])\n",
    "\n",
    "y = df[\"star\"]\n",
    "Meta_Matrix = df.drop([\"star\",\"Commentaires_reduit\"], axis =1).to_numpy()"
   ]
  },
  {
   "cell_type": "markdown",
   "id": "a2fc5c05",
   "metadata": {},
   "source": [
    "- Vectorization des commentaires selon la méthode TFIDF\n",
    "- Concatenation de la Matrice des Commentaires Vectorisé et de la Matrice des méta données\n",
    "- Séparation des données en ensemble de test et d'entrainement"
   ]
  },
  {
   "cell_type": "code",
   "execution_count": 3,
   "id": "1d4ec732",
   "metadata": {},
   "outputs": [],
   "source": [
    "vectorizer = TfidfVectorizer(min_df = 300)\n",
    "Com_Matrix = vectorizer.fit_transform(df[\"Commentaires_reduit\"]).todense()\n",
    "X = np.concatenate([Com_Matrix,Meta_Matrix],axis=1)\n",
    "X_train,X_test, y_train, y_test = train_test_split(X,y, test_size = 0.2, random_state = 100)"
   ]
  },
  {
   "cell_type": "markdown",
   "id": "e1dc6748",
   "metadata": {},
   "source": [
    "Application Algorithme de GridSearch sur les modeles : GradientBoosting, RandomForest, et SVC"
   ]
  },
  {
   "cell_type": "code",
   "execution_count": 4,
   "id": "e71e8bb6",
   "metadata": {},
   "outputs": [],
   "source": [
    "@jit\n",
    "def modelisation(X_train,X_test):\n",
    "    gb = GradientBoostingClassifier()\n",
    "    rf = RandomForestClassifier()\n",
    "    svc = SVC()\n",
    "\n",
    "    param_grid_gb = {\"n_estimators\":[100,150,200], \"learning_rate\":[0.5,1.0,1.5], \"max_depth\": [1,2,3],\"random_state\" : [100] }\n",
    "    param_grid_svc = {'C':[0.1,1,10,30],\"kernel\" :[\"linear\", \"poly\", \"rbf\", \"sigmoid\"],\"random_state\" : [100] }\n",
    "    param_grid_rf = {'max_features': [\"sqrt\", \"log2\", None ],\"random_state\" : [100] }\n",
    "\n",
    "    gridcvs = {}\n",
    "    for pgrid, clf, name in zip((param_grid_gb, param_grid_rf, param_grid_svc),\n",
    "                                (gb, rf, svc),\n",
    "                                ('GB', 'RF', 'SVM')):\n",
    "        gcv = GridSearchCV(clf, pgrid, cv=5, n_jobs = -1, refit=True).fit(X_train,y_train)\n",
    "        gridcvs[name] = gcv\n",
    "    return gridcvs \n"
   ]
  },
  {
   "cell_type": "code",
   "execution_count": 6,
   "id": "6f21b989",
   "metadata": {},
   "outputs": [
    {
     "name": "stdout",
     "output_type": "stream",
     "text": [
      "duration= 2573.9773240089417\n"
     ]
    }
   ],
   "source": [
    "start = time.time()\n",
    "my_grid = modelisation(X_train,X_test)\n",
    "end = time.time()\n",
    "print(\"duration=\", end - start)"
   ]
  },
  {
   "cell_type": "markdown",
   "id": "477e32f3",
   "metadata": {},
   "source": [
    "Affichage des meilleurs parametres ainsi que des meilleurs score de précisions par models"
   ]
  },
  {
   "cell_type": "code",
   "execution_count": 7,
   "id": "ae763663",
   "metadata": {},
   "outputs": [
    {
     "name": "stdout",
     "output_type": "stream",
     "text": [
      "{'learning_rate': 0.5, 'max_depth': 1, 'n_estimators': 200, 'random_state': 100}\n",
      "{'max_features': 'log2', 'random_state': 100}\n",
      "{'C': 1, 'kernel': 'poly', 'random_state': 100}\n"
     ]
    }
   ],
   "source": [
    "print(my_grid[\"GB\"].best_params_)\n",
    "print(my_grid[\"RF\"].best_params_)\n",
    "print(my_grid[\"SVM\"].best_params_)"
   ]
  },
  {
   "cell_type": "code",
   "execution_count": 8,
   "id": "093f9cd2",
   "metadata": {},
   "outputs": [
    {
     "name": "stdout",
     "output_type": "stream",
     "text": [
      "0.7015631074786739\n",
      "0.6931464335416742\n",
      "0.6978051782276256\n"
     ]
    }
   ],
   "source": [
    "print(my_grid[\"GB\"].best_score_)\n",
    "print(my_grid[\"RF\"].best_score_)\n",
    "print(my_grid[\"SVM\"].best_score_)"
   ]
  },
  {
   "cell_type": "markdown",
   "id": "67539d10",
   "metadata": {},
   "source": [
    "Application du model ayant eu la meilleur précision sur les données d'entrainement au set de test."
   ]
  },
  {
   "cell_type": "code",
   "execution_count": 19,
   "id": "a56fbcd4",
   "metadata": {},
   "outputs": [
    {
     "data": {
      "text/plain": [
       "0.6976254884280132"
      ]
     },
     "execution_count": 19,
     "metadata": {},
     "output_type": "execute_result"
    }
   ],
   "source": [
    "clf = GradientBoostingClassifier(n_estimators=200, learning_rate=0.5, max_depth=1, random_state=0).fit(X_train, y_train)\n",
    "clf.score(X_test,y_test)"
   ]
  },
  {
   "cell_type": "markdown",
   "id": "3eecbbdd",
   "metadata": {},
   "source": [
    "Création d'un réseau de neurone"
   ]
  },
  {
   "cell_type": "code",
   "execution_count": 4,
   "id": "2c205a2b",
   "metadata": {},
   "outputs": [],
   "source": [
    "from tensorflow.keras.layers import Input, Dense \n",
    "from tensorflow.keras.models import Model"
   ]
  },
  {
   "cell_type": "code",
   "execution_count": 5,
   "id": "53dcf8c6",
   "metadata": {},
   "outputs": [],
   "source": [
    "y = y.replace(to_replace = [1,2,3,4,5], value = [0,1,2,3,4])\n",
    "X_train,X_test, y_train, y_test = train_test_split(X,y, test_size = 0.2, random_state = 100)"
   ]
  },
  {
   "cell_type": "code",
   "execution_count": 7,
   "id": "3a7d9733",
   "metadata": {},
   "outputs": [
    {
     "name": "stdout",
     "output_type": "stream",
     "text": [
      "Model: \"model_1\"\n",
      "_________________________________________________________________\n",
      " Layer (type)                Output Shape              Param #   \n",
      "=================================================================\n",
      " Input (InputLayer)          [(None, 195)]             0         \n",
      "                                                                 \n",
      " Dense_1 (Dense)             (None, 130)               25480     \n",
      "                                                                 \n",
      " Dense_2 (Dense)             (None, 65)                8515      \n",
      "                                                                 \n",
      " Dense_3 (Dense)             (None, 5)                 330       \n",
      "                                                                 \n",
      "=================================================================\n",
      "Total params: 34,325\n",
      "Trainable params: 34,325\n",
      "Non-trainable params: 0\n",
      "_________________________________________________________________\n"
     ]
    }
   ],
   "source": [
    "X_train_dim = X_train.shape[1]\n",
    "\n",
    "\n",
    "inputs = Input(shape = X_train_dim, name = \"Input\")\n",
    "couche={}\n",
    "n = 3\n",
    "for i in range(1,n+1):\n",
    "    if i !=n:\n",
    "        couche[i] = Dense(units = X_train_dim-i*(X_train_dim//n), activation = \"tanh\", name = \"Dense_\"+str(i))\n",
    "    else:\n",
    "        couche[i] = Dense(units = 5, activation = \"softmax\", name = \"Dense_\"+str(i))\n",
    "\n",
    "x=couche[1](inputs)\n",
    "for i in range(2,n):   \n",
    "    x=couche[i](x)\n",
    "outputs=couche[n](x)\n",
    "\n",
    "    \n",
    "\n",
    "model = Model(inputs = inputs, outputs = outputs)\n",
    "model.summary()"
   ]
  },
  {
   "cell_type": "code",
   "execution_count": 8,
   "id": "9724dfb0",
   "metadata": {},
   "outputs": [],
   "source": [
    "from tensorflow.keras.callbacks import ReduceLROnPlateau\n",
    "reducelr = ReduceLROnPlateau(monitor = 'val_accuracy',\n",
    "                        min_delta = 0.001,\n",
    "                        patience = 10,\n",
    "                        factor = 0.5, \n",
    "                        cooldown = 10,\n",
    "                        verbose = 1)\n",
    "\n",
    "\n",
    "from tensorflow.keras.callbacks import EarlyStopping \n",
    "earlystop = EarlyStopping(monitor = 'val_accuracy',\n",
    "                    min_delta = 0.0001,\n",
    "                    patience = 30,\n",
    "                    verbose = 1,\n",
    "                    restore_best_weights = True)"
   ]
  },
  {
   "cell_type": "code",
   "execution_count": 9,
   "id": "d926c749",
   "metadata": {},
   "outputs": [
    {
     "name": "stdout",
     "output_type": "stream",
     "text": [
      "Epoch 1/500\n",
      "80/80 [==============================] - 1s 3ms/step - loss: 0.9984 - accuracy: 0.6272 - val_loss: 0.8120 - val_accuracy: 0.6777 - lr: 0.0010\n",
      "Epoch 2/500\n",
      "80/80 [==============================] - 0s 2ms/step - loss: 0.7767 - accuracy: 0.6995 - val_loss: 0.7795 - val_accuracy: 0.6882 - lr: 0.0010\n",
      "Epoch 3/500\n",
      "80/80 [==============================] - 0s 2ms/step - loss: 0.7506 - accuracy: 0.7054 - val_loss: 0.7754 - val_accuracy: 0.6905 - lr: 0.0010\n",
      "Epoch 4/500\n",
      "80/80 [==============================] - 0s 2ms/step - loss: 0.7435 - accuracy: 0.7065 - val_loss: 0.7689 - val_accuracy: 0.6942 - lr: 0.0010\n",
      "Epoch 5/500\n",
      "80/80 [==============================] - 0s 2ms/step - loss: 0.7382 - accuracy: 0.7103 - val_loss: 0.7678 - val_accuracy: 0.6965 - lr: 0.0010\n",
      "Epoch 6/500\n",
      "80/80 [==============================] - 0s 2ms/step - loss: 0.7329 - accuracy: 0.7112 - val_loss: 0.7685 - val_accuracy: 0.7017 - lr: 0.0010\n",
      "Epoch 7/500\n",
      "80/80 [==============================] - 0s 2ms/step - loss: 0.7308 - accuracy: 0.7152 - val_loss: 0.7646 - val_accuracy: 0.6995 - lr: 0.0010\n",
      "Epoch 8/500\n",
      "80/80 [==============================] - 0s 2ms/step - loss: 0.7285 - accuracy: 0.7139 - val_loss: 0.7651 - val_accuracy: 0.6987 - lr: 0.0010\n",
      "Epoch 9/500\n",
      "80/80 [==============================] - 0s 2ms/step - loss: 0.7285 - accuracy: 0.7157 - val_loss: 0.7638 - val_accuracy: 0.6980 - lr: 0.0010\n",
      "Epoch 10/500\n",
      "80/80 [==============================] - 0s 2ms/step - loss: 0.7248 - accuracy: 0.7177 - val_loss: 0.7643 - val_accuracy: 0.7017 - lr: 0.0010\n",
      "Epoch 11/500\n",
      "80/80 [==============================] - 0s 2ms/step - loss: 0.7239 - accuracy: 0.7182 - val_loss: 0.7712 - val_accuracy: 0.7047 - lr: 0.0010\n",
      "Epoch 12/500\n",
      "80/80 [==============================] - 0s 1ms/step - loss: 0.7237 - accuracy: 0.7167 - val_loss: 0.7704 - val_accuracy: 0.7040 - lr: 0.0010\n",
      "Epoch 13/500\n",
      "80/80 [==============================] - 0s 2ms/step - loss: 0.7241 - accuracy: 0.7172 - val_loss: 0.7638 - val_accuracy: 0.7017 - lr: 0.0010\n",
      "Epoch 14/500\n",
      "80/80 [==============================] - 0s 1ms/step - loss: 0.7220 - accuracy: 0.7197 - val_loss: 0.7634 - val_accuracy: 0.6965 - lr: 0.0010\n",
      "Epoch 15/500\n",
      "80/80 [==============================] - 0s 2ms/step - loss: 0.7213 - accuracy: 0.7189 - val_loss: 0.7622 - val_accuracy: 0.6987 - lr: 0.0010\n",
      "Epoch 16/500\n",
      "80/80 [==============================] - 0s 2ms/step - loss: 0.7196 - accuracy: 0.7191 - val_loss: 0.7685 - val_accuracy: 0.7032 - lr: 0.0010\n",
      "Epoch 17/500\n",
      "80/80 [==============================] - 0s 2ms/step - loss: 0.7184 - accuracy: 0.7228 - val_loss: 0.7635 - val_accuracy: 0.7010 - lr: 0.0010\n",
      "Epoch 18/500\n",
      "80/80 [==============================] - 0s 2ms/step - loss: 0.7178 - accuracy: 0.7199 - val_loss: 0.7692 - val_accuracy: 0.6950 - lr: 0.0010\n",
      "Epoch 19/500\n",
      "80/80 [==============================] - 0s 2ms/step - loss: 0.7182 - accuracy: 0.7189 - val_loss: 0.7654 - val_accuracy: 0.6987 - lr: 0.0010\n",
      "Epoch 20/500\n",
      "80/80 [==============================] - 0s 2ms/step - loss: 0.7169 - accuracy: 0.7203 - val_loss: 0.7619 - val_accuracy: 0.6987 - lr: 0.0010\n",
      "Epoch 21/500\n",
      "42/80 [==============>...............] - ETA: 0s - loss: 0.7073 - accuracy: 0.7221\n",
      "Epoch 21: ReduceLROnPlateau reducing learning rate to 0.0005000000237487257.\n",
      "80/80 [==============================] - 0s 2ms/step - loss: 0.7149 - accuracy: 0.7193 - val_loss: 0.7567 - val_accuracy: 0.6995 - lr: 0.0010\n",
      "Epoch 22/500\n",
      "80/80 [==============================] - 0s 2ms/step - loss: 0.7075 - accuracy: 0.7255 - val_loss: 0.7617 - val_accuracy: 0.7077 - lr: 5.0000e-04\n",
      "Epoch 23/500\n",
      "80/80 [==============================] - 0s 2ms/step - loss: 0.7077 - accuracy: 0.7241 - val_loss: 0.7632 - val_accuracy: 0.7062 - lr: 5.0000e-04\n",
      "Epoch 24/500\n",
      "80/80 [==============================] - 0s 2ms/step - loss: 0.7063 - accuracy: 0.7244 - val_loss: 0.7603 - val_accuracy: 0.6935 - lr: 5.0000e-04\n",
      "Epoch 25/500\n",
      "80/80 [==============================] - 0s 2ms/step - loss: 0.7073 - accuracy: 0.7253 - val_loss: 0.7586 - val_accuracy: 0.7032 - lr: 5.0000e-04\n",
      "Epoch 26/500\n",
      "80/80 [==============================] - 0s 2ms/step - loss: 0.7056 - accuracy: 0.7243 - val_loss: 0.7591 - val_accuracy: 0.7025 - lr: 5.0000e-04\n",
      "Epoch 27/500\n",
      "80/80 [==============================] - 0s 2ms/step - loss: 0.7052 - accuracy: 0.7255 - val_loss: 0.7584 - val_accuracy: 0.7002 - lr: 5.0000e-04\n",
      "Epoch 28/500\n",
      "80/80 [==============================] - 0s 2ms/step - loss: 0.7039 - accuracy: 0.7233 - val_loss: 0.7615 - val_accuracy: 0.6957 - lr: 5.0000e-04\n",
      "Epoch 29/500\n",
      "80/80 [==============================] - 0s 2ms/step - loss: 0.7028 - accuracy: 0.7263 - val_loss: 0.7568 - val_accuracy: 0.7010 - lr: 5.0000e-04\n",
      "Epoch 30/500\n",
      "80/80 [==============================] - 0s 2ms/step - loss: 0.7026 - accuracy: 0.7243 - val_loss: 0.7570 - val_accuracy: 0.7002 - lr: 5.0000e-04\n",
      "Epoch 31/500\n",
      "80/80 [==============================] - 0s 2ms/step - loss: 0.7014 - accuracy: 0.7244 - val_loss: 0.7599 - val_accuracy: 0.7017 - lr: 5.0000e-04\n",
      "Epoch 32/500\n",
      "80/80 [==============================] - 0s 2ms/step - loss: 0.7004 - accuracy: 0.7263 - val_loss: 0.7583 - val_accuracy: 0.7070 - lr: 5.0000e-04\n",
      "Epoch 33/500\n",
      "80/80 [==============================] - 0s 2ms/step - loss: 0.6998 - accuracy: 0.7276 - val_loss: 0.7561 - val_accuracy: 0.7017 - lr: 5.0000e-04\n",
      "Epoch 34/500\n",
      "80/80 [==============================] - 0s 2ms/step - loss: 0.6990 - accuracy: 0.7256 - val_loss: 0.7545 - val_accuracy: 0.7017 - lr: 5.0000e-04\n",
      "Epoch 35/500\n",
      "80/80 [==============================] - 0s 2ms/step - loss: 0.6982 - accuracy: 0.7262 - val_loss: 0.7601 - val_accuracy: 0.7010 - lr: 5.0000e-04\n",
      "Epoch 36/500\n",
      "80/80 [==============================] - 0s 2ms/step - loss: 0.6976 - accuracy: 0.7256 - val_loss: 0.7542 - val_accuracy: 0.7055 - lr: 5.0000e-04\n",
      "Epoch 37/500\n",
      "80/80 [==============================] - 0s 2ms/step - loss: 0.6957 - accuracy: 0.7260 - val_loss: 0.7517 - val_accuracy: 0.7047 - lr: 5.0000e-04\n",
      "Epoch 38/500\n",
      "80/80 [==============================] - 0s 2ms/step - loss: 0.6950 - accuracy: 0.7277 - val_loss: 0.7543 - val_accuracy: 0.7025 - lr: 5.0000e-04\n",
      "Epoch 39/500\n",
      "80/80 [==============================] - 0s 2ms/step - loss: 0.6937 - accuracy: 0.7298 - val_loss: 0.7544 - val_accuracy: 0.7062 - lr: 5.0000e-04\n",
      "Epoch 40/500\n",
      "43/80 [===============>..............] - ETA: 0s - loss: 0.6805 - accuracy: 0.7341\n",
      "Epoch 40: ReduceLROnPlateau reducing learning rate to 0.0002500000118743628.\n",
      "80/80 [==============================] - 0s 2ms/step - loss: 0.6919 - accuracy: 0.7308 - val_loss: 0.7546 - val_accuracy: 0.7025 - lr: 5.0000e-04\n",
      "Epoch 41/500\n",
      "80/80 [==============================] - 0s 2ms/step - loss: 0.6883 - accuracy: 0.7309 - val_loss: 0.7513 - val_accuracy: 0.7032 - lr: 2.5000e-04\n",
      "Epoch 42/500\n",
      "80/80 [==============================] - 0s 2ms/step - loss: 0.6876 - accuracy: 0.7317 - val_loss: 0.7507 - val_accuracy: 0.7070 - lr: 2.5000e-04\n",
      "Epoch 43/500\n",
      "80/80 [==============================] - 0s 2ms/step - loss: 0.6866 - accuracy: 0.7319 - val_loss: 0.7526 - val_accuracy: 0.7077 - lr: 2.5000e-04\n",
      "Epoch 44/500\n",
      "80/80 [==============================] - 0s 2ms/step - loss: 0.6856 - accuracy: 0.7309 - val_loss: 0.7522 - val_accuracy: 0.7085 - lr: 2.5000e-04\n",
      "Epoch 45/500\n",
      "80/80 [==============================] - 0s 2ms/step - loss: 0.6850 - accuracy: 0.7326 - val_loss: 0.7511 - val_accuracy: 0.7025 - lr: 2.5000e-04\n",
      "Epoch 46/500\n",
      "80/80 [==============================] - 0s 2ms/step - loss: 0.6840 - accuracy: 0.7314 - val_loss: 0.7548 - val_accuracy: 0.7092 - lr: 2.5000e-04\n",
      "Epoch 47/500\n",
      "80/80 [==============================] - 0s 2ms/step - loss: 0.6838 - accuracy: 0.7327 - val_loss: 0.7493 - val_accuracy: 0.7025 - lr: 2.5000e-04\n",
      "Epoch 48/500\n",
      "80/80 [==============================] - 0s 2ms/step - loss: 0.6831 - accuracy: 0.7337 - val_loss: 0.7504 - val_accuracy: 0.7040 - lr: 2.5000e-04\n",
      "Epoch 49/500\n",
      "80/80 [==============================] - 0s 2ms/step - loss: 0.6822 - accuracy: 0.7329 - val_loss: 0.7509 - val_accuracy: 0.7047 - lr: 2.5000e-04\n",
      "Epoch 50/500\n",
      "80/80 [==============================] - 0s 2ms/step - loss: 0.6812 - accuracy: 0.7334 - val_loss: 0.7478 - val_accuracy: 0.7010 - lr: 2.5000e-04\n",
      "Epoch 51/500\n"
     ]
    },
    {
     "name": "stdout",
     "output_type": "stream",
     "text": [
      "80/80 [==============================] - 0s 2ms/step - loss: 0.6803 - accuracy: 0.7343 - val_loss: 0.7485 - val_accuracy: 0.7025 - lr: 2.5000e-04\n",
      "Epoch 52/500\n",
      "80/80 [==============================] - 0s 1ms/step - loss: 0.6797 - accuracy: 0.7340 - val_loss: 0.7495 - val_accuracy: 0.7017 - lr: 2.5000e-04\n",
      "Epoch 53/500\n",
      "80/80 [==============================] - 0s 1ms/step - loss: 0.6788 - accuracy: 0.7350 - val_loss: 0.7505 - val_accuracy: 0.7010 - lr: 2.5000e-04\n",
      "Epoch 54/500\n",
      "80/80 [==============================] - 0s 1ms/step - loss: 0.6779 - accuracy: 0.7345 - val_loss: 0.7500 - val_accuracy: 0.7047 - lr: 2.5000e-04\n",
      "Epoch 55/500\n",
      "80/80 [==============================] - 0s 1ms/step - loss: 0.6773 - accuracy: 0.7348 - val_loss: 0.7474 - val_accuracy: 0.7040 - lr: 2.5000e-04\n",
      "Epoch 56/500\n",
      "80/80 [==============================] - 0s 1ms/step - loss: 0.6762 - accuracy: 0.7365 - val_loss: 0.7485 - val_accuracy: 0.7032 - lr: 2.5000e-04\n",
      "Epoch 57/500\n",
      "80/80 [==============================] - 0s 1ms/step - loss: 0.6751 - accuracy: 0.7350 - val_loss: 0.7486 - val_accuracy: 0.7017 - lr: 2.5000e-04\n",
      "Epoch 58/500\n",
      "80/80 [==============================] - 0s 2ms/step - loss: 0.6748 - accuracy: 0.7367 - val_loss: 0.7475 - val_accuracy: 0.7010 - lr: 2.5000e-04\n",
      "Epoch 59/500\n",
      "42/80 [==============>...............] - ETA: 0s - loss: 0.6642 - accuracy: 0.7446\n",
      "Epoch 59: ReduceLROnPlateau reducing learning rate to 0.0001250000059371814.\n",
      "80/80 [==============================] - 0s 2ms/step - loss: 0.6745 - accuracy: 0.7359 - val_loss: 0.7464 - val_accuracy: 0.6987 - lr: 2.5000e-04\n",
      "Epoch 60/500\n",
      "80/80 [==============================] - 0s 1ms/step - loss: 0.6712 - accuracy: 0.7380 - val_loss: 0.7479 - val_accuracy: 0.7025 - lr: 1.2500e-04\n",
      "Epoch 61/500\n",
      "80/80 [==============================] - 0s 2ms/step - loss: 0.6707 - accuracy: 0.7365 - val_loss: 0.7475 - val_accuracy: 0.7017 - lr: 1.2500e-04\n",
      "Epoch 62/500\n",
      "80/80 [==============================] - 0s 2ms/step - loss: 0.6703 - accuracy: 0.7370 - val_loss: 0.7463 - val_accuracy: 0.7017 - lr: 1.2500e-04\n",
      "Epoch 63/500\n",
      "80/80 [==============================] - 0s 2ms/step - loss: 0.6700 - accuracy: 0.7386 - val_loss: 0.7474 - val_accuracy: 0.7002 - lr: 1.2500e-04\n",
      "Epoch 64/500\n",
      "80/80 [==============================] - 0s 2ms/step - loss: 0.6696 - accuracy: 0.7400 - val_loss: 0.7465 - val_accuracy: 0.7002 - lr: 1.2500e-04\n",
      "Epoch 65/500\n",
      "80/80 [==============================] - 0s 2ms/step - loss: 0.6690 - accuracy: 0.7383 - val_loss: 0.7465 - val_accuracy: 0.7017 - lr: 1.2500e-04\n",
      "Epoch 66/500\n",
      "80/80 [==============================] - 0s 2ms/step - loss: 0.6686 - accuracy: 0.7391 - val_loss: 0.7462 - val_accuracy: 0.7040 - lr: 1.2500e-04\n",
      "Epoch 67/500\n",
      "80/80 [==============================] - 0s 2ms/step - loss: 0.6684 - accuracy: 0.7380 - val_loss: 0.7468 - val_accuracy: 0.7025 - lr: 1.2500e-04\n",
      "Epoch 68/500\n",
      "80/80 [==============================] - 0s 2ms/step - loss: 0.6680 - accuracy: 0.7379 - val_loss: 0.7479 - val_accuracy: 0.7002 - lr: 1.2500e-04\n",
      "Epoch 69/500\n",
      "80/80 [==============================] - 0s 2ms/step - loss: 0.6673 - accuracy: 0.7380 - val_loss: 0.7491 - val_accuracy: 0.7017 - lr: 1.2500e-04\n",
      "Epoch 70/500\n",
      "80/80 [==============================] - 0s 2ms/step - loss: 0.6669 - accuracy: 0.7400 - val_loss: 0.7475 - val_accuracy: 0.7010 - lr: 1.2500e-04\n",
      "Epoch 71/500\n",
      "80/80 [==============================] - 0s 2ms/step - loss: 0.6665 - accuracy: 0.7390 - val_loss: 0.7474 - val_accuracy: 0.7017 - lr: 1.2500e-04\n",
      "Epoch 72/500\n",
      "80/80 [==============================] - 0s 2ms/step - loss: 0.6659 - accuracy: 0.7394 - val_loss: 0.7458 - val_accuracy: 0.7017 - lr: 1.2500e-04\n",
      "Epoch 73/500\n",
      "80/80 [==============================] - 0s 2ms/step - loss: 0.6656 - accuracy: 0.7399 - val_loss: 0.7497 - val_accuracy: 0.7032 - lr: 1.2500e-04\n",
      "Epoch 74/500\n",
      "80/80 [==============================] - 0s 1ms/step - loss: 0.6652 - accuracy: 0.7384 - val_loss: 0.7471 - val_accuracy: 0.7010 - lr: 1.2500e-04\n",
      "Epoch 75/500\n",
      "80/80 [==============================] - 0s 2ms/step - loss: 0.6654 - accuracy: 0.7399 - val_loss: 0.7486 - val_accuracy: 0.7002 - lr: 1.2500e-04\n",
      "Epoch 76/500\n",
      "43/80 [===============>..............] - ETA: 0s - loss: 0.6779 - accuracy: 0.7347Restoring model weights from the end of the best epoch: 46.\n",
      "80/80 [==============================] - 0s 2ms/step - loss: 0.6642 - accuracy: 0.7395 - val_loss: 0.7459 - val_accuracy: 0.7017 - lr: 1.2500e-04\n",
      "Epoch 76: early stopping\n"
     ]
    }
   ],
   "source": [
    "model.compile(loss = \"sparse_categorical_crossentropy\",\n",
    "              optimizer = \"adam\",\n",
    "              metrics = [\"accuracy\"])\n",
    "model_history = model.fit(X_train,y_train,epochs=500,batch_size=150,validation_split=0.1, callbacks = [reducelr, earlystop])"
   ]
  },
  {
   "cell_type": "code",
   "execution_count": 10,
   "id": "d6c37230",
   "metadata": {},
   "outputs": [
    {
     "data": {
      "image/png": "[encoded data removed]",
      "text/plain": [
       "<Figure size 640x480 with 1 Axes>"
      ]
     },
     "metadata": {},
     "output_type": "display_data"
    }
   ],
   "source": [
    "import matplotlib.pyplot as plt\n",
    "\n",
    "train_acc = model_history.history['accuracy']\n",
    "val_acc = model_history.history['val_accuracy']\n",
    "\n",
    "plt.xlabel('Epochs')\n",
    "plt.ylabel('Accuracy')\n",
    "\n",
    "plt.plot(np.arange(1 , max(model_history.epoch)+2, 1),\n",
    "         model_history.history['accuracy'],\n",
    "         label = 'Training Accuracy',\n",
    "         color = 'blue')\n",
    "\n",
    "plt.plot(np.arange(1 , max(model_history.epoch)+2, 1),\n",
    "         model_history.history['val_accuracy'], \n",
    "         label = 'Validation Accuracy',\n",
    "         color = 'red')\n",
    "\n",
    "plt.legend()\n",
    "plt.show()"
   ]
  },
  {
   "cell_type": "markdown",
   "id": "6fcafca3",
   "metadata": {},
   "source": [
    "Estimation de la performance du reseau de neurone"
   ]
  },
  {
   "cell_type": "code",
   "execution_count": 11,
   "id": "6f8b029b",
   "metadata": {},
   "outputs": [
    {
     "name": "stdout",
     "output_type": "stream",
     "text": [
      "104/104 [==============================] - 0s 620us/step\n"
     ]
    }
   ],
   "source": [
    "test_pred = model.predict(X_test)\n",
    "\n",
    "y_test_class = y_test\n",
    "y_pred_class = np.argmax(test_pred,axis=1)\n"
   ]
  },
  {
   "cell_type": "code",
   "execution_count": 12,
   "id": "a21377c7",
   "metadata": {},
   "outputs": [
    {
     "name": "stdout",
     "output_type": "stream",
     "text": [
      "              precision    recall  f1-score   support\n",
      "\n",
      "           0       0.82      0.90      0.86       964\n",
      "           1       0.22      0.07      0.11       248\n",
      "           2       0.30      0.19      0.23       316\n",
      "           3       0.47      0.57      0.52       628\n",
      "           4       0.81      0.86      0.84      1171\n",
      "\n",
      "    accuracy                           0.69      3327\n",
      "   macro avg       0.53      0.52      0.51      3327\n",
      "weighted avg       0.66      0.69      0.67      3327\n",
      "\n",
      "[[ 866   18   24   37   19]\n",
      " [ 101   18   49   73    7]\n",
      " [  36   36   60  163   21]\n",
      " [  21    9   56  356  186]\n",
      " [  30    1    8  122 1010]]\n"
     ]
    }
   ],
   "source": [
    "from sklearn.metrics import classification_report,confusion_matrix\n",
    "print(classification_report(y_test_class,y_pred_class))\n",
    "print(confusion_matrix(y_test_class,y_pred_class)) "
   ]
  }
 ],
 "metadata": {
  "kernelspec": {
   "display_name": "Python 3 (ipykernel)",
   "language": "python",
   "name": "python3"
  },
  "language_info": {
   "codemirror_mode": {
    "name": "ipython",
    "version": 3
   },
   "file_extension": ".py",
   "mimetype": "text/x-python",
   "name": "python",
   "nbconvert_exporter": "python",
   "pygments_lexer": "ipython3",
   "version": "3.9.13"
  }
 },
 "nbformat": 4,
 "nbformat_minor": 5
}
