{
 "cells": [
  {
   "cell_type": "code",
   "execution_count": 1,
   "id": "407a6f3c",
   "metadata": {},
   "outputs": [],
   "source": [
    "import warnings\n",
    "warnings.filterwarnings('ignore')\n",
    "import time\n"
   ]
  },
  {
   "cell_type": "markdown",
   "id": "36b2fefd",
   "metadata": {},
   "source": [
    "- Importation des modules\n",
    "- Chargement du fichier de données et retraitement du fichier de données\n",
    "- Transformation du DataFrame des MetaDonnée en Matrice"
   ]
  },
  {
   "cell_type": "code",
   "execution_count": 2,
   "id": "8d86a19b",
   "metadata": {},
   "outputs": [],
   "source": [
    "import pandas as pd\n",
    "import numpy as np\n",
    "from sklearn.feature_extraction.text import CountVectorizer, TfidfVectorizer\n",
    "from sklearn.model_selection import train_test_split, GridSearchCV,cross_val_score\n",
    "from sklearn.ensemble import GradientBoostingClassifier,RandomForestClassifier\n",
    "from sklearn.svm import SVC\n",
    "from numba import jit\n",
    "\n",
    "df = pd.read_csv(\"Data_Satisfaction_retraitement2.csv\")\n",
    "\n",
    "df = df.drop(\"Unnamed: 0\",axis=1)\n",
    "df = df.dropna(axis = 0, how = \"all\", subset =[\"Commentaires_reduit\"])\n",
    "\n",
    "y = df[\"star\"]\n",
    "Meta_Matrix = df.drop([\"star\",\"Commentaires_reduit\"], axis =1).to_numpy()"
   ]
  },
  {
   "cell_type": "markdown",
   "id": "f24bee2a",
   "metadata": {},
   "source": [
    "- Vectorization des commentaires selon la méthode CountVectorizer\n",
    "- Concatenation de la Matrice des Commentaires Vectorisé et de la Matrice des méta données\n",
    "- Séparation des données en ensemble de test et d'entrainement"
   ]
  },
  {
   "cell_type": "code",
   "execution_count": 3,
   "id": "1d4ec732",
   "metadata": {},
   "outputs": [],
   "source": [
    "vectorizer = CountVectorizer(min_df = 150)\n",
    "Com_Matrix = vectorizer.fit_transform(df[\"Commentaires_reduit\"]).todense()\n",
    "X = np.concatenate([Com_Matrix,Meta_Matrix],axis=1)\n",
    "X_train,X_test, y_train, y_test = train_test_split(X,y, test_size = 0.2, random_state = 100)"
   ]
  },
  {
   "cell_type": "markdown",
   "id": "1fe52f3b",
   "metadata": {},
   "source": [
    "Application Algorithme de GridSearch sur les modeles : GradientBoosting, RandomForest, et SVC"
   ]
  },
  {
   "cell_type": "code",
   "execution_count": 4,
   "id": "e71e8bb6",
   "metadata": {},
   "outputs": [],
   "source": [
    "@jit\n",
    "def modelisation(X_train,X_test):\n",
    "    gb = GradientBoostingClassifier()\n",
    "    rf = RandomForestClassifier()\n",
    "    svc = SVC()\n",
    "\n",
    "    param_grid_gb = {\"n_estimators\":[100,150,200], \"learning_rate\":[0.5,1.0,1.5], \"max_depth\": [1,2,3],\"random_state\" : [100] }\n",
    "    param_grid_svc = {'C':[0.1,1,10,30],\"kernel\" :[\"linear\", \"poly\", \"rbf\", \"sigmoid\"],\"random_state\" : [100] }\n",
    "    param_grid_rf = {'max_features': [\"sqrt\", \"log2\", None ],\"random_state\" : [100] }\n",
    "\n",
    "    gridcvs = {}\n",
    "    for pgrid, clf, name in zip((param_grid_gb, param_grid_rf, param_grid_svc),\n",
    "                                (gb, rf, svc),\n",
    "                                ('GB', 'RF', 'SVM')):\n",
    "        gcv = GridSearchCV(clf, pgrid, cv=5, n_jobs = -1, refit=True).fit(X_train,y_train)\n",
    "        gridcvs[name] = gcv\n",
    "    return gridcvs \n"
   ]
  },
  {
   "cell_type": "code",
   "execution_count": 5,
   "id": "6f21b989",
   "metadata": {},
   "outputs": [
    {
     "name": "stdout",
     "output_type": "stream",
     "text": [
      "duration= 3433.356805086136\n"
     ]
    }
   ],
   "source": [
    "start = time.time()\n",
    "my_grid = modelisation(X_train,X_test)\n",
    "end = time.time()\n",
    "print(\"duration=\", end - start)"
   ]
  },
  {
   "cell_type": "markdown",
   "id": "1118faae",
   "metadata": {},
   "source": [
    "Affichage des meilleurs parametres ainsi que des meilleurs score de précisions par models"
   ]
  },
  {
   "cell_type": "code",
   "execution_count": 6,
   "id": "ae763663",
   "metadata": {},
   "outputs": [
    {
     "name": "stdout",
     "output_type": "stream",
     "text": [
      "{'learning_rate': 0.5, 'max_depth': 1, 'n_estimators': 200, 'random_state': 100}\n",
      "{'max_features': 'log2', 'random_state': 100}\n",
      "{'C': 0.1, 'kernel': 'linear', 'random_state': 100}\n"
     ]
    }
   ],
   "source": [
    "print(my_grid[\"GB\"].best_params_)\n",
    "print(my_grid[\"RF\"].best_params_)\n",
    "print(my_grid[\"SVM\"].best_params_)"
   ]
  },
  {
   "cell_type": "code",
   "execution_count": 7,
   "id": "093f9cd2",
   "metadata": {},
   "outputs": [
    {
     "name": "stdout",
     "output_type": "stream",
     "text": [
      "0.7047198437174864\n",
      "0.6973550669703548\n",
      "0.6984069641602229\n"
     ]
    }
   ],
   "source": [
    "print(my_grid[\"GB\"].best_score_)\n",
    "print(my_grid[\"RF\"].best_score_)\n",
    "print(my_grid[\"SVM\"].best_score_)"
   ]
  },
  {
   "cell_type": "markdown",
   "id": "aed62a38",
   "metadata": {},
   "source": [
    "Application Algorithme de GridSearch sur le modèle de régression logistique"
   ]
  },
  {
   "cell_type": "code",
   "execution_count": 8,
   "id": "392dfc94",
   "metadata": {},
   "outputs": [
    {
     "name": "stdout",
     "output_type": "stream",
     "text": [
      "{'C': 0.1, 'max_iter': 100, 'random_state': 100}\n",
      "0.7015637286333384\n"
     ]
    }
   ],
   "source": [
    "from sklearn import linear_model \n",
    "from sklearn import model_selection\n",
    "from sklearn.model_selection import train_test_split\n",
    "\n",
    "rl = linear_model.LogisticRegression()\n",
    "param_grid_rl = { 'C':[0.1,1,10,30], 'max_iter' : [100,300,1000], \"random_state\" : [100]}\n",
    "grid_rl = model_selection.GridSearchCV(estimator=rl, param_grid= param_grid_rl )\n",
    "grid_rl.fit(X_train, y_train)\n",
    "\n",
    "print(grid_rl.best_params_)\n",
    "print(grid_rl .best_score_) "
   ]
  },
  {
   "cell_type": "markdown",
   "id": "02e12790",
   "metadata": {},
   "source": [
    "Application du model ayant eu la meilleur précision sur les données d'entrainement au set de test."
   ]
  },
  {
   "cell_type": "code",
   "execution_count": 9,
   "id": "3ccab9c1",
   "metadata": {},
   "outputs": [
    {
     "data": {
      "text/plain": [
       "0.7012323414487527"
      ]
     },
     "execution_count": 9,
     "metadata": {},
     "output_type": "execute_result"
    }
   ],
   "source": [
    "clf = GradientBoostingClassifier(n_estimators=200, learning_rate=0.5, max_depth=1, random_state=0).fit(X_train, y_train)\n",
    "clf.score(X_test,y_test)"
   ]
  },
  {
   "cell_type": "markdown",
   "id": "b7d9c094",
   "metadata": {},
   "source": [
    "Création d'un réseau de neurone"
   ]
  },
  {
   "cell_type": "code",
   "execution_count": 10,
   "id": "2c205a2b",
   "metadata": {},
   "outputs": [],
   "source": [
    "from tensorflow.keras.layers import Input, Dense \n",
    "from tensorflow.keras.models import Model"
   ]
  },
  {
   "cell_type": "code",
   "execution_count": 11,
   "id": "53dcf8c6",
   "metadata": {},
   "outputs": [],
   "source": [
    "y = y.replace(to_replace = [1,2,3,4,5], value = [0,1,2,3,4])\n",
    "X_train,X_test, y_train, y_test = train_test_split(X,y, test_size = 0.2, random_state = 100)"
   ]
  },
  {
   "cell_type": "code",
   "execution_count": 12,
   "id": "3a7d9733",
   "metadata": {},
   "outputs": [
    {
     "name": "stdout",
     "output_type": "stream",
     "text": [
      "Model: \"model\"\n",
      "_________________________________________________________________\n",
      " Layer (type)                Output Shape              Param #   \n",
      "=================================================================\n",
      " Input (InputLayer)          [(None, 393)]             0         \n",
      "                                                                 \n",
      " Dense_1 (Dense)             (None, 262)               103228    \n",
      "                                                                 \n",
      " Dense_2 (Dense)             (None, 131)               34453     \n",
      "                                                                 \n",
      " Dense_3 (Dense)             (None, 5)                 660       \n",
      "                                                                 \n",
      "=================================================================\n",
      "Total params: 138,341\n",
      "Trainable params: 138,341\n",
      "Non-trainable params: 0\n",
      "_________________________________________________________________\n"
     ]
    }
   ],
   "source": [
    "X_train_dim = X_train.shape[1]\n",
    "inputs = Input(shape = X_train_dim, name = \"Input\")\n",
    "couche={}\n",
    "n = 3\n",
    "for i in range(1,n+1):\n",
    "    if i !=n:\n",
    "        couche[i] = Dense(units = X_train_dim-i*(X_train_dim//n), activation = \"tanh\", name = \"Dense_\"+str(i))\n",
    "    else:\n",
    "        couche[i] = Dense(units = 5, activation = \"softmax\", name = \"Dense_\"+str(i))\n",
    "\n",
    "x=couche[1](inputs)\n",
    "for i in range(2,n):   \n",
    "    x=couche[i](x)\n",
    "outputs=couche[n](x)\n",
    "\n",
    "    \n",
    "\n",
    "model = Model(inputs = inputs, outputs = outputs)\n",
    "model.summary()"
   ]
  },
  {
   "cell_type": "code",
   "execution_count": 13,
   "id": "0eba5562",
   "metadata": {},
   "outputs": [],
   "source": [
    "from tensorflow.keras.callbacks import ReduceLROnPlateau\n",
    "reducelr = ReduceLROnPlateau(monitor = 'val_accuracy',\n",
    "                        min_delta = 0.001,\n",
    "                        patience = 10,\n",
    "                        factor = 0.5, \n",
    "                        cooldown = 10,\n",
    "                        verbose = 1)\n",
    "\n",
    "\n",
    "from tensorflow.keras.callbacks import EarlyStopping \n",
    "earlystop = EarlyStopping(monitor = 'val_accuracy',\n",
    "                    min_delta = 0.0001,\n",
    "                    patience = 30,\n",
    "                    verbose = 1,\n",
    "                    restore_best_weights = True)"
   ]
  },
  {
   "cell_type": "code",
   "execution_count": 14,
   "id": "d926c749",
   "metadata": {},
   "outputs": [
    {
     "name": "stdout",
     "output_type": "stream",
     "text": [
      "Epoch 1/500\n",
      "80/80 [==============================] - 1s 5ms/step - loss: 0.8762 - accuracy: 0.6668 - val_loss: 0.7751 - val_accuracy: 0.6890 - lr: 0.0010\n",
      "Epoch 2/500\n",
      "80/80 [==============================] - 0s 2ms/step - loss: 0.7254 - accuracy: 0.7138 - val_loss: 0.7899 - val_accuracy: 0.6875 - lr: 0.0010\n",
      "Epoch 3/500\n",
      "80/80 [==============================] - 0s 2ms/step - loss: 0.7059 - accuracy: 0.7204 - val_loss: 0.7922 - val_accuracy: 0.6777 - lr: 0.0010\n",
      "Epoch 4/500\n",
      "80/80 [==============================] - 0s 2ms/step - loss: 0.6912 - accuracy: 0.7264 - val_loss: 0.7825 - val_accuracy: 0.6965 - lr: 0.0010\n",
      "Epoch 5/500\n",
      "80/80 [==============================] - 0s 2ms/step - loss: 0.6814 - accuracy: 0.7285 - val_loss: 0.7925 - val_accuracy: 0.6920 - lr: 0.0010\n",
      "Epoch 6/500\n",
      "80/80 [==============================] - 0s 2ms/step - loss: 0.6739 - accuracy: 0.7326 - val_loss: 0.7872 - val_accuracy: 0.6897 - lr: 0.0010\n",
      "Epoch 7/500\n",
      "80/80 [==============================] - 0s 2ms/step - loss: 0.6674 - accuracy: 0.7340 - val_loss: 0.7837 - val_accuracy: 0.6912 - lr: 0.0010\n",
      "Epoch 8/500\n",
      "80/80 [==============================] - 0s 2ms/step - loss: 0.6598 - accuracy: 0.7376 - val_loss: 0.7894 - val_accuracy: 0.6950 - lr: 0.0010\n",
      "Epoch 9/500\n",
      "80/80 [==============================] - 0s 2ms/step - loss: 0.6530 - accuracy: 0.7372 - val_loss: 0.7931 - val_accuracy: 0.6942 - lr: 0.0010\n",
      "Epoch 10/500\n",
      "80/80 [==============================] - 0s 2ms/step - loss: 0.6440 - accuracy: 0.7433 - val_loss: 0.7930 - val_accuracy: 0.6987 - lr: 0.0010\n",
      "Epoch 11/500\n",
      "80/80 [==============================] - 0s 2ms/step - loss: 0.6401 - accuracy: 0.7456 - val_loss: 0.7921 - val_accuracy: 0.7062 - lr: 0.0010\n",
      "Epoch 12/500\n",
      "80/80 [==============================] - 0s 2ms/step - loss: 0.6293 - accuracy: 0.7489 - val_loss: 0.7879 - val_accuracy: 0.6950 - lr: 0.0010\n",
      "Epoch 13/500\n",
      "80/80 [==============================] - 0s 2ms/step - loss: 0.6221 - accuracy: 0.7513 - val_loss: 0.7864 - val_accuracy: 0.6897 - lr: 0.0010\n",
      "Epoch 14/500\n",
      "80/80 [==============================] - 0s 2ms/step - loss: 0.6146 - accuracy: 0.7549 - val_loss: 0.8018 - val_accuracy: 0.6987 - lr: 0.0010\n",
      "Epoch 15/500\n",
      "80/80 [==============================] - 0s 2ms/step - loss: 0.6033 - accuracy: 0.7629 - val_loss: 0.8018 - val_accuracy: 0.6912 - lr: 0.0010\n",
      "Epoch 16/500\n",
      "80/80 [==============================] - 0s 2ms/step - loss: 0.5911 - accuracy: 0.7675 - val_loss: 0.8125 - val_accuracy: 0.6927 - lr: 0.0010\n",
      "Epoch 17/500\n",
      "80/80 [==============================] - 0s 2ms/step - loss: 0.5819 - accuracy: 0.7705 - val_loss: 0.8031 - val_accuracy: 0.6920 - lr: 0.0010\n",
      "Epoch 18/500\n",
      "80/80 [==============================] - 0s 2ms/step - loss: 0.5720 - accuracy: 0.7724 - val_loss: 0.8078 - val_accuracy: 0.6942 - lr: 0.0010\n",
      "Epoch 19/500\n",
      "80/80 [==============================] - 0s 2ms/step - loss: 0.5595 - accuracy: 0.7805 - val_loss: 0.8124 - val_accuracy: 0.6972 - lr: 0.0010\n",
      "Epoch 20/500\n",
      "80/80 [==============================] - 0s 2ms/step - loss: 0.5469 - accuracy: 0.7828 - val_loss: 0.8408 - val_accuracy: 0.6905 - lr: 0.0010\n",
      "Epoch 21/500\n",
      "63/80 [======================>.......] - ETA: 0s - loss: 0.5293 - accuracy: 0.7945\n",
      "Epoch 21: ReduceLROnPlateau reducing learning rate to 0.0005000000237487257.\n",
      "80/80 [==============================] - 0s 2ms/step - loss: 0.5335 - accuracy: 0.7918 - val_loss: 0.8262 - val_accuracy: 0.6942 - lr: 0.0010\n",
      "Epoch 22/500\n",
      "80/80 [==============================] - 0s 2ms/step - loss: 0.5075 - accuracy: 0.8028 - val_loss: 0.8302 - val_accuracy: 0.6995 - lr: 5.0000e-04\n",
      "Epoch 23/500\n",
      "80/80 [==============================] - 0s 2ms/step - loss: 0.4977 - accuracy: 0.8083 - val_loss: 0.8275 - val_accuracy: 0.6927 - lr: 5.0000e-04\n",
      "Epoch 24/500\n",
      "80/80 [==============================] - 0s 2ms/step - loss: 0.4904 - accuracy: 0.8103 - val_loss: 0.8324 - val_accuracy: 0.6950 - lr: 5.0000e-04\n",
      "Epoch 25/500\n",
      "80/80 [==============================] - 0s 2ms/step - loss: 0.4842 - accuracy: 0.8131 - val_loss: 0.8453 - val_accuracy: 0.6837 - lr: 5.0000e-04\n",
      "Epoch 26/500\n",
      "80/80 [==============================] - 0s 2ms/step - loss: 0.4781 - accuracy: 0.8177 - val_loss: 0.8442 - val_accuracy: 0.6927 - lr: 5.0000e-04\n",
      "Epoch 27/500\n",
      "80/80 [==============================] - 0s 2ms/step - loss: 0.4697 - accuracy: 0.8220 - val_loss: 0.8608 - val_accuracy: 0.6995 - lr: 5.0000e-04\n",
      "Epoch 28/500\n",
      "80/80 [==============================] - 0s 2ms/step - loss: 0.4612 - accuracy: 0.8248 - val_loss: 0.8464 - val_accuracy: 0.6912 - lr: 5.0000e-04\n",
      "Epoch 29/500\n",
      "80/80 [==============================] - 0s 2ms/step - loss: 0.4535 - accuracy: 0.8313 - val_loss: 0.8481 - val_accuracy: 0.6920 - lr: 5.0000e-04\n",
      "Epoch 30/500\n",
      "80/80 [==============================] - 0s 2ms/step - loss: 0.4464 - accuracy: 0.8333 - val_loss: 0.8705 - val_accuracy: 0.6935 - lr: 5.0000e-04\n",
      "Epoch 31/500\n",
      "80/80 [==============================] - 0s 2ms/step - loss: 0.4387 - accuracy: 0.8352 - val_loss: 0.8725 - val_accuracy: 0.6957 - lr: 5.0000e-04\n",
      "Epoch 32/500\n",
      "80/80 [==============================] - 0s 2ms/step - loss: 0.4300 - accuracy: 0.8409 - val_loss: 0.8700 - val_accuracy: 0.6935 - lr: 5.0000e-04\n",
      "Epoch 33/500\n",
      "80/80 [==============================] - 0s 2ms/step - loss: 0.4232 - accuracy: 0.8418 - val_loss: 0.8775 - val_accuracy: 0.6905 - lr: 5.0000e-04\n",
      "Epoch 34/500\n",
      "80/80 [==============================] - 0s 2ms/step - loss: 0.4166 - accuracy: 0.8453 - val_loss: 0.8831 - val_accuracy: 0.6987 - lr: 5.0000e-04\n",
      "Epoch 35/500\n",
      "80/80 [==============================] - 0s 2ms/step - loss: 0.4073 - accuracy: 0.8514 - val_loss: 0.8936 - val_accuracy: 0.6860 - lr: 5.0000e-04\n",
      "Epoch 36/500\n",
      "80/80 [==============================] - 0s 2ms/step - loss: 0.3991 - accuracy: 0.8536 - val_loss: 0.8933 - val_accuracy: 0.6927 - lr: 5.0000e-04\n",
      "Epoch 37/500\n",
      "80/80 [==============================] - 0s 2ms/step - loss: 0.3920 - accuracy: 0.8566 - val_loss: 0.9001 - val_accuracy: 0.6920 - lr: 5.0000e-04\n",
      "Epoch 38/500\n",
      "80/80 [==============================] - 0s 2ms/step - loss: 0.3847 - accuracy: 0.8609 - val_loss: 0.9035 - val_accuracy: 0.6987 - lr: 5.0000e-04\n",
      "Epoch 39/500\n",
      "80/80 [==============================] - 0s 2ms/step - loss: 0.3754 - accuracy: 0.8666 - val_loss: 0.9157 - val_accuracy: 0.6957 - lr: 5.0000e-04\n",
      "Epoch 40/500\n",
      "64/80 [=======================>......] - ETA: 0s - loss: 0.3687 - accuracy: 0.8689\n",
      "Epoch 40: ReduceLROnPlateau reducing learning rate to 0.0002500000118743628.\n",
      "80/80 [==============================] - 0s 2ms/step - loss: 0.3694 - accuracy: 0.8673 - val_loss: 0.9196 - val_accuracy: 0.6950 - lr: 5.0000e-04\n",
      "Epoch 41/500\n",
      "63/80 [======================>.......] - ETA: 0s - loss: 0.3549 - accuracy: 0.8765Restoring model weights from the end of the best epoch: 11.\n",
      "80/80 [==============================] - 0s 2ms/step - loss: 0.3546 - accuracy: 0.8770 - val_loss: 0.9249 - val_accuracy: 0.6995 - lr: 2.5000e-04\n",
      "Epoch 41: early stopping\n"
     ]
    }
   ],
   "source": [
    "model.compile(loss = \"sparse_categorical_crossentropy\",\n",
    "              optimizer = \"adam\",\n",
    "              metrics = [\"accuracy\"])\n",
    "model_history = model.fit(X_train,y_train,epochs=500,batch_size=150,validation_split=0.1, callbacks = [reducelr, earlystop])"
   ]
  },
  {
   "cell_type": "code",
   "execution_count": 15,
   "id": "455113e4",
   "metadata": {},
   "outputs": [
    {
     "data": {
      "image/png": "[encoded data removed]",
      "text/plain": [
       "<Figure size 432x288 with 1 Axes>"
      ]
     },
     "metadata": {
      "needs_background": "light"
     },
     "output_type": "display_data"
    }
   ],
   "source": [
    "import matplotlib.pyplot as plt\n",
    "\n",
    "train_acc = model_history.history['accuracy']\n",
    "val_acc = model_history.history['val_accuracy']\n",
    "\n",
    "plt.xlabel('Epochs')\n",
    "plt.ylabel('Accuracy')\n",
    "\n",
    "plt.plot(np.arange(1 , max(model_history.epoch)+2, 1),\n",
    "         model_history.history['accuracy'],\n",
    "         label = 'Training Accuracy',\n",
    "         color = 'blue')\n",
    "\n",
    "plt.plot(np.arange(1 , max(model_history.epoch)+2, 1),\n",
    "         model_history.history['val_accuracy'], \n",
    "         label = 'Validation Accuracy',\n",
    "         color = 'red')\n",
    "\n",
    "plt.legend()\n",
    "plt.show()"
   ]
  },
  {
   "cell_type": "code",
   "execution_count": 19,
   "id": "e048f802",
   "metadata": {},
   "outputs": [
    {
     "data": {
      "image/png": "[encoded data removed]",
      "text/plain": [
       "<Figure size 432x288 with 1 Axes>"
      ]
     },
     "metadata": {
      "needs_background": "light"
     },
     "output_type": "display_data"
    }
   ],
   "source": [
    "\n",
    "plt.xlabel('Epochs')\n",
    "plt.ylabel('Loss')\n",
    "\n",
    "plt.plot(np.arange(1 , max(model_history.epoch)+2, 1),\n",
    "         model_history.history['loss'],\n",
    "         label = 'Training Loss',\n",
    "         color = 'blue')\n",
    "\n",
    "plt.plot(np.arange(1 , max(model_history.epoch)+2, 1),\n",
    "         model_history.history['val_loss'], \n",
    "         label = 'Validation Loss',\n",
    "         color = 'red')\n",
    "\n",
    "plt.legend()\n",
    "plt.show()"
   ]
  },
  {
   "cell_type": "markdown",
   "id": "fa47bf96",
   "metadata": {},
   "source": [
    "Estimation de la performance du reseau de neurone"
   ]
  },
  {
   "cell_type": "code",
   "execution_count": 16,
   "id": "6f8b029b",
   "metadata": {},
   "outputs": [
    {
     "name": "stdout",
     "output_type": "stream",
     "text": [
      "104/104 [==============================] - 0s 860us/step\n"
     ]
    }
   ],
   "source": [
    "test_pred = model.predict(X_test)\n",
    "\n",
    "y_test_class = y_test\n",
    "y_pred_class = np.argmax(test_pred,axis=1)\n"
   ]
  },
  {
   "cell_type": "code",
   "execution_count": 17,
   "id": "a21377c7",
   "metadata": {
    "scrolled": true
   },
   "outputs": [
    {
     "name": "stdout",
     "output_type": "stream",
     "text": [
      "              precision    recall  f1-score   support\n",
      "\n",
      "           0       0.81      0.89      0.85       964\n",
      "           1       0.25      0.17      0.20       248\n",
      "           2       0.34      0.21      0.26       316\n",
      "           3       0.47      0.45      0.46       628\n",
      "           4       0.79      0.88      0.83      1171\n",
      "\n",
      "    accuracy                           0.68      3327\n",
      "   macro avg       0.53      0.52      0.52      3327\n",
      "weighted avg       0.65      0.68      0.66      3327\n",
      "\n",
      "[[ 860   35   26   31   12]\n",
      " [ 108   41   34   56    9]\n",
      " [  38   55   66  131   26]\n",
      " [  27   27   63  284  227]\n",
      " [  25    5    7  107 1027]]\n"
     ]
    }
   ],
   "source": [
    "from sklearn.metrics import classification_report,confusion_matrix\n",
    "print(classification_report(y_test_class,y_pred_class))\n",
    "print(confusion_matrix(y_test_class,y_pred_class)) "
   ]
  }
 ],
 "metadata": {
  "kernelspec": {
   "display_name": "Python 3 (ipykernel)",
   "language": "python",
   "name": "python3"
  },
  "language_info": {
   "codemirror_mode": {
    "name": "ipython",
    "version": 3
   },
   "file_extension": ".py",
   "mimetype": "text/x-python",
   "name": "python",
   "nbconvert_exporter": "python",
   "pygments_lexer": "ipython3",
   "version": "3.9.12"
  }
 },
 "nbformat": 4,
 "nbformat_minor": 5
}
