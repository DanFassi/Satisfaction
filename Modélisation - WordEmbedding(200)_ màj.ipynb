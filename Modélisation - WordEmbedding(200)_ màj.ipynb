{
 "cells": [
  {
   "cell_type": "code",
   "execution_count": 1,
   "id": "c6975e9d",
   "metadata": {},
   "outputs": [],
   "source": [
    "import warnings\n",
    "warnings.filterwarnings('ignore')\n",
    "import time"
   ]
  },
  {
   "cell_type": "markdown",
   "id": "49441607",
   "metadata": {},
   "source": [
    "- Importation des modules\n",
    "- Chargement du fichier de données et retraitement du fichier de données\n",
    "- Transformation du DataFrame des MetaDonnée en Matrice"
   ]
  },
  {
   "cell_type": "code",
   "execution_count": 2,
   "id": "b34468dc",
   "metadata": {},
   "outputs": [],
   "source": [
    "import pandas as pd\n",
    "import numpy as np\n",
    "import gensim\n",
    "from sklearn.feature_extraction.text import CountVectorizer, TfidfVectorizer\n",
    "from sklearn.model_selection import train_test_split, GridSearchCV,cross_val_score\n",
    "from sklearn.ensemble import GradientBoostingClassifier,RandomForestClassifier\n",
    "from sklearn.svm import SVC\n",
    "from numba import jit\n",
    "\n",
    "df = pd.read_csv(\"Data_Satisfaction_retraitement2.csv\")\n",
    "\n",
    "df = df.drop(\"Unnamed: 0\",axis=1)\n",
    "df = df.dropna(axis = 0, how = \"all\", subset =[\"Commentaires_reduit\"])\n",
    "\n",
    "y = df[\"star\"]\n",
    "Meta_Matrix = df.drop([\"star\",\"Commentaires_reduit\"], axis =1).to_numpy()"
   ]
  },
  {
   "cell_type": "markdown",
   "id": "94d2f9e2",
   "metadata": {},
   "source": [
    "Importation du model WordEmbedding pré-entrainé"
   ]
  },
  {
   "cell_type": "code",
   "execution_count": 3,
   "id": "255d3c9d",
   "metadata": {},
   "outputs": [],
   "source": [
    "Comments_tokens = [text.split() for text in df[\"Commentaires_reduit\"]]\n",
    "import gensim.downloader as api\n",
    "model = api.load(\"glove-wiki-gigaword-200\")"
   ]
  },
  {
   "cell_type": "markdown",
   "id": "ff675441",
   "metadata": {},
   "source": [
    "Vectorization des commentaires en se basant sur la moyenne des vecteurs mots obtenus via vectorisation par le model."
   ]
  },
  {
   "cell_type": "code",
   "execution_count": 4,
   "id": "c31acbd9",
   "metadata": {},
   "outputs": [],
   "source": [
    "@jit\n",
    "def get_mean_vector(w2v_vectors, words):\n",
    "    words = [word for word in words if word in w2v_vectors]\n",
    "    if words:\n",
    "        avg_vector = np.mean(w2v_vectors[words], axis=0)\n",
    "    else:\n",
    "        avg_vector = np.zeros_like(w2v_vectors['hi'])\n",
    "    return avg_vector\n",
    "\n",
    "@jit\n",
    "def fit_w2v_avg(w2v_vectors,X_train_tokens):\n",
    "    X_vectors = np.array([get_mean_vector(w2v_vectors, words)\n",
    "                                for words in X_train_tokens])\n",
    "    return X_vectors\n",
    "    \n",
    "Com_Matrix = fit_w2v_avg(model,Comments_tokens)\n",
    "X = np.concatenate([Com_Matrix,Meta_Matrix],axis=1)\n",
    "X_train,X_test, y_train, y_test = train_test_split(X,y, test_size = 0.2, random_state = 100)"
   ]
  },
  {
   "cell_type": "markdown",
   "id": "37635fe2",
   "metadata": {},
   "source": [
    "Application Algorithme de GridSearch sur les modeles : GradientBoosting, RandomForest, et SVC"
   ]
  },
  {
   "cell_type": "code",
   "execution_count": 5,
   "id": "6ba99154",
   "metadata": {},
   "outputs": [],
   "source": [
    "@jit\n",
    "def modelisation(X_train,X_test):\n",
    "    gb = GradientBoostingClassifier()\n",
    "    rf = RandomForestClassifier()\n",
    "    svc = SVC()\n",
    "\n",
    "    param_grid_gb = {\"n_estimators\":[100,150,200], \"learning_rate\":[0.5,1.0,1.5], \"max_depth\": [1,2,3],\"random_state\" : [100] }\n",
    "    param_grid_svc = {'C':[0.1,1,10,30],\"kernel\" :[\"linear\", \"poly\", \"rbf\", \"sigmoid\"],\"random_state\" : [100] }\n",
    "    param_grid_rf = {'max_features': [\"sqrt\", \"log2\", None ],\"random_state\" : [100] }\n",
    "\n",
    "    gridcvs = {}\n",
    "    for pgrid, clf, name in zip((param_grid_gb, param_grid_rf, param_grid_svc),\n",
    "                                (gb, rf, svc),\n",
    "                                ('GB', 'RF', 'SVM')):\n",
    "        gcv = GridSearchCV(clf, pgrid, cv=5, n_jobs = -1, refit=True).fit(X_train,y_train)\n",
    "        gridcvs[name] = gcv\n",
    "    return gridcvs "
   ]
  },
  {
   "cell_type": "code",
   "execution_count": 6,
   "id": "3de286de",
   "metadata": {},
   "outputs": [
    {
     "name": "stdout",
     "output_type": "stream",
     "text": [
      "duration= 7512.034269809723\n"
     ]
    }
   ],
   "source": [
    "start = time.time()\n",
    "my_grid = modelisation(X_train,X_test)\n",
    "end = time.time()\n",
    "print(\"duration=\", end - start)"
   ]
  },
  {
   "cell_type": "markdown",
   "id": "b80339fa",
   "metadata": {},
   "source": [
    "Affichage des meilleurs parametres ainsi que des meilleurs score de précisions par models"
   ]
  },
  {
   "cell_type": "code",
   "execution_count": 7,
   "id": "9901a820",
   "metadata": {},
   "outputs": [
    {
     "name": "stdout",
     "output_type": "stream",
     "text": [
      "{'learning_rate': 0.5, 'max_depth': 1, 'n_estimators': 200, 'random_state': 100}\n",
      "{'max_features': None, 'random_state': 100}\n",
      "{'C': 1, 'kernel': 'rbf', 'random_state': 100}\n"
     ]
    }
   ],
   "source": [
    "print(my_grid[\"GB\"].best_params_)\n",
    "print(my_grid[\"RF\"].best_params_)\n",
    "print(my_grid[\"SVM\"].best_params_)"
   ]
  },
  {
   "cell_type": "code",
   "execution_count": 8,
   "id": "d87756ee",
   "metadata": {},
   "outputs": [
    {
     "name": "stdout",
     "output_type": "stream",
     "text": [
      "0.69179347397969\n",
      "0.6787921704019237\n",
      "0.6823237452464023\n"
     ]
    }
   ],
   "source": [
    "print(my_grid[\"GB\"].best_score_)\n",
    "print(my_grid[\"RF\"].best_score_)\n",
    "print(my_grid[\"SVM\"].best_score_)"
   ]
  },
  {
   "cell_type": "markdown",
   "id": "44b5d819",
   "metadata": {},
   "source": [
    "Application Algorithme de GridSearch sur le modèle de régression logistique"
   ]
  },
  {
   "cell_type": "code",
   "execution_count": 9,
   "id": "8b97b073",
   "metadata": {
    "scrolled": true
   },
   "outputs": [
    {
     "name": "stdout",
     "output_type": "stream",
     "text": [
      "{'C': 1, 'max_iter': 1000, 'random_state': 100}\n",
      "0.6806708244501157\n"
     ]
    }
   ],
   "source": [
    "from sklearn import linear_model \n",
    "from sklearn import model_selection\n",
    "from sklearn.model_selection import train_test_split\n",
    "\n",
    "rl = linear_model.LogisticRegression()\n",
    "param_grid_rl = { 'C':[0.1,1,10,30], 'max_iter' : [100,300,1000], \"random_state\" : [100]}\n",
    "grid_rl = model_selection.GridSearchCV(estimator=rl, param_grid= param_grid_rl )\n",
    "grid_rl.fit(X_train, y_train)\n",
    "\n",
    "print(grid_rl.best_params_)\n",
    "print(grid_rl .best_score_) "
   ]
  },
  {
   "cell_type": "markdown",
   "id": "9e410e13",
   "metadata": {},
   "source": [
    "Application du model ayant eu la meilleur précision sur les données d'entrainement au set de test."
   ]
  },
  {
   "cell_type": "code",
   "execution_count": 10,
   "id": "7ba79e25",
   "metadata": {},
   "outputs": [
    {
     "data": {
      "text/plain": [
       "0.6883077847911031"
      ]
     },
     "execution_count": 10,
     "metadata": {},
     "output_type": "execute_result"
    }
   ],
   "source": [
    "clf = GradientBoostingClassifier(n_estimators=200, learning_rate=0.5, max_depth=1, random_state=0).fit(X_train, y_train)\n",
    "clf.score(X_test,y_test)"
   ]
  },
  {
   "cell_type": "markdown",
   "id": "b89974fb",
   "metadata": {},
   "source": [
    "Création d'un réseau de neurone"
   ]
  },
  {
   "cell_type": "code",
   "execution_count": 11,
   "id": "2b0c48de",
   "metadata": {},
   "outputs": [],
   "source": [
    "from tensorflow.keras.layers import Input, Dense \n",
    "from tensorflow.keras.models import Model"
   ]
  },
  {
   "cell_type": "code",
   "execution_count": 12,
   "id": "9242c798",
   "metadata": {},
   "outputs": [],
   "source": [
    "y = y.replace(to_replace = [1,2,3,4,5], value = [0,1,2,3,4])\n",
    "X_train,X_test, y_train, y_test = train_test_split(X,y, test_size = 0.2, random_state = 100)"
   ]
  },
  {
   "cell_type": "code",
   "execution_count": 13,
   "id": "67b83d37",
   "metadata": {},
   "outputs": [
    {
     "name": "stdout",
     "output_type": "stream",
     "text": [
      "Model: \"model\"\n",
      "_________________________________________________________________\n",
      " Layer (type)                Output Shape              Param #   \n",
      "=================================================================\n",
      " Input (InputLayer)          [(None, 211)]             0         \n",
      "                                                                 \n",
      " Dense_1 (Dense)             (None, 141)               29892     \n",
      "                                                                 \n",
      " Dense_2 (Dense)             (None, 71)                10082     \n",
      "                                                                 \n",
      " Dense_3 (Dense)             (None, 5)                 360       \n",
      "                                                                 \n",
      "=================================================================\n",
      "Total params: 40,334\n",
      "Trainable params: 40,334\n",
      "Non-trainable params: 0\n",
      "_________________________________________________________________\n"
     ]
    }
   ],
   "source": [
    "X_train_dim = X_train.shape[1]\n",
    "inputs = Input(shape = X_train_dim, name = \"Input\")\n",
    "couche={}\n",
    "n = 3\n",
    "for i in range(1,n+1):\n",
    "    if i !=n:\n",
    "        couche[i] = Dense(units = X_train_dim-i*(X_train_dim//n), activation = \"tanh\", name = \"Dense_\"+str(i))\n",
    "    else:\n",
    "        couche[i] = Dense(units = 5, activation = \"softmax\", name = \"Dense_\"+str(i))\n",
    "\n",
    "x=couche[1](inputs)\n",
    "for i in range(2,n):   \n",
    "    x=couche[i](x)\n",
    "outputs=couche[n](x)\n",
    "    \n",
    "\n",
    "model = Model(inputs = inputs, outputs = outputs)\n",
    "model.summary()"
   ]
  },
  {
   "cell_type": "code",
   "execution_count": 14,
   "id": "4ba8d2ea",
   "metadata": {},
   "outputs": [],
   "source": [
    "from tensorflow.keras.callbacks import ReduceLROnPlateau\n",
    "reducelr = ReduceLROnPlateau(monitor = 'val_accuracy',\n",
    "                        min_delta = 0.001,\n",
    "                        patience = 10,\n",
    "                        factor = 0.5, \n",
    "                        cooldown = 10,\n",
    "                        verbose = 1)\n",
    "\n",
    "\n",
    "from tensorflow.keras.callbacks import EarlyStopping \n",
    "earlystop = EarlyStopping(monitor = 'val_accuracy',\n",
    "                    min_delta = 0.0001,\n",
    "                    patience = 30,\n",
    "                    verbose = 1,\n",
    "                    restore_best_weights = True)"
   ]
  },
  {
   "cell_type": "code",
   "execution_count": 15,
   "id": "3b0f7b64",
   "metadata": {},
   "outputs": [
    {
     "name": "stdout",
     "output_type": "stream",
     "text": [
      "Epoch 1/500\n",
      "80/80 [==============================] - 1s 4ms/step - loss: 0.9805 - accuracy: 0.6413 - val_loss: 0.8842 - val_accuracy: 0.6529 - lr: 0.0010\n",
      "Epoch 2/500\n",
      "80/80 [==============================] - 0s 2ms/step - loss: 0.8393 - accuracy: 0.6782 - val_loss: 0.8558 - val_accuracy: 0.6687 - lr: 0.0010\n",
      "Epoch 3/500\n",
      "80/80 [==============================] - 0s 2ms/step - loss: 0.8216 - accuracy: 0.6851 - val_loss: 0.8521 - val_accuracy: 0.6687 - lr: 0.0010\n",
      "Epoch 4/500\n",
      "80/80 [==============================] - 0s 1ms/step - loss: 0.8131 - accuracy: 0.6839 - val_loss: 0.8494 - val_accuracy: 0.6754 - lr: 0.0010\n",
      "Epoch 5/500\n",
      "80/80 [==============================] - 0s 2ms/step - loss: 0.8047 - accuracy: 0.6903 - val_loss: 0.8584 - val_accuracy: 0.6619 - lr: 0.0010\n",
      "Epoch 6/500\n",
      "80/80 [==============================] - 0s 2ms/step - loss: 0.8042 - accuracy: 0.6917 - val_loss: 0.8509 - val_accuracy: 0.6642 - lr: 0.0010\n",
      "Epoch 7/500\n",
      "80/80 [==============================] - 0s 2ms/step - loss: 0.7935 - accuracy: 0.6968 - val_loss: 0.8523 - val_accuracy: 0.6709 - lr: 0.0010\n",
      "Epoch 8/500\n",
      "80/80 [==============================] - 0s 2ms/step - loss: 0.7930 - accuracy: 0.6944 - val_loss: 0.8531 - val_accuracy: 0.6634 - lr: 0.0010\n",
      "Epoch 9/500\n",
      "80/80 [==============================] - 0s 1ms/step - loss: 0.7899 - accuracy: 0.6966 - val_loss: 0.8546 - val_accuracy: 0.6612 - lr: 0.0010\n",
      "Epoch 10/500\n",
      "80/80 [==============================] - 0s 1ms/step - loss: 0.7865 - accuracy: 0.6984 - val_loss: 0.8506 - val_accuracy: 0.6657 - lr: 0.0010\n",
      "Epoch 11/500\n",
      "80/80 [==============================] - 0s 1ms/step - loss: 0.7836 - accuracy: 0.7004 - val_loss: 0.8505 - val_accuracy: 0.6687 - lr: 0.0010\n",
      "Epoch 12/500\n",
      "80/80 [==============================] - 0s 1ms/step - loss: 0.7787 - accuracy: 0.7020 - val_loss: 0.8469 - val_accuracy: 0.6709 - lr: 0.0010\n",
      "Epoch 13/500\n",
      "80/80 [==============================] - 0s 2ms/step - loss: 0.7751 - accuracy: 0.7032 - val_loss: 0.8593 - val_accuracy: 0.6634 - lr: 0.0010\n",
      "Epoch 14/500\n",
      "43/80 [===============>..............] - ETA: 0s - loss: 0.7724 - accuracy: 0.7011\n",
      "Epoch 14: ReduceLROnPlateau reducing learning rate to 0.0005000000237487257.\n",
      "80/80 [==============================] - 0s 2ms/step - loss: 0.7703 - accuracy: 0.7053 - val_loss: 0.8529 - val_accuracy: 0.6679 - lr: 0.0010\n",
      "Epoch 15/500\n",
      "80/80 [==============================] - 0s 1ms/step - loss: 0.7581 - accuracy: 0.7076 - val_loss: 0.8451 - val_accuracy: 0.6769 - lr: 5.0000e-04\n",
      "Epoch 16/500\n",
      "80/80 [==============================] - 0s 2ms/step - loss: 0.7555 - accuracy: 0.7086 - val_loss: 0.8502 - val_accuracy: 0.6792 - lr: 5.0000e-04\n",
      "Epoch 17/500\n",
      "80/80 [==============================] - 0s 2ms/step - loss: 0.7544 - accuracy: 0.7108 - val_loss: 0.8468 - val_accuracy: 0.6694 - lr: 5.0000e-04\n",
      "Epoch 18/500\n",
      "80/80 [==============================] - 0s 1ms/step - loss: 0.7508 - accuracy: 0.7136 - val_loss: 0.8416 - val_accuracy: 0.6709 - lr: 5.0000e-04\n",
      "Epoch 19/500\n",
      "80/80 [==============================] - 0s 2ms/step - loss: 0.7493 - accuracy: 0.7115 - val_loss: 0.8430 - val_accuracy: 0.6709 - lr: 5.0000e-04\n",
      "Epoch 20/500\n",
      "80/80 [==============================] - 0s 1ms/step - loss: 0.7482 - accuracy: 0.7136 - val_loss: 0.8419 - val_accuracy: 0.6769 - lr: 5.0000e-04\n",
      "Epoch 21/500\n",
      "80/80 [==============================] - 0s 2ms/step - loss: 0.7449 - accuracy: 0.7138 - val_loss: 0.8450 - val_accuracy: 0.6754 - lr: 5.0000e-04\n",
      "Epoch 22/500\n",
      "80/80 [==============================] - 0s 2ms/step - loss: 0.7426 - accuracy: 0.7172 - val_loss: 0.8458 - val_accuracy: 0.6657 - lr: 5.0000e-04\n",
      "Epoch 23/500\n",
      "80/80 [==============================] - 0s 1ms/step - loss: 0.7390 - accuracy: 0.7168 - val_loss: 0.8445 - val_accuracy: 0.6777 - lr: 5.0000e-04\n",
      "Epoch 24/500\n",
      "80/80 [==============================] - 0s 2ms/step - loss: 0.7384 - accuracy: 0.7142 - val_loss: 0.8432 - val_accuracy: 0.6747 - lr: 5.0000e-04\n",
      "Epoch 25/500\n",
      "80/80 [==============================] - 0s 1ms/step - loss: 0.7347 - accuracy: 0.7203 - val_loss: 0.8429 - val_accuracy: 0.6769 - lr: 5.0000e-04\n",
      "Epoch 26/500\n",
      "80/80 [==============================] - 0s 2ms/step - loss: 0.7329 - accuracy: 0.7193 - val_loss: 0.8530 - val_accuracy: 0.6777 - lr: 5.0000e-04\n",
      "Epoch 27/500\n",
      "80/80 [==============================] - 0s 2ms/step - loss: 0.7320 - accuracy: 0.7192 - val_loss: 0.8428 - val_accuracy: 0.6724 - lr: 5.0000e-04\n",
      "Epoch 28/500\n",
      "80/80 [==============================] - 0s 2ms/step - loss: 0.7292 - accuracy: 0.7224 - val_loss: 0.8439 - val_accuracy: 0.6717 - lr: 5.0000e-04\n",
      "Epoch 29/500\n",
      "80/80 [==============================] - 0s 2ms/step - loss: 0.7272 - accuracy: 0.7262 - val_loss: 0.8369 - val_accuracy: 0.6702 - lr: 5.0000e-04\n",
      "Epoch 30/500\n",
      "80/80 [==============================] - 0s 2ms/step - loss: 0.7240 - accuracy: 0.7244 - val_loss: 0.8523 - val_accuracy: 0.6649 - lr: 5.0000e-04\n",
      "Epoch 31/500\n",
      "80/80 [==============================] - 0s 2ms/step - loss: 0.7207 - accuracy: 0.7251 - val_loss: 0.8436 - val_accuracy: 0.6717 - lr: 5.0000e-04\n",
      "Epoch 32/500\n",
      "80/80 [==============================] - 0s 1ms/step - loss: 0.7182 - accuracy: 0.7258 - val_loss: 0.8477 - val_accuracy: 0.6709 - lr: 5.0000e-04\n",
      "Epoch 33/500\n",
      "80/80 [==============================] - 0s 2ms/step - loss: 0.7163 - accuracy: 0.7284 - val_loss: 0.8488 - val_accuracy: 0.6814 - lr: 5.0000e-04\n",
      "Epoch 34/500\n",
      "80/80 [==============================] - 0s 1ms/step - loss: 0.7153 - accuracy: 0.7293 - val_loss: 0.8464 - val_accuracy: 0.6784 - lr: 5.0000e-04\n",
      "Epoch 35/500\n",
      "80/80 [==============================] - 0s 1ms/step - loss: 0.7092 - accuracy: 0.7284 - val_loss: 0.8415 - val_accuracy: 0.6814 - lr: 5.0000e-04\n",
      "Epoch 36/500\n",
      "80/80 [==============================] - 0s 1ms/step - loss: 0.7071 - accuracy: 0.7314 - val_loss: 0.8424 - val_accuracy: 0.6792 - lr: 5.0000e-04\n",
      "Epoch 37/500\n",
      "80/80 [==============================] - 0s 1ms/step - loss: 0.7043 - accuracy: 0.7322 - val_loss: 0.8384 - val_accuracy: 0.6807 - lr: 5.0000e-04\n",
      "Epoch 38/500\n",
      "80/80 [==============================] - 0s 1ms/step - loss: 0.7016 - accuracy: 0.7341 - val_loss: 0.8457 - val_accuracy: 0.6724 - lr: 5.0000e-04\n",
      "Epoch 39/500\n",
      "80/80 [==============================] - 0s 2ms/step - loss: 0.6984 - accuracy: 0.7360 - val_loss: 0.8424 - val_accuracy: 0.6860 - lr: 5.0000e-04\n",
      "Epoch 40/500\n",
      "80/80 [==============================] - 0s 1ms/step - loss: 0.6964 - accuracy: 0.7365 - val_loss: 0.8440 - val_accuracy: 0.6792 - lr: 5.0000e-04\n",
      "Epoch 41/500\n",
      "80/80 [==============================] - 0s 2ms/step - loss: 0.6932 - accuracy: 0.7383 - val_loss: 0.8414 - val_accuracy: 0.6829 - lr: 5.0000e-04\n",
      "Epoch 42/500\n",
      "80/80 [==============================] - 0s 2ms/step - loss: 0.6920 - accuracy: 0.7399 - val_loss: 0.8413 - val_accuracy: 0.6709 - lr: 5.0000e-04\n",
      "Epoch 43/500\n",
      "80/80 [==============================] - 0s 2ms/step - loss: 0.6867 - accuracy: 0.7416 - val_loss: 0.8397 - val_accuracy: 0.6852 - lr: 5.0000e-04\n",
      "Epoch 44/500\n",
      "80/80 [==============================] - 0s 1ms/step - loss: 0.6860 - accuracy: 0.7394 - val_loss: 0.8461 - val_accuracy: 0.6784 - lr: 5.0000e-04\n",
      "Epoch 45/500\n",
      "80/80 [==============================] - 0s 2ms/step - loss: 0.6820 - accuracy: 0.7437 - val_loss: 0.8435 - val_accuracy: 0.6837 - lr: 5.0000e-04\n",
      "Epoch 46/500\n",
      "80/80 [==============================] - 0s 1ms/step - loss: 0.6786 - accuracy: 0.7464 - val_loss: 0.8450 - val_accuracy: 0.6829 - lr: 5.0000e-04\n",
      "Epoch 47/500\n",
      "80/80 [==============================] - 0s 2ms/step - loss: 0.6784 - accuracy: 0.7459 - val_loss: 0.8410 - val_accuracy: 0.6822 - lr: 5.0000e-04\n",
      "Epoch 48/500\n",
      "80/80 [==============================] - 0s 2ms/step - loss: 0.6769 - accuracy: 0.7484 - val_loss: 0.8470 - val_accuracy: 0.6792 - lr: 5.0000e-04\n",
      "Epoch 49/500\n",
      "41/80 [==============>...............] - ETA: 0s - loss: 0.6784 - accuracy: 0.7433\n",
      "Epoch 49: ReduceLROnPlateau reducing learning rate to 0.0002500000118743628.\n",
      "80/80 [==============================] - 0s 2ms/step - loss: 0.6703 - accuracy: 0.7486 - val_loss: 0.8518 - val_accuracy: 0.6597 - lr: 5.0000e-04\n",
      "Epoch 50/500\n",
      "80/80 [==============================] - 0s 2ms/step - loss: 0.6602 - accuracy: 0.7536 - val_loss: 0.8459 - val_accuracy: 0.6799 - lr: 2.5000e-04\n"
     ]
    },
    {
     "name": "stdout",
     "output_type": "stream",
     "text": [
      "Epoch 51/500\n",
      "80/80 [==============================] - 0s 2ms/step - loss: 0.6583 - accuracy: 0.7553 - val_loss: 0.8453 - val_accuracy: 0.6814 - lr: 2.5000e-04\n",
      "Epoch 52/500\n",
      "80/80 [==============================] - 0s 1ms/step - loss: 0.6569 - accuracy: 0.7575 - val_loss: 0.8460 - val_accuracy: 0.6777 - lr: 2.5000e-04\n",
      "Epoch 53/500\n",
      "80/80 [==============================] - 0s 2ms/step - loss: 0.6552 - accuracy: 0.7556 - val_loss: 0.8463 - val_accuracy: 0.6829 - lr: 2.5000e-04\n",
      "Epoch 54/500\n",
      "80/80 [==============================] - 0s 2ms/step - loss: 0.6537 - accuracy: 0.7582 - val_loss: 0.8452 - val_accuracy: 0.6875 - lr: 2.5000e-04\n",
      "Epoch 55/500\n",
      "80/80 [==============================] - 0s 2ms/step - loss: 0.6515 - accuracy: 0.7587 - val_loss: 0.8432 - val_accuracy: 0.6860 - lr: 2.5000e-04\n",
      "Epoch 56/500\n",
      "80/80 [==============================] - 0s 2ms/step - loss: 0.6502 - accuracy: 0.7571 - val_loss: 0.8461 - val_accuracy: 0.6852 - lr: 2.5000e-04\n",
      "Epoch 57/500\n",
      "80/80 [==============================] - 0s 2ms/step - loss: 0.6492 - accuracy: 0.7601 - val_loss: 0.8478 - val_accuracy: 0.6837 - lr: 2.5000e-04\n",
      "Epoch 58/500\n",
      "80/80 [==============================] - 0s 2ms/step - loss: 0.6475 - accuracy: 0.7600 - val_loss: 0.8488 - val_accuracy: 0.6792 - lr: 2.5000e-04\n",
      "Epoch 59/500\n",
      "80/80 [==============================] - 0s 1ms/step - loss: 0.6453 - accuracy: 0.7610 - val_loss: 0.8489 - val_accuracy: 0.6837 - lr: 2.5000e-04\n",
      "Epoch 60/500\n",
      "80/80 [==============================] - 0s 1ms/step - loss: 0.6441 - accuracy: 0.7620 - val_loss: 0.8513 - val_accuracy: 0.6777 - lr: 2.5000e-04\n",
      "Epoch 61/500\n",
      "80/80 [==============================] - 0s 1ms/step - loss: 0.6415 - accuracy: 0.7616 - val_loss: 0.8479 - val_accuracy: 0.6814 - lr: 2.5000e-04\n",
      "Epoch 62/500\n",
      "80/80 [==============================] - 0s 2ms/step - loss: 0.6407 - accuracy: 0.7613 - val_loss: 0.8466 - val_accuracy: 0.6844 - lr: 2.5000e-04\n",
      "Epoch 63/500\n",
      "80/80 [==============================] - 0s 1ms/step - loss: 0.6388 - accuracy: 0.7628 - val_loss: 0.8482 - val_accuracy: 0.6837 - lr: 2.5000e-04\n",
      "Epoch 64/500\n",
      "80/80 [==============================] - 0s 1ms/step - loss: 0.6381 - accuracy: 0.7624 - val_loss: 0.8528 - val_accuracy: 0.6829 - lr: 2.5000e-04\n",
      "Epoch 65/500\n",
      "80/80 [==============================] - 0s 2ms/step - loss: 0.6365 - accuracy: 0.7628 - val_loss: 0.8478 - val_accuracy: 0.6829 - lr: 2.5000e-04\n",
      "Epoch 66/500\n",
      "80/80 [==============================] - 0s 1ms/step - loss: 0.6343 - accuracy: 0.7658 - val_loss: 0.8547 - val_accuracy: 0.6784 - lr: 2.5000e-04\n",
      "Epoch 67/500\n",
      "80/80 [==============================] - 0s 1ms/step - loss: 0.6311 - accuracy: 0.7665 - val_loss: 0.8573 - val_accuracy: 0.6860 - lr: 2.5000e-04\n",
      "Epoch 68/500\n",
      "44/80 [===============>..............] - ETA: 0s - loss: 0.6278 - accuracy: 0.7680\n",
      "Epoch 68: ReduceLROnPlateau reducing learning rate to 0.0001250000059371814.\n",
      "80/80 [==============================] - 0s 1ms/step - loss: 0.6301 - accuracy: 0.7666 - val_loss: 0.8529 - val_accuracy: 0.6875 - lr: 2.5000e-04\n",
      "Epoch 69/500\n",
      "80/80 [==============================] - 0s 2ms/step - loss: 0.6251 - accuracy: 0.7697 - val_loss: 0.8521 - val_accuracy: 0.6875 - lr: 1.2500e-04\n",
      "Epoch 70/500\n",
      "80/80 [==============================] - 0s 1ms/step - loss: 0.6242 - accuracy: 0.7682 - val_loss: 0.8529 - val_accuracy: 0.6867 - lr: 1.2500e-04\n",
      "Epoch 71/500\n",
      "80/80 [==============================] - 0s 2ms/step - loss: 0.6238 - accuracy: 0.7677 - val_loss: 0.8521 - val_accuracy: 0.6844 - lr: 1.2500e-04\n",
      "Epoch 72/500\n",
      "80/80 [==============================] - 0s 1ms/step - loss: 0.6218 - accuracy: 0.7712 - val_loss: 0.8519 - val_accuracy: 0.6867 - lr: 1.2500e-04\n",
      "Epoch 73/500\n",
      "80/80 [==============================] - 0s 1ms/step - loss: 0.6207 - accuracy: 0.7740 - val_loss: 0.8523 - val_accuracy: 0.6852 - lr: 1.2500e-04\n",
      "Epoch 74/500\n",
      "80/80 [==============================] - 0s 1ms/step - loss: 0.6209 - accuracy: 0.7704 - val_loss: 0.8548 - val_accuracy: 0.6792 - lr: 1.2500e-04\n",
      "Epoch 75/500\n",
      "80/80 [==============================] - 0s 1ms/step - loss: 0.6193 - accuracy: 0.7720 - val_loss: 0.8541 - val_accuracy: 0.6852 - lr: 1.2500e-04\n",
      "Epoch 76/500\n",
      "80/80 [==============================] - 0s 1ms/step - loss: 0.6189 - accuracy: 0.7727 - val_loss: 0.8562 - val_accuracy: 0.6875 - lr: 1.2500e-04\n",
      "Epoch 77/500\n",
      "80/80 [==============================] - 0s 1ms/step - loss: 0.6178 - accuracy: 0.7727 - val_loss: 0.8575 - val_accuracy: 0.6852 - lr: 1.2500e-04\n",
      "Epoch 78/500\n",
      "80/80 [==============================] - 0s 2ms/step - loss: 0.6165 - accuracy: 0.7744 - val_loss: 0.8560 - val_accuracy: 0.6890 - lr: 1.2500e-04\n",
      "Epoch 79/500\n",
      "80/80 [==============================] - 0s 1ms/step - loss: 0.6162 - accuracy: 0.7731 - val_loss: 0.8567 - val_accuracy: 0.6822 - lr: 1.2500e-04\n",
      "Epoch 80/500\n",
      "80/80 [==============================] - 0s 2ms/step - loss: 0.6153 - accuracy: 0.7735 - val_loss: 0.8550 - val_accuracy: 0.6837 - lr: 1.2500e-04\n",
      "Epoch 81/500\n",
      "80/80 [==============================] - 0s 1ms/step - loss: 0.6138 - accuracy: 0.7737 - val_loss: 0.8556 - val_accuracy: 0.6844 - lr: 1.2500e-04\n",
      "Epoch 82/500\n",
      "80/80 [==============================] - 0s 1ms/step - loss: 0.6136 - accuracy: 0.7735 - val_loss: 0.8566 - val_accuracy: 0.6799 - lr: 1.2500e-04\n",
      "Epoch 83/500\n",
      "80/80 [==============================] - 0s 1ms/step - loss: 0.6130 - accuracy: 0.7765 - val_loss: 0.8570 - val_accuracy: 0.6844 - lr: 1.2500e-04\n",
      "Epoch 84/500\n",
      "80/80 [==============================] - 0s 1ms/step - loss: 0.6118 - accuracy: 0.7760 - val_loss: 0.8554 - val_accuracy: 0.6867 - lr: 1.2500e-04\n",
      "Epoch 85/500\n",
      "80/80 [==============================] - 0s 1ms/step - loss: 0.6103 - accuracy: 0.7763 - val_loss: 0.8618 - val_accuracy: 0.6739 - lr: 1.2500e-04\n",
      "Epoch 86/500\n",
      "80/80 [==============================] - 0s 1ms/step - loss: 0.6100 - accuracy: 0.7764 - val_loss: 0.8615 - val_accuracy: 0.6792 - lr: 1.2500e-04\n",
      "Epoch 87/500\n",
      "80/80 [==============================] - 0s 1ms/step - loss: 0.6091 - accuracy: 0.7767 - val_loss: 0.8588 - val_accuracy: 0.6844 - lr: 1.2500e-04\n",
      "Epoch 88/500\n",
      "45/80 [===============>..............] - ETA: 0s - loss: 0.6131 - accuracy: 0.7733\n",
      "Epoch 88: ReduceLROnPlateau reducing learning rate to 6.25000029685907e-05.\n",
      "80/80 [==============================] - 0s 1ms/step - loss: 0.6085 - accuracy: 0.7754 - val_loss: 0.8583 - val_accuracy: 0.6837 - lr: 1.2500e-04\n",
      "Epoch 89/500\n",
      "80/80 [==============================] - 0s 1ms/step - loss: 0.6053 - accuracy: 0.7779 - val_loss: 0.8574 - val_accuracy: 0.6875 - lr: 6.2500e-05\n",
      "Epoch 90/500\n",
      "80/80 [==============================] - 0s 1ms/step - loss: 0.6044 - accuracy: 0.7803 - val_loss: 0.8573 - val_accuracy: 0.6837 - lr: 6.2500e-05\n",
      "Epoch 91/500\n",
      "80/80 [==============================] - 0s 1ms/step - loss: 0.6042 - accuracy: 0.7790 - val_loss: 0.8574 - val_accuracy: 0.6844 - lr: 6.2500e-05\n",
      "Epoch 92/500\n",
      "80/80 [==============================] - 0s 1ms/step - loss: 0.6039 - accuracy: 0.7779 - val_loss: 0.8588 - val_accuracy: 0.6844 - lr: 6.2500e-05\n",
      "Epoch 93/500\n",
      "80/80 [==============================] - 0s 1ms/step - loss: 0.6033 - accuracy: 0.7797 - val_loss: 0.8585 - val_accuracy: 0.6829 - lr: 6.2500e-05\n",
      "Epoch 94/500\n",
      "80/80 [==============================] - 0s 1ms/step - loss: 0.6028 - accuracy: 0.7800 - val_loss: 0.8585 - val_accuracy: 0.6867 - lr: 6.2500e-05\n",
      "Epoch 95/500\n",
      "80/80 [==============================] - 0s 2ms/step - loss: 0.6022 - accuracy: 0.7794 - val_loss: 0.8592 - val_accuracy: 0.6837 - lr: 6.2500e-05\n",
      "Epoch 96/500\n",
      "80/80 [==============================] - 0s 1ms/step - loss: 0.6017 - accuracy: 0.7805 - val_loss: 0.8588 - val_accuracy: 0.6814 - lr: 6.2500e-05\n",
      "Epoch 97/500\n",
      "80/80 [==============================] - 0s 1ms/step - loss: 0.6014 - accuracy: 0.7813 - val_loss: 0.8594 - val_accuracy: 0.6829 - lr: 6.2500e-05\n",
      "Epoch 98/500\n",
      "80/80 [==============================] - 0s 2ms/step - loss: 0.6015 - accuracy: 0.7810 - val_loss: 0.8586 - val_accuracy: 0.6852 - lr: 6.2500e-05\n",
      "Epoch 99/500\n",
      "80/80 [==============================] - 0s 1ms/step - loss: 0.6005 - accuracy: 0.7814 - val_loss: 0.8593 - val_accuracy: 0.6852 - lr: 6.2500e-05\n",
      "Epoch 100/500\n"
     ]
    },
    {
     "name": "stdout",
     "output_type": "stream",
     "text": [
      "80/80 [==============================] - 0s 1ms/step - loss: 0.6000 - accuracy: 0.7800 - val_loss: 0.8596 - val_accuracy: 0.6844 - lr: 6.2500e-05\n",
      "Epoch 101/500\n",
      "80/80 [==============================] - 0s 1ms/step - loss: 0.5997 - accuracy: 0.7822 - val_loss: 0.8591 - val_accuracy: 0.6867 - lr: 6.2500e-05\n",
      "Epoch 102/500\n",
      "80/80 [==============================] - 0s 2ms/step - loss: 0.5992 - accuracy: 0.7823 - val_loss: 0.8614 - val_accuracy: 0.6844 - lr: 6.2500e-05\n",
      "Epoch 103/500\n",
      "80/80 [==============================] - 0s 2ms/step - loss: 0.5988 - accuracy: 0.7816 - val_loss: 0.8615 - val_accuracy: 0.6814 - lr: 6.2500e-05\n",
      "Epoch 104/500\n",
      "80/80 [==============================] - 0s 1ms/step - loss: 0.5985 - accuracy: 0.7804 - val_loss: 0.8606 - val_accuracy: 0.6822 - lr: 6.2500e-05\n",
      "Epoch 105/500\n",
      "80/80 [==============================] - 0s 2ms/step - loss: 0.5980 - accuracy: 0.7819 - val_loss: 0.8610 - val_accuracy: 0.6829 - lr: 6.2500e-05\n",
      "Epoch 106/500\n",
      "80/80 [==============================] - 0s 1ms/step - loss: 0.5971 - accuracy: 0.7807 - val_loss: 0.8599 - val_accuracy: 0.6882 - lr: 6.2500e-05\n",
      "Epoch 107/500\n",
      "45/80 [===============>..............] - ETA: 0s - loss: 0.5911 - accuracy: 0.7850\n",
      "Epoch 107: ReduceLROnPlateau reducing learning rate to 3.125000148429535e-05.\n",
      "80/80 [==============================] - 0s 1ms/step - loss: 0.5970 - accuracy: 0.7823 - val_loss: 0.8612 - val_accuracy: 0.6814 - lr: 6.2500e-05\n",
      "Epoch 108/500\n",
      "51/80 [==================>...........] - ETA: 0s - loss: 0.5956 - accuracy: 0.7852Restoring model weights from the end of the best epoch: 78.\n",
      "80/80 [==============================] - 0s 2ms/step - loss: 0.5955 - accuracy: 0.7843 - val_loss: 0.8607 - val_accuracy: 0.6829 - lr: 3.1250e-05\n",
      "Epoch 108: early stopping\n"
     ]
    }
   ],
   "source": [
    "model.compile(loss = \"sparse_categorical_crossentropy\",\n",
    "              optimizer = \"adam\",\n",
    "              metrics = [\"accuracy\"])\n",
    "model_history = model.fit(X_train,y_train,epochs=500,batch_size=150,validation_split=0.1, callbacks = [reducelr, earlystop])"
   ]
  },
  {
   "cell_type": "code",
   "execution_count": 16,
   "id": "e58a7892",
   "metadata": {},
   "outputs": [
    {
     "data": {
      "image/png": "[encoded data removed]",
      "text/plain": [
       "<Figure size 432x288 with 1 Axes>"
      ]
     },
     "metadata": {
      "needs_background": "light"
     },
     "output_type": "display_data"
    }
   ],
   "source": [
    "import matplotlib.pyplot as plt\n",
    "\n",
    "train_acc = model_history.history['accuracy']\n",
    "val_acc = model_history.history['val_accuracy']\n",
    "\n",
    "plt.xlabel('Epochs')\n",
    "plt.ylabel('Accuracy')\n",
    "\n",
    "plt.plot(np.arange(1 , max(model_history.epoch)+2, 1),\n",
    "         model_history.history['accuracy'],\n",
    "         label = 'Training Accuracy',\n",
    "         color = 'blue')\n",
    "\n",
    "plt.plot(np.arange(1 , max(model_history.epoch)+2, 1),\n",
    "         model_history.history['val_accuracy'], \n",
    "         label = 'Validation Accuracy',\n",
    "         color = 'red')\n",
    "\n",
    "plt.legend()\n",
    "plt.show()"
   ]
  },
  {
   "cell_type": "code",
   "execution_count": 19,
   "id": "00c21c92",
   "metadata": {},
   "outputs": [
    {
     "data": {
      "image/png": "[encoded data removed]",
      "text/plain": [
       "<Figure size 432x288 with 1 Axes>"
      ]
     },
     "metadata": {
      "needs_background": "light"
     },
     "output_type": "display_data"
    }
   ],
   "source": [
    "\n",
    "plt.xlabel('Epochs')\n",
    "plt.ylabel('Loss')\n",
    "\n",
    "plt.plot(np.arange(1 , max(model_history.epoch)+2, 1),\n",
    "         model_history.history['loss'],\n",
    "         label = 'Training Loss',\n",
    "         color = 'blue')\n",
    "\n",
    "plt.plot(np.arange(1 , max(model_history.epoch)+2, 1),\n",
    "         model_history.history['val_loss'], \n",
    "         label = 'Validation Loss',\n",
    "         color = 'red')\n",
    "\n",
    "plt.legend()\n",
    "plt.show()"
   ]
  },
  {
   "cell_type": "markdown",
   "id": "ec42c04f",
   "metadata": {},
   "source": [
    "Estimation de la performance du reseau de neurone"
   ]
  },
  {
   "cell_type": "code",
   "execution_count": 17,
   "id": "5b6cfe7b",
   "metadata": {},
   "outputs": [
    {
     "name": "stdout",
     "output_type": "stream",
     "text": [
      "104/104 [==============================] - 0s 758us/step\n"
     ]
    }
   ],
   "source": [
    "test_pred = model.predict(X_test)\n",
    "\n",
    "y_test_class = y_test\n",
    "y_pred_class = np.argmax(test_pred,axis=1)\n"
   ]
  },
  {
   "cell_type": "code",
   "execution_count": 18,
   "id": "2c98fc7b",
   "metadata": {},
   "outputs": [
    {
     "name": "stdout",
     "output_type": "stream",
     "text": [
      "              precision    recall  f1-score   support\n",
      "\n",
      "           0       0.80      0.90      0.85       964\n",
      "           1       0.21      0.11      0.15       248\n",
      "           2       0.30      0.23      0.26       316\n",
      "           3       0.44      0.46      0.45       628\n",
      "           4       0.81      0.83      0.82      1171\n",
      "\n",
      "    accuracy                           0.67      3327\n",
      "   macro avg       0.51      0.51      0.50      3327\n",
      "weighted avg       0.64      0.67      0.65      3327\n",
      "\n",
      "[[868  19  26  38  13]\n",
      " [ 95  28  47  66  12]\n",
      " [ 41  38  72 139  26]\n",
      " [ 41  34  78 292 183]\n",
      " [ 40  14  20 129 968]]\n"
     ]
    }
   ],
   "source": [
    "from sklearn.metrics import classification_report,confusion_matrix\n",
    "print(classification_report(y_test_class,y_pred_class))\n",
    "print(confusion_matrix(y_test_class,y_pred_class)) "
   ]
  }
 ],
 "metadata": {
  "kernelspec": {
   "display_name": "Python 3 (ipykernel)",
   "language": "python",
   "name": "python3"
  },
  "language_info": {
   "codemirror_mode": {
    "name": "ipython",
    "version": 3
   },
   "file_extension": ".py",
   "mimetype": "text/x-python",
   "name": "python",
   "nbconvert_exporter": "python",
   "pygments_lexer": "ipython3",
   "version": "3.9.12"
  }
 },
 "nbformat": 4,
 "nbformat_minor": 5
}
